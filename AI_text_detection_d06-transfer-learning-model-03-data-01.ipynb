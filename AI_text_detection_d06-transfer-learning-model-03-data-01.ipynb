{
 "cells": [
  {
   "cell_type": "code",
   "execution_count": 1,
   "id": "24482b4c",
   "metadata": {
    "_cell_guid": "b1076dfc-b9ad-4769-8c92-a6c4dae69d19",
    "_uuid": "8f2839f25d086af736a60e9eeb907d3b93b6e0e5",
    "execution": {
     "iopub.execute_input": "2023-12-19T14:37:16.592263Z",
     "iopub.status.busy": "2023-12-19T14:37:16.591923Z",
     "iopub.status.idle": "2023-12-19T14:37:17.320954Z",
     "shell.execute_reply": "2023-12-19T14:37:17.319864Z"
    },
    "papermill": {
     "duration": 0.740271,
     "end_time": "2023-12-19T14:37:17.323882",
     "exception": false,
     "start_time": "2023-12-19T14:37:16.583611",
     "status": "completed"
    },
    "tags": []
   },
   "outputs": [
    {
     "name": "stdout",
     "output_type": "stream",
     "text": [
      "/kaggle/input/llm-detect-ai-generated-text/sample_submission.csv\n",
      "/kaggle/input/llm-detect-ai-generated-text/train_prompts.csv\n",
      "/kaggle/input/llm-detect-ai-generated-text/test_essays.csv\n",
      "/kaggle/input/llm-detect-ai-generated-text/train_essays.csv\n",
      "/kaggle/input/llm-7-prompt-training-dataset/train_essays_RDizzl3_seven_v2.csv\n",
      "/kaggle/input/llm-7-prompt-training-dataset/train_essays_7_prompts_v2.csv\n",
      "/kaggle/input/llm-7-prompt-training-dataset/train_essays_7_prompts.csv\n",
      "/kaggle/input/llm-7-prompt-training-dataset/train_essays_RDizzl3_seven_v1.csv\n",
      "/kaggle/input/bert/tensorflow2/bert-en-uncased-l-12-h-768-a-12/2/saved_model.pb\n",
      "/kaggle/input/bert/tensorflow2/bert-en-uncased-l-12-h-768-a-12/2/keras_metadata.pb\n",
      "/kaggle/input/bert/tensorflow2/bert-en-uncased-l-12-h-768-a-12/2/assets/vocab.txt\n",
      "/kaggle/input/bert/tensorflow2/bert-en-uncased-l-12-h-768-a-12/2/variables/variables.index\n",
      "/kaggle/input/bert/tensorflow2/bert-en-uncased-l-12-h-768-a-12/2/variables/variables.data-00000-of-00001\n",
      "/kaggle/input/bert/tensorflow2/en-uncased-preprocess/3/saved_model.pb\n",
      "/kaggle/input/bert/tensorflow2/en-uncased-preprocess/3/keras_metadata.pb\n",
      "/kaggle/input/bert/tensorflow2/en-uncased-preprocess/3/assets/vocab.txt\n",
      "/kaggle/input/bert/tensorflow2/en-uncased-preprocess/3/variables/variables.index\n",
      "/kaggle/input/bert/tensorflow2/en-uncased-preprocess/3/variables/variables.data-00000-of-00001\n"
     ]
    }
   ],
   "source": [
    "# This Python 3 environment comes with many helpful analytics libraries installed\n",
    "# It is defined by the kaggle/python Docker image: https://github.com/kaggle/docker-python\n",
    "# For example, here's several helpful packages to load\n",
    "\n",
    "import numpy as np # linear algebra\n",
    "import pandas as pd # data processing, CSV file I/O (e.g. pd.read_csv)\n",
    "\n",
    "# Input data files are available in the read-only \"../input/\" directory\n",
    "# For example, running this (by clicking run or pressing Shift+Enter) will list all files under the input directory\n",
    "\n",
    "import os\n",
    "for dirname, _, filenames in os.walk('/kaggle/input'):\n",
    "    for filename in filenames:\n",
    "        print(os.path.join(dirname, filename))\n",
    "\n",
    "# You can write up to 20GB to the current directory (/kaggle/working/) that gets preserved as output when you create a version using \"Save & Run All\" \n",
    "# You can also write temporary files to /kaggle/temp/, but they won't be saved outside of the current session"
   ]
  },
  {
   "cell_type": "code",
   "execution_count": 2,
   "id": "bfea4e47",
   "metadata": {
    "execution": {
     "iopub.execute_input": "2023-12-19T14:37:17.339536Z",
     "iopub.status.busy": "2023-12-19T14:37:17.339117Z",
     "iopub.status.idle": "2023-12-19T14:37:29.421327Z",
     "shell.execute_reply": "2023-12-19T14:37:29.420492Z"
    },
    "papermill": {
     "duration": 12.091728,
     "end_time": "2023-12-19T14:37:29.423571",
     "exception": false,
     "start_time": "2023-12-19T14:37:17.331843",
     "status": "completed"
    },
    "tags": []
   },
   "outputs": [
    {
     "name": "stderr",
     "output_type": "stream",
     "text": [
      "/opt/conda/lib/python3.10/site-packages/scipy/__init__.py:146: UserWarning: A NumPy version >=1.16.5 and <1.23.0 is required for this version of SciPy (detected version 1.24.3\n",
      "  warnings.warn(f\"A NumPy version >={np_minversion} and <{np_maxversion}\"\n"
     ]
    }
   ],
   "source": [
    "import tensorflow_text as text\n",
    "import tensorflow_hub as hub\n",
    "import tensorflow as tf\n",
    "import random\n",
    "import tqdm\n",
    "from tqdm import tqdm\n",
    "import copy"
   ]
  },
  {
   "cell_type": "code",
   "execution_count": 3,
   "id": "88e116fa",
   "metadata": {
    "execution": {
     "iopub.execute_input": "2023-12-19T14:37:29.439600Z",
     "iopub.status.busy": "2023-12-19T14:37:29.439056Z",
     "iopub.status.idle": "2023-12-19T14:37:30.234446Z",
     "shell.execute_reply": "2023-12-19T14:37:30.233643Z"
    },
    "papermill": {
     "duration": 0.80648,
     "end_time": "2023-12-19T14:37:30.236894",
     "exception": false,
     "start_time": "2023-12-19T14:37:29.430414",
     "status": "completed"
    },
    "tags": []
   },
   "outputs": [],
   "source": [
    "train_essays_01_source = pd.read_csv('/kaggle/input/llm-7-prompt-training-dataset/train_essays_7_prompts_v2.csv')\n",
    "\n",
    "#Slicing the dataset with different labels\n",
    "train_essays_01_source_label_1 = train_essays_01_source[train_essays_01_source['label'] == 1].reset_index(drop = True)  \n",
    "train_essays_01_source_label_0 = train_essays_01_source[train_essays_01_source['label'] == 0].reset_index(drop = True)\n",
    "\n",
    "#Set number of data points required from each label\n",
    "#Creating new data set with data sampled from each labels\n",
    "label_1_count = 1638 #1638 data points available\n",
    "label_0_count = 13712 #13712 data points available\n",
    "\n",
    "essay_dataset_raw = pd.concat([train_essays_01_source_label_1.sample(n= label_1_count, random_state = 36, axis = 0), \n",
    "                         train_essays_01_source_label_0.sample(n= label_0_count, random_state = 36, axis = 0)], \n",
    "                        axis = 0, sort = True).sample(frac = 1)"
   ]
  },
  {
   "cell_type": "code",
   "execution_count": 4,
   "id": "c1b1041e",
   "metadata": {
    "execution": {
     "iopub.execute_input": "2023-12-19T14:37:30.269852Z",
     "iopub.status.busy": "2023-12-19T14:37:30.268831Z",
     "iopub.status.idle": "2023-12-19T14:37:49.578530Z",
     "shell.execute_reply": "2023-12-19T14:37:49.577559Z"
    },
    "papermill": {
     "duration": 19.320542,
     "end_time": "2023-12-19T14:37:49.580786",
     "exception": false,
     "start_time": "2023-12-19T14:37:30.260244",
     "status": "completed"
    },
    "tags": []
   },
   "outputs": [],
   "source": [
    "#Bert encoder\n",
    "\n",
    "text_input = tf.keras.layers.Input(shape=(), dtype=tf.string)\n",
    "preprocessor = hub.KerasLayer(\n",
    "    \"https://kaggle.com/models/tensorflow/bert/frameworks/TensorFlow2/variations/en-uncased-preprocess/versions/3\")\n",
    "encoder_inputs = preprocessor(text_input)\n",
    "encoder = hub.KerasLayer(\n",
    "    \"https://www.kaggle.com/models/tensorflow/bert/frameworks/TensorFlow2/variations/bert-en-uncased-l-12-h-768-a-12/versions/2\",trainable=False)\n",
    "outputs = encoder(encoder_inputs)\n",
    "pooled_output = outputs[\"pooled_output\"]      # [batch_size, 768].\n",
    "sequence_output = outputs[\"sequence_output\"]  # [batch_size, seq_length, 768]."
   ]
  },
  {
   "cell_type": "code",
   "execution_count": 5,
   "id": "eddbd551",
   "metadata": {
    "execution": {
     "iopub.execute_input": "2023-12-19T14:37:49.595428Z",
     "iopub.status.busy": "2023-12-19T14:37:49.595133Z",
     "iopub.status.idle": "2023-12-19T14:37:49.602992Z",
     "shell.execute_reply": "2023-12-19T14:37:49.602280Z"
    },
    "papermill": {
     "duration": 0.017233,
     "end_time": "2023-12-19T14:37:49.604787",
     "exception": false,
     "start_time": "2023-12-19T14:37:49.587554",
     "status": "completed"
    },
    "tags": []
   },
   "outputs": [],
   "source": [
    "encoder_model = tf.keras.Model(inputs=text_input, outputs=sequence_output)"
   ]
  },
  {
   "cell_type": "code",
   "execution_count": 6,
   "id": "923f17e3",
   "metadata": {
    "execution": {
     "iopub.execute_input": "2023-12-19T14:37:49.618492Z",
     "iopub.status.busy": "2023-12-19T14:37:49.618222Z",
     "iopub.status.idle": "2023-12-19T14:40:11.004567Z",
     "shell.execute_reply": "2023-12-19T14:40:11.003382Z"
    },
    "papermill": {
     "duration": 141.395527,
     "end_time": "2023-12-19T14:40:11.006649",
     "exception": false,
     "start_time": "2023-12-19T14:37:49.611122",
     "status": "completed"
    },
    "tags": []
   },
   "outputs": [
    {
     "name": "stderr",
     "output_type": "stream",
     "text": [
      "/opt/conda/lib/python3.10/site-packages/numpy/core/fromnumeric.py:57: FutureWarning: 'Series.swapaxes' is deprecated and will be removed in a future version. Please use 'Series.transpose' instead.\n",
      "  return bound(*args, **kwds)\n",
      "100%|██████████| 153/153 [02:08<00:00,  1.19it/s]\n"
     ]
    },
    {
     "name": "stdout",
     "output_type": "stream",
     "text": [
      "CPU times: user 2min 31s, sys: 31.7 s, total: 3min 3s\n",
      "Wall time: 2min 21s\n"
     ]
    }
   ],
   "source": [
    "%%time\n",
    "batch_size = 100\n",
    "num_batches = len(essay_dataset_raw)//batch_size\n",
    "\n",
    "essay_dataset_raw_batches = np.array_split(essay_dataset_raw.iloc[:,1], num_batches)\n",
    "essay_dataset_raw_batch_list = []\n",
    "i = 0\n",
    "\n",
    "for batch in tqdm(essay_dataset_raw_batches):\n",
    "    i+=1\n",
    "    encoded_essay_batch = encoder_model(batch)\n",
    "    essay_dataset_raw_batch_list.append(encoded_essay_batch)\n",
    "    \n",
    "    if i%100 == 0:\n",
    "        encoded_essay = np.concatenate(essay_dataset_raw_batch_list, axis = 0)\n",
    "        del essay_dataset_raw_batch_list\n",
    "        essay_dataset_raw_batch_list = [encoded_essay]\n",
    "    \n",
    "    \n",
    "encoded_essay = tf.convert_to_tensor(np.concatenate(essay_dataset_raw_batch_list, axis = 0))"
   ]
  },
  {
   "cell_type": "code",
   "execution_count": 7,
   "id": "9e350837",
   "metadata": {
    "execution": {
     "iopub.execute_input": "2023-12-19T14:40:11.047011Z",
     "iopub.status.busy": "2023-12-19T14:40:11.046638Z",
     "iopub.status.idle": "2023-12-19T14:40:11.181173Z",
     "shell.execute_reply": "2023-12-19T14:40:11.180376Z"
    },
    "papermill": {
     "duration": 0.156727,
     "end_time": "2023-12-19T14:40:11.183444",
     "exception": false,
     "start_time": "2023-12-19T14:40:11.026717",
     "status": "completed"
    },
    "tags": []
   },
   "outputs": [],
   "source": [
    "del essay_dataset_raw_batches\n",
    "del essay_dataset_raw_batch_list"
   ]
  },
  {
   "cell_type": "code",
   "execution_count": 8,
   "id": "70492629",
   "metadata": {
    "execution": {
     "iopub.execute_input": "2023-12-19T14:40:11.222752Z",
     "iopub.status.busy": "2023-12-19T14:40:11.222200Z",
     "iopub.status.idle": "2023-12-19T14:40:11.239115Z",
     "shell.execute_reply": "2023-12-19T14:40:11.238226Z"
    },
    "papermill": {
     "duration": 0.038253,
     "end_time": "2023-12-19T14:40:11.241038",
     "exception": false,
     "start_time": "2023-12-19T14:40:11.202785",
     "status": "completed"
    },
    "tags": []
   },
   "outputs": [],
   "source": [
    "#Train:CV:Test :: i:j:k \n",
    "i, j, k = 40, 30, 1\n",
    "\n",
    "fraction_size = len(encoded_essay)//(i+j+k)\n",
    "encoded_essay_train, encoded_essay_CV, encoded_essay_test = tf.split(encoded_essay, [fraction_size*i, fraction_size*j, len(encoded_essay)-fraction_size*(i+j)], 0)\n",
    "\n",
    "label_train, label_CV, label_test = tf.split(essay_dataset_raw['label'], [fraction_size*i, fraction_size*j, len(essay_dataset_raw)-fraction_size*(i+j)], 0)"
   ]
  },
  {
   "cell_type": "code",
   "execution_count": 9,
   "id": "e671184e",
   "metadata": {
    "execution": {
     "iopub.execute_input": "2023-12-19T14:40:11.280015Z",
     "iopub.status.busy": "2023-12-19T14:40:11.279653Z",
     "iopub.status.idle": "2023-12-19T14:40:11.400657Z",
     "shell.execute_reply": "2023-12-19T14:40:11.399739Z"
    },
    "papermill": {
     "duration": 0.143282,
     "end_time": "2023-12-19T14:40:11.402962",
     "exception": false,
     "start_time": "2023-12-19T14:40:11.259680",
     "status": "completed"
    },
    "tags": []
   },
   "outputs": [],
   "source": [
    "import tensorflow as tf\n",
    "from tensorflow.keras import layers\n",
    "\n",
    "# Import your input embeddings\n",
    "input_embeddings = tf.keras.Input(shape=(128, 768, ))\n",
    "\n",
    "# Apply pooling right after the input layer\n",
    "pooled_input = layers.GlobalMaxPooling1D()(input_embeddings)\n",
    "\n",
    "# Reshape pooled input to add singleton dimension\n",
    "query = tf.expand_dims(pooled_input, axis=1)\n",
    "\n",
    "# Multi-Head Attention layer with pooling layer output as key and input embedding vectors as values\n",
    "num_heads = 12\n",
    "key_dim = 64  # Adjust based on experimentation\n",
    "attention_output = layers.MultiHeadAttention(num_heads=num_heads, key_dim=key_dim)(query, input_embeddings)\n",
    "\n",
    "# Global average pooling\n",
    "global_pool = layers.GlobalAveragePooling1D()(attention_output)\n",
    "\n",
    "# Dropout to prevent overfitting\n",
    "dropout1 = layers.Dropout(0.2)(global_pool)\n",
    "\n",
    "# Dense output layer with 1 unit and relu activation (for binary classification)\n",
    "dense1 = layers.Dense(320, activation=\"relu\")(dropout1)\n",
    "\n",
    "# Dropout to prevent overfitting\n",
    "dropout2 = layers.Dropout(0.1)(dense1)\n",
    "\n",
    "# Dense output layer with 1 unit and relu activation (for binary classification)\n",
    "dense2 = layers.Dense(64, activation=\"relu\")(dropout2)\n",
    "\n",
    "# Dense output layer with 1 unit and sigmoid activation (for binary classification)\n",
    "output = layers.Dense(1, activation=\"sigmoid\")(dense2)\n",
    "\n",
    "# Create the model\n",
    "model = tf.keras.Model(inputs=input_embeddings, outputs=output)\n"
   ]
  },
  {
   "cell_type": "code",
   "execution_count": 10,
   "id": "b5b255ec",
   "metadata": {
    "execution": {
     "iopub.execute_input": "2023-12-19T14:40:11.441311Z",
     "iopub.status.busy": "2023-12-19T14:40:11.441002Z",
     "iopub.status.idle": "2023-12-19T14:40:11.456398Z",
     "shell.execute_reply": "2023-12-19T14:40:11.455696Z"
    },
    "papermill": {
     "duration": 0.036534,
     "end_time": "2023-12-19T14:40:11.458281",
     "exception": false,
     "start_time": "2023-12-19T14:40:11.421747",
     "status": "completed"
    },
    "tags": []
   },
   "outputs": [],
   "source": [
    "model.compile(\n",
    "    loss = 'binary_crossentropy',\n",
    "    optimizer = 'adam',\n",
    "    metrics = ['accuracy', 'AUC']\n",
    ")"
   ]
  },
  {
   "cell_type": "code",
   "execution_count": 11,
   "id": "1cda476b",
   "metadata": {
    "execution": {
     "iopub.execute_input": "2023-12-19T14:40:11.496045Z",
     "iopub.status.busy": "2023-12-19T14:40:11.495780Z",
     "iopub.status.idle": "2023-12-19T14:40:11.528625Z",
     "shell.execute_reply": "2023-12-19T14:40:11.527761Z"
    },
    "papermill": {
     "duration": 0.06272,
     "end_time": "2023-12-19T14:40:11.539313",
     "exception": false,
     "start_time": "2023-12-19T14:40:11.476593",
     "status": "completed"
    },
    "tags": []
   },
   "outputs": [
    {
     "name": "stdout",
     "output_type": "stream",
     "text": [
      "Model: \"model_1\"\n",
      "__________________________________________________________________________________________________\n",
      " Layer (type)                Output Shape                 Param #   Connected to                  \n",
      "==================================================================================================\n",
      " input_2 (InputLayer)        [(None, 128, 768)]           0         []                            \n",
      "                                                                                                  \n",
      " global_max_pooling1d (Glob  (None, 768)                  0         ['input_2[0][0]']             \n",
      " alMaxPooling1D)                                                                                  \n",
      "                                                                                                  \n",
      " tf.expand_dims (TFOpLambda  (None, 1, 768)               0         ['global_max_pooling1d[0][0]']\n",
      " )                                                                                                \n",
      "                                                                                                  \n",
      " multi_head_attention (Mult  (None, 1, 768)               2362368   ['tf.expand_dims[0][0]',      \n",
      " iHeadAttention)                                                     'input_2[0][0]']             \n",
      "                                                                                                  \n",
      " global_average_pooling1d (  (None, 768)                  0         ['multi_head_attention[0][0]']\n",
      " GlobalAveragePooling1D)                                                                          \n",
      "                                                                                                  \n",
      " dropout (Dropout)           (None, 768)                  0         ['global_average_pooling1d[0][\n",
      "                                                                    0]']                          \n",
      "                                                                                                  \n",
      " dense (Dense)               (None, 320)                  246080    ['dropout[0][0]']             \n",
      "                                                                                                  \n",
      " dropout_1 (Dropout)         (None, 320)                  0         ['dense[0][0]']               \n",
      "                                                                                                  \n",
      " dense_1 (Dense)             (None, 64)                   20544     ['dropout_1[0][0]']           \n",
      "                                                                                                  \n",
      " dense_2 (Dense)             (None, 1)                    65        ['dense_1[0][0]']             \n",
      "                                                                                                  \n",
      "==================================================================================================\n",
      "Total params: 2629057 (10.03 MB)\n",
      "Trainable params: 2629057 (10.03 MB)\n",
      "Non-trainable params: 0 (0.00 Byte)\n",
      "__________________________________________________________________________________________________\n"
     ]
    }
   ],
   "source": [
    "model.summary()"
   ]
  },
  {
   "cell_type": "code",
   "execution_count": 12,
   "id": "fe150983",
   "metadata": {
    "execution": {
     "iopub.execute_input": "2023-12-19T14:40:11.583266Z",
     "iopub.status.busy": "2023-12-19T14:40:11.582505Z",
     "iopub.status.idle": "2023-12-19T14:40:38.759862Z",
     "shell.execute_reply": "2023-12-19T14:40:38.758637Z"
    },
    "papermill": {
     "duration": 27.201472,
     "end_time": "2023-12-19T14:40:38.762109",
     "exception": false,
     "start_time": "2023-12-19T14:40:11.560637",
     "status": "completed"
    },
    "tags": []
   },
   "outputs": [
    {
     "name": "stdout",
     "output_type": "stream",
     "text": [
      "Epoch 1/20\n",
      "270/270 [==============================] - 11s 26ms/step - loss: 0.1078 - accuracy: 0.9646 - auc: 0.9671 - val_loss: 0.0525 - val_accuracy: 0.9855 - val_auc: 0.9903\n",
      "Epoch 2/20\n",
      "270/270 [==============================] - 4s 16ms/step - loss: 0.0536 - accuracy: 0.9846 - auc: 0.9861 - val_loss: 0.0344 - val_accuracy: 0.9907 - val_auc: 0.9946\n",
      "Epoch 3/20\n",
      "270/270 [==============================] - 5s 17ms/step - loss: 0.0535 - accuracy: 0.9837 - auc: 0.9908 - val_loss: 0.0331 - val_accuracy: 0.9910 - val_auc: 0.9931\n",
      "Epoch 4/20\n",
      "270/270 [==============================] - 5s 17ms/step - loss: 0.0382 - accuracy: 0.9899 - auc: 0.9942 - val_loss: 0.0407 - val_accuracy: 0.9884 - val_auc: 0.9957\n"
     ]
    }
   ],
   "source": [
    "h = model.fit(\n",
    "   encoded_essay_train, label_train,\n",
    "   validation_data = (encoded_essay_CV, label_CV),\n",
    "   epochs = 20,\n",
    "    callbacks = [\n",
    "      tf.keras.callbacks.EarlyStopping(monitor = 'val_auc', patience = 1, mode = 'max', \n",
    "                                      restore_best_weights = True, min_delta = 0.01, start_from_epoch = 2)\n",
    "   ]\n",
    ")"
   ]
  },
  {
   "cell_type": "code",
   "execution_count": 13,
   "id": "605f9624",
   "metadata": {
    "execution": {
     "iopub.execute_input": "2023-12-19T14:40:38.898648Z",
     "iopub.status.busy": "2023-12-19T14:40:38.893720Z",
     "iopub.status.idle": "2023-12-19T14:40:38.902103Z",
     "shell.execute_reply": "2023-12-19T14:40:38.901145Z"
    },
    "papermill": {
     "duration": 0.053101,
     "end_time": "2023-12-19T14:40:38.903922",
     "exception": false,
     "start_time": "2023-12-19T14:40:38.850821",
     "status": "completed"
    },
    "tags": []
   },
   "outputs": [],
   "source": [
    "# test_set_predictions = model.predict(encoded_essay_test)\n",
    "# _ = model.evaluate(encoded_essay_test, label_test)"
   ]
  },
  {
   "cell_type": "code",
   "execution_count": 14,
   "id": "41125ffa",
   "metadata": {
    "execution": {
     "iopub.execute_input": "2023-12-19T14:40:38.984674Z",
     "iopub.status.busy": "2023-12-19T14:40:38.984373Z",
     "iopub.status.idle": "2023-12-19T14:40:38.994234Z",
     "shell.execute_reply": "2023-12-19T14:40:38.993377Z"
    },
    "papermill": {
     "duration": 0.052104,
     "end_time": "2023-12-19T14:40:38.996160",
     "exception": false,
     "start_time": "2023-12-19T14:40:38.944056",
     "status": "completed"
    },
    "tags": []
   },
   "outputs": [],
   "source": [
    "test_data = pd.read_csv('/kaggle/input/llm-detect-ai-generated-text/test_essays.csv')"
   ]
  },
  {
   "cell_type": "code",
   "execution_count": 15,
   "id": "27f785be",
   "metadata": {
    "execution": {
     "iopub.execute_input": "2023-12-19T14:40:39.076002Z",
     "iopub.status.busy": "2023-12-19T14:40:39.075404Z",
     "iopub.status.idle": "2023-12-19T14:40:39.294404Z",
     "shell.execute_reply": "2023-12-19T14:40:39.293318Z"
    },
    "papermill": {
     "duration": 0.261222,
     "end_time": "2023-12-19T14:40:39.296588",
     "exception": false,
     "start_time": "2023-12-19T14:40:39.035366",
     "status": "completed"
    },
    "tags": []
   },
   "outputs": [
    {
     "name": "stdout",
     "output_type": "stream",
     "text": [
      "1/1 [==============================] - 0s 127ms/step\n",
      "CPU times: user 197 ms, sys: 27.3 ms, total: 225 ms\n",
      "Wall time: 211 ms\n"
     ]
    }
   ],
   "source": [
    "%%time\n",
    "# encoded_test_data = encoder_model(train_essays_01_source.iloc[:10000, 0])\n",
    "# test_set_predictions = model.predict(encoded_test_data)\n",
    "\n",
    "\n",
    "if len(test_data)<100:\n",
    "    encoded_test_data = encoder_model(test_data.iloc[:, 2])\n",
    "    test_set_predictions = model.predict(encoded_test_data)\n",
    "\n",
    "else:\n",
    "    batch_size = 100\n",
    "    num_batches = len(test_data)//batch_size\n",
    "\n",
    "    test_data_batches = np.array_split(test_data, num_batches)\n",
    "    test_set_predictions_batch_list = []\n",
    "\n",
    "    for batch in tqdm(test_data_batches):\n",
    "        encoded_test_data_batch = encoder_model(batch.iloc[:, 2])\n",
    "        test_set_predictions_batch = model.predict(encoded_test_data_batch)\n",
    "        test_set_predictions_batch_list.append(test_set_predictions_batch)\n",
    "\n",
    "    test_set_predictions = np.concatenate(test_set_predictions_batch_list, axis = 0)"
   ]
  },
  {
   "cell_type": "code",
   "execution_count": 16,
   "id": "bd6005c6",
   "metadata": {
    "execution": {
     "iopub.execute_input": "2023-12-19T14:40:39.378350Z",
     "iopub.status.busy": "2023-12-19T14:40:39.378008Z",
     "iopub.status.idle": "2023-12-19T14:40:39.388616Z",
     "shell.execute_reply": "2023-12-19T14:40:39.387884Z"
    },
    "papermill": {
     "duration": 0.053041,
     "end_time": "2023-12-19T14:40:39.390850",
     "exception": false,
     "start_time": "2023-12-19T14:40:39.337809",
     "status": "completed"
    },
    "tags": []
   },
   "outputs": [],
   "source": [
    "test_data['genarated'] = np.round(test_set_predictions.flatten().tolist(), decimals = 4)\n",
    "submission = test_data[['id', 'genarated']]\n",
    "submission.to_csv('/kaggle/working/submission.csv', index = False, header = submission.columns.tolist())"
   ]
  },
  {
   "cell_type": "markdown",
   "id": "79020e2e",
   "metadata": {
    "papermill": {
     "duration": 0.038378,
     "end_time": "2023-12-19T14:40:39.469437",
     "exception": false,
     "start_time": "2023-12-19T14:40:39.431059",
     "status": "completed"
    },
    "tags": []
   },
   "source": [
    "**EDA**"
   ]
  },
  {
   "cell_type": "code",
   "execution_count": 17,
   "id": "06c0eb75",
   "metadata": {
    "execution": {
     "iopub.execute_input": "2023-12-19T14:40:39.548402Z",
     "iopub.status.busy": "2023-12-19T14:40:39.548045Z",
     "iopub.status.idle": "2023-12-19T14:40:40.223375Z",
     "shell.execute_reply": "2023-12-19T14:40:40.222587Z"
    },
    "papermill": {
     "duration": 0.717505,
     "end_time": "2023-12-19T14:40:40.225654",
     "exception": false,
     "start_time": "2023-12-19T14:40:39.508149",
     "status": "completed"
    },
    "tags": []
   },
   "outputs": [],
   "source": [
    "import matplotlib.pyplot as plt\n",
    "import numpy\n",
    "from sklearn import metrics\n",
    "\n",
    "def plot_confusion_matrix(label_test, test_set_predictions, threashold = 0.5):\n",
    "    \n",
    "    if not test_set_pred_labels:\n",
    "        test_set_pred_labels = [prob >= threashold for prob in test_set_predictions.flatten()]\n",
    "\n",
    "    confusion_matrix = metrics.confusion_matrix(label_test, test_set_pred_labels)\n",
    "\n",
    "    cm_display = metrics.ConfusionMatrixDisplay(confusion_matrix = confusion_matrix, display_labels = [False, True])\n",
    "\n",
    "    cm_display.plot()\n",
    "    plt.show()"
   ]
  },
  {
   "cell_type": "code",
   "execution_count": 18,
   "id": "13c1a3e7",
   "metadata": {
    "execution": {
     "iopub.execute_input": "2023-12-19T14:40:40.305745Z",
     "iopub.status.busy": "2023-12-19T14:40:40.305343Z",
     "iopub.status.idle": "2023-12-19T14:40:40.309348Z",
     "shell.execute_reply": "2023-12-19T14:40:40.308538Z"
    },
    "papermill": {
     "duration": 0.045723,
     "end_time": "2023-12-19T14:40:40.311190",
     "exception": false,
     "start_time": "2023-12-19T14:40:40.265467",
     "status": "completed"
    },
    "tags": []
   },
   "outputs": [],
   "source": [
    "# plot_confusion_matrix(label_test, test_set_predictions, 0.5)"
   ]
  },
  {
   "cell_type": "code",
   "execution_count": 19,
   "id": "14be98d4",
   "metadata": {
    "execution": {
     "iopub.execute_input": "2023-12-19T14:40:40.392206Z",
     "iopub.status.busy": "2023-12-19T14:40:40.391884Z",
     "iopub.status.idle": "2023-12-19T14:40:40.407864Z",
     "shell.execute_reply": "2023-12-19T14:40:40.407174Z"
    },
    "papermill": {
     "duration": 0.059339,
     "end_time": "2023-12-19T14:40:40.409782",
     "exception": false,
     "start_time": "2023-12-19T14:40:40.350443",
     "status": "completed"
    },
    "tags": []
   },
   "outputs": [],
   "source": [
    "import numpy as np\n",
    "from sklearn.metrics import accuracy_score, confusion_matrix, roc_auc_score, roc_curve\n",
    "import matplotlib.pyplot as plt\n",
    "import plotly.graph_objects as go\n",
    "from sklearn.metrics import roc_curve\n",
    "\n",
    "def plot_roc_curve(true_y, y_prob):\n",
    "    \"\"\"\n",
    "    Plots an interactive ROC curve based on the probabilities and displays thresholds on hover.\n",
    "    \"\"\"\n",
    "    \n",
    "    fpr, tpr, thresholds = roc_curve(true_y, y_prob, drop_intermediate=False)\n",
    "\n",
    "    fig = go.Figure()\n",
    "\n",
    "    fig.add_trace(go.Scatter(x=fpr, y=tpr, mode='lines', name='ROC Curve', hovertext=[f'Threshold: {threshold:.2f}' for threshold in thresholds]))\n",
    "\n",
    "    fig.update_layout(\n",
    "        title='ROC Curve',\n",
    "        xaxis=dict(title='False Positive Rate'),\n",
    "        yaxis=dict(title='True Positive Rate'),\n",
    "        hovermode='closest'\n",
    "    )\n",
    "\n",
    "    fig.show()"
   ]
  },
  {
   "cell_type": "code",
   "execution_count": 20,
   "id": "60ee0dcf",
   "metadata": {
    "execution": {
     "iopub.execute_input": "2023-12-19T14:40:40.489069Z",
     "iopub.status.busy": "2023-12-19T14:40:40.488740Z",
     "iopub.status.idle": "2023-12-19T14:40:40.492721Z",
     "shell.execute_reply": "2023-12-19T14:40:40.491724Z"
    },
    "papermill": {
     "duration": 0.046563,
     "end_time": "2023-12-19T14:40:40.495111",
     "exception": false,
     "start_time": "2023-12-19T14:40:40.448548",
     "status": "completed"
    },
    "tags": []
   },
   "outputs": [],
   "source": [
    "# plot_roc_curve(label_test, test_set_predictions.flatten())\n",
    "# print('ROC AUC Score: ',roc_auc_score(label_test, test_set_predictions.flatten()))"
   ]
  },
  {
   "cell_type": "code",
   "execution_count": null,
   "id": "49b6b0d1",
   "metadata": {
    "papermill": {
     "duration": 0.042334,
     "end_time": "2023-12-19T14:40:40.587158",
     "exception": false,
     "start_time": "2023-12-19T14:40:40.544824",
     "status": "completed"
    },
    "tags": []
   },
   "outputs": [],
   "source": []
  }
 ],
 "metadata": {
  "kaggle": {
   "accelerator": "gpu",
   "dataSources": [
    {
     "databundleVersionId": 6888007,
     "sourceId": 61542,
     "sourceType": "competition"
    },
    {
     "datasetId": 3961875,
     "sourceId": 6971638,
     "sourceType": "datasetVersion"
    },
    {
     "modelInstanceId": 1910,
     "sourceId": 2644,
     "sourceType": "modelInstanceVersion"
    },
    {
     "modelInstanceId": 2180,
     "sourceId": 2938,
     "sourceType": "modelInstanceVersion"
    }
   ],
   "dockerImageVersionId": 30627,
   "isGpuEnabled": true,
   "isInternetEnabled": false,
   "language": "python",
   "sourceType": "notebook"
  },
  "kernelspec": {
   "display_name": "Python 3",
   "language": "python",
   "name": "python3"
  },
  "language_info": {
   "codemirror_mode": {
    "name": "ipython",
    "version": 3
   },
   "file_extension": ".py",
   "mimetype": "text/x-python",
   "name": "python",
   "nbconvert_exporter": "python",
   "pygments_lexer": "ipython3",
   "version": "3.10.12"
  },
  "papermill": {
   "default_parameters": {},
   "duration": 210.638384,
   "end_time": "2023-12-19T14:40:43.850330",
   "environment_variables": {},
   "exception": null,
   "input_path": "__notebook__.ipynb",
   "output_path": "__notebook__.ipynb",
   "parameters": {},
   "start_time": "2023-12-19T14:37:13.211946",
   "version": "2.4.0"
  }
 },
 "nbformat": 4,
 "nbformat_minor": 5
}
