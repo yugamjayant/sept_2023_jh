{
 "cells": [
  {
   "cell_type": "code",
   "execution_count": 1,
   "id": "5ea36ca0",
   "metadata": {
    "_cell_guid": "b1076dfc-b9ad-4769-8c92-a6c4dae69d19",
    "_uuid": "8f2839f25d086af736a60e9eeb907d3b93b6e0e5",
    "execution": {
     "iopub.execute_input": "2023-12-23T12:34:42.474540Z",
     "iopub.status.busy": "2023-12-23T12:34:42.473941Z",
     "iopub.status.idle": "2023-12-23T12:34:43.197061Z",
     "shell.execute_reply": "2023-12-23T12:34:43.196106Z"
    },
    "papermill": {
     "duration": 0.738994,
     "end_time": "2023-12-23T12:34:43.199348",
     "exception": false,
     "start_time": "2023-12-23T12:34:42.460354",
     "status": "completed"
    },
    "tags": []
   },
   "outputs": [
    {
     "name": "stdout",
     "output_type": "stream",
     "text": [
      "/kaggle/input/llm-detect-ai-generated-text/sample_submission.csv\n",
      "/kaggle/input/llm-detect-ai-generated-text/train_prompts.csv\n",
      "/kaggle/input/llm-detect-ai-generated-text/test_essays.csv\n",
      "/kaggle/input/llm-detect-ai-generated-text/train_essays.csv\n",
      "/kaggle/input/bert/tensorflow2/en-uncased-preprocess/3/saved_model.pb\n",
      "/kaggle/input/bert/tensorflow2/en-uncased-preprocess/3/keras_metadata.pb\n",
      "/kaggle/input/bert/tensorflow2/en-uncased-preprocess/3/assets/vocab.txt\n",
      "/kaggle/input/bert/tensorflow2/en-uncased-preprocess/3/variables/variables.index\n",
      "/kaggle/input/bert/tensorflow2/en-uncased-preprocess/3/variables/variables.data-00000-of-00001\n",
      "/kaggle/input/bert/tensorflow2/bert-en-uncased-l-12-h-768-a-12/2/saved_model.pb\n",
      "/kaggle/input/bert/tensorflow2/bert-en-uncased-l-12-h-768-a-12/2/keras_metadata.pb\n",
      "/kaggle/input/bert/tensorflow2/bert-en-uncased-l-12-h-768-a-12/2/assets/vocab.txt\n",
      "/kaggle/input/bert/tensorflow2/bert-en-uncased-l-12-h-768-a-12/2/variables/variables.index\n",
      "/kaggle/input/bert/tensorflow2/bert-en-uncased-l-12-h-768-a-12/2/variables/variables.data-00000-of-00001\n",
      "/kaggle/input/llm-7-prompt-training-dataset/train_essays_RDizzl3_seven_v2.csv\n",
      "/kaggle/input/llm-7-prompt-training-dataset/train_essays_7_prompts_v2.csv\n",
      "/kaggle/input/llm-7-prompt-training-dataset/train_essays_7_prompts.csv\n",
      "/kaggle/input/llm-7-prompt-training-dataset/train_essays_RDizzl3_seven_v1.csv\n",
      "/kaggle/input/daigt-proper-train-dataset/train_drcat_03.csv\n",
      "/kaggle/input/daigt-proper-train-dataset/train_drcat_02.csv\n",
      "/kaggle/input/daigt-proper-train-dataset/train_drcat_04.csv\n",
      "/kaggle/input/daigt-proper-train-dataset/train_drcat_01.csv\n"
     ]
    }
   ],
   "source": [
    "# This Python 3 environment comes with many helpful analytics libraries installed\n",
    "# It is defined by the kaggle/python Docker image: https://github.com/kaggle/docker-python\n",
    "# For example, here's several helpful packages to load\n",
    "\n",
    "import numpy as np # linear algebra\n",
    "import pandas as pd # data processing, CSV file I/O (e.g. pd.read_csv)\n",
    "\n",
    "# Input data files are available in the read-only \"../input/\" directory\n",
    "# For example, running this (by clicking run or pressing Shift+Enter) will list all files under the input directory\n",
    "\n",
    "import os\n",
    "for dirname, _, filenames in os.walk('/kaggle/input'):\n",
    "    for filename in filenames:\n",
    "        print(os.path.join(dirname, filename))\n",
    "\n",
    "# You can write up to 20GB to the current directory (/kaggle/working/) that gets preserved as output when you create a version using \"Save & Run All\" \n",
    "# You can also write temporary files to /kaggle/temp/, but they won't be saved outside of the current session"
   ]
  },
  {
   "cell_type": "code",
   "execution_count": 2,
   "id": "e1edd5f9",
   "metadata": {
    "execution": {
     "iopub.execute_input": "2023-12-23T12:34:43.224754Z",
     "iopub.status.busy": "2023-12-23T12:34:43.224394Z",
     "iopub.status.idle": "2023-12-23T12:34:55.365677Z",
     "shell.execute_reply": "2023-12-23T12:34:55.364746Z"
    },
    "papermill": {
     "duration": 12.156247,
     "end_time": "2023-12-23T12:34:55.367835",
     "exception": false,
     "start_time": "2023-12-23T12:34:43.211588",
     "status": "completed"
    },
    "tags": []
   },
   "outputs": [
    {
     "name": "stderr",
     "output_type": "stream",
     "text": [
      "/opt/conda/lib/python3.10/site-packages/scipy/__init__.py:146: UserWarning: A NumPy version >=1.16.5 and <1.23.0 is required for this version of SciPy (detected version 1.24.3\n",
      "  warnings.warn(f\"A NumPy version >={np_minversion} and <{np_maxversion}\"\n"
     ]
    }
   ],
   "source": [
    "import tensorflow_text as text\n",
    "import tensorflow_hub as hub\n",
    "import tensorflow as tf\n",
    "import random\n",
    "import tqdm\n",
    "from tqdm import tqdm\n",
    "import copy"
   ]
  },
  {
   "cell_type": "code",
   "execution_count": 3,
   "id": "dc3d3f14",
   "metadata": {
    "execution": {
     "iopub.execute_input": "2023-12-23T12:34:55.395087Z",
     "iopub.status.busy": "2023-12-23T12:34:55.394590Z",
     "iopub.status.idle": "2023-12-23T12:34:56.157587Z",
     "shell.execute_reply": "2023-12-23T12:34:56.156640Z"
    },
    "papermill": {
     "duration": 0.778577,
     "end_time": "2023-12-23T12:34:56.159899",
     "exception": false,
     "start_time": "2023-12-23T12:34:55.381322",
     "status": "completed"
    },
    "tags": []
   },
   "outputs": [],
   "source": [
    "train_essays_01_source = pd.read_csv('/kaggle/input/llm-7-prompt-training-dataset/train_essays_7_prompts_v2.csv')\n",
    "\n",
    "#Slicing the dataset with different labels\n",
    "train_essays_01_source_label_1 = train_essays_01_source[train_essays_01_source['label'] == 1].reset_index(drop = True)  \n",
    "train_essays_01_source_label_0 = train_essays_01_source[train_essays_01_source['label'] == 0].reset_index(drop = True)\n",
    "\n",
    "#Set number of data points required from each label\n",
    "#Creating new data set with data sampled from each labels\n",
    "label_1_count = 1638 #1638 data points available\n",
    "label_0_count = 13712 #13712 data points available\n",
    "\n",
    "essay_dataset_raw = pd.concat([train_essays_01_source_label_1.sample(n= label_1_count, random_state = 36, axis = 0), \n",
    "                         train_essays_01_source_label_0.sample(n= label_0_count, random_state = 36, axis = 0)], \n",
    "                        axis = 0, sort = True).sample(frac = 1)"
   ]
  },
  {
   "cell_type": "code",
   "execution_count": 4,
   "id": "a5b86e00",
   "metadata": {
    "execution": {
     "iopub.execute_input": "2023-12-23T12:34:56.198761Z",
     "iopub.status.busy": "2023-12-23T12:34:56.198442Z",
     "iopub.status.idle": "2023-12-23T12:35:16.354306Z",
     "shell.execute_reply": "2023-12-23T12:35:16.353444Z"
    },
    "papermill": {
     "duration": 20.172056,
     "end_time": "2023-12-23T12:35:16.356748",
     "exception": false,
     "start_time": "2023-12-23T12:34:56.184692",
     "status": "completed"
    },
    "tags": []
   },
   "outputs": [],
   "source": [
    "#Bert encoder\n",
    "\n",
    "text_input = tf.keras.layers.Input(shape=(), dtype=tf.string)\n",
    "preprocessor = hub.KerasLayer(\n",
    "    \"https://kaggle.com/models/tensorflow/bert/frameworks/TensorFlow2/variations/en-uncased-preprocess/versions/3\")\n",
    "encoder_inputs = preprocessor(text_input)\n",
    "encoder = hub.KerasLayer(\n",
    "    \"https://www.kaggle.com/models/tensorflow/bert/frameworks/TensorFlow2/variations/bert-en-uncased-l-12-h-768-a-12/versions/2\",trainable=False)\n",
    "outputs = encoder(encoder_inputs)\n",
    "pooled_output = outputs[\"pooled_output\"]      # [batch_size, 768].\n",
    "sequence_output = outputs[\"sequence_output\"]  # [batch_size, seq_length, 768]."
   ]
  },
  {
   "cell_type": "code",
   "execution_count": 5,
   "id": "17bba2cc",
   "metadata": {
    "execution": {
     "iopub.execute_input": "2023-12-23T12:35:16.385009Z",
     "iopub.status.busy": "2023-12-23T12:35:16.384726Z",
     "iopub.status.idle": "2023-12-23T12:35:16.393493Z",
     "shell.execute_reply": "2023-12-23T12:35:16.392691Z"
    },
    "papermill": {
     "duration": 0.025399,
     "end_time": "2023-12-23T12:35:16.395774",
     "exception": false,
     "start_time": "2023-12-23T12:35:16.370375",
     "status": "completed"
    },
    "tags": []
   },
   "outputs": [],
   "source": [
    "encoder_model = tf.keras.Model(inputs=text_input, outputs=sequence_output)"
   ]
  },
  {
   "cell_type": "code",
   "execution_count": 6,
   "id": "e1ca2192",
   "metadata": {
    "execution": {
     "iopub.execute_input": "2023-12-23T12:35:16.422922Z",
     "iopub.status.busy": "2023-12-23T12:35:16.422668Z",
     "iopub.status.idle": "2023-12-23T12:37:35.933716Z",
     "shell.execute_reply": "2023-12-23T12:37:35.932675Z"
    },
    "papermill": {
     "duration": 139.527129,
     "end_time": "2023-12-23T12:37:35.935805",
     "exception": false,
     "start_time": "2023-12-23T12:35:16.408676",
     "status": "completed"
    },
    "tags": []
   },
   "outputs": [
    {
     "name": "stderr",
     "output_type": "stream",
     "text": [
      "/opt/conda/lib/python3.10/site-packages/numpy/core/fromnumeric.py:57: FutureWarning: 'Series.swapaxes' is deprecated and will be removed in a future version. Please use 'Series.transpose' instead.\n",
      "  return bound(*args, **kwds)\n",
      "100%|██████████| 153/153 [02:07<00:00,  1.20it/s]\n"
     ]
    },
    {
     "name": "stdout",
     "output_type": "stream",
     "text": [
      "CPU times: user 2min 25s, sys: 31.2 s, total: 2min 56s\n",
      "Wall time: 2min 19s\n"
     ]
    }
   ],
   "source": [
    "%%time\n",
    "batch_size = 100\n",
    "num_batches = len(essay_dataset_raw)//batch_size\n",
    "\n",
    "essay_dataset_raw_batches = np.array_split(essay_dataset_raw.iloc[:,1], num_batches)\n",
    "essay_dataset_raw_batch_list = []\n",
    "i = 0\n",
    "\n",
    "for batch in tqdm(essay_dataset_raw_batches):\n",
    "    i+=1\n",
    "    encoded_essay_batch = encoder_model(batch)\n",
    "    essay_dataset_raw_batch_list.append(encoded_essay_batch)\n",
    "    \n",
    "    if i%100 == 0:\n",
    "        encoded_essay = np.concatenate(essay_dataset_raw_batch_list, axis = 0)\n",
    "        del essay_dataset_raw_batch_list\n",
    "        essay_dataset_raw_batch_list = [encoded_essay]\n",
    "    \n",
    "    \n",
    "encoded_essay = tf.convert_to_tensor(np.concatenate(essay_dataset_raw_batch_list, axis = 0))"
   ]
  },
  {
   "cell_type": "code",
   "execution_count": 7,
   "id": "83f98101",
   "metadata": {
    "execution": {
     "iopub.execute_input": "2023-12-23T12:37:35.987229Z",
     "iopub.status.busy": "2023-12-23T12:37:35.986934Z",
     "iopub.status.idle": "2023-12-23T12:37:36.122814Z",
     "shell.execute_reply": "2023-12-23T12:37:36.122074Z"
    },
    "papermill": {
     "duration": 0.16342,
     "end_time": "2023-12-23T12:37:36.124909",
     "exception": false,
     "start_time": "2023-12-23T12:37:35.961489",
     "status": "completed"
    },
    "tags": []
   },
   "outputs": [],
   "source": [
    "del essay_dataset_raw_batches\n",
    "del essay_dataset_raw_batch_list"
   ]
  },
  {
   "cell_type": "code",
   "execution_count": 8,
   "id": "60a57e16",
   "metadata": {
    "execution": {
     "iopub.execute_input": "2023-12-23T12:37:36.174747Z",
     "iopub.status.busy": "2023-12-23T12:37:36.174484Z",
     "iopub.status.idle": "2023-12-23T12:37:36.190218Z",
     "shell.execute_reply": "2023-12-23T12:37:36.189491Z"
    },
    "papermill": {
     "duration": 0.042783,
     "end_time": "2023-12-23T12:37:36.192294",
     "exception": false,
     "start_time": "2023-12-23T12:37:36.149511",
     "status": "completed"
    },
    "tags": []
   },
   "outputs": [],
   "source": [
    "#Train:CV:Test :: i:j:k \n",
    "i, j, k = 40, 30, 1\n",
    "\n",
    "fraction_size = len(encoded_essay)//(i+j+k)\n",
    "encoded_essay_train, encoded_essay_CV, encoded_essay_test = tf.split(encoded_essay, [fraction_size*i, fraction_size*j, len(encoded_essay)-fraction_size*(i+j)], 0)\n",
    "\n",
    "label_train, label_CV, label_test = tf.split(essay_dataset_raw['label'], [fraction_size*i, fraction_size*j, len(essay_dataset_raw)-fraction_size*(i+j)], 0)"
   ]
  },
  {
   "cell_type": "code",
   "execution_count": 9,
   "id": "5aad06a0",
   "metadata": {
    "execution": {
     "iopub.execute_input": "2023-12-23T12:37:36.284985Z",
     "iopub.status.busy": "2023-12-23T12:37:36.284329Z",
     "iopub.status.idle": "2023-12-23T12:37:36.416591Z",
     "shell.execute_reply": "2023-12-23T12:37:36.415842Z"
    },
    "papermill": {
     "duration": 0.201982,
     "end_time": "2023-12-23T12:37:36.418794",
     "exception": false,
     "start_time": "2023-12-23T12:37:36.216812",
     "status": "completed"
    },
    "tags": []
   },
   "outputs": [],
   "source": [
    "import tensorflow as tf\n",
    "from tensorflow.keras import layers\n",
    "\n",
    "# Import your input embeddings\n",
    "input_embeddings = tf.keras.Input(shape=(128, 768, ))\n",
    "\n",
    "# Apply pooling right after the input layer\n",
    "pooled_input = layers.GlobalMaxPooling1D()(input_embeddings)\n",
    "\n",
    "# Reshape pooled input to add singleton dimension\n",
    "query = tf.expand_dims(pooled_input, axis=1)\n",
    "\n",
    "# Multi-Head Attention layer with pooling layer output as key and input embedding vectors as values\n",
    "num_heads = 12\n",
    "key_dim = 64  # Adjust based on experimentation\n",
    "attention_output = layers.MultiHeadAttention(num_heads=num_heads, key_dim=key_dim)(query, input_embeddings)\n",
    "\n",
    "# Global average pooling\n",
    "global_pool = layers.GlobalAveragePooling1D()(attention_output)\n",
    "\n",
    "# Dropout to prevent overfitting\n",
    "dropout1 = layers.Dropout(0.2)(global_pool)\n",
    "\n",
    "# Dense output layer with 1 unit and relu activation\n",
    "dense1 = layers.Dense(320, activation=\"relu\")(dropout1)\n",
    "\n",
    "# Dropout to prevent overfitting\n",
    "dropout2 = layers.Dropout(0.1)(dense1)\n",
    "\n",
    "# Dense output layer with 1 unit and relu activation\n",
    "dense2 = layers.Dense(64, activation=\"relu\")(dropout2)\n",
    "\n",
    "# Dense output layer with 1 unit and sigmoid activation (for binary classification)\n",
    "output = layers.Dense(1, activation=\"sigmoid\")(dense2)\n",
    "\n",
    "# Create the model\n",
    "model = tf.keras.Model(inputs=input_embeddings, outputs=output)\n"
   ]
  },
  {
   "cell_type": "code",
   "execution_count": 10,
   "id": "7e58fa49",
   "metadata": {
    "execution": {
     "iopub.execute_input": "2023-12-23T12:37:36.482187Z",
     "iopub.status.busy": "2023-12-23T12:37:36.481859Z",
     "iopub.status.idle": "2023-12-23T12:37:36.499682Z",
     "shell.execute_reply": "2023-12-23T12:37:36.498850Z"
    },
    "papermill": {
     "duration": 0.053653,
     "end_time": "2023-12-23T12:37:36.501587",
     "exception": false,
     "start_time": "2023-12-23T12:37:36.447934",
     "status": "completed"
    },
    "tags": []
   },
   "outputs": [],
   "source": [
    "model.compile(\n",
    "    loss = 'binary_crossentropy',\n",
    "    optimizer = 'adam',\n",
    "    metrics = ['accuracy', 'AUC']\n",
    ")"
   ]
  },
  {
   "cell_type": "code",
   "execution_count": 11,
   "id": "74921458",
   "metadata": {
    "execution": {
     "iopub.execute_input": "2023-12-23T12:37:36.550919Z",
     "iopub.status.busy": "2023-12-23T12:37:36.550640Z",
     "iopub.status.idle": "2023-12-23T12:37:36.584340Z",
     "shell.execute_reply": "2023-12-23T12:37:36.583419Z"
    },
    "papermill": {
     "duration": 0.070877,
     "end_time": "2023-12-23T12:37:36.596701",
     "exception": false,
     "start_time": "2023-12-23T12:37:36.525824",
     "status": "completed"
    },
    "tags": []
   },
   "outputs": [
    {
     "name": "stdout",
     "output_type": "stream",
     "text": [
      "Model: \"model_1\"\n",
      "__________________________________________________________________________________________________\n",
      " Layer (type)                Output Shape                 Param #   Connected to                  \n",
      "==================================================================================================\n",
      " input_2 (InputLayer)        [(None, 128, 768)]           0         []                            \n",
      "                                                                                                  \n",
      " global_max_pooling1d (Glob  (None, 768)                  0         ['input_2[0][0]']             \n",
      " alMaxPooling1D)                                                                                  \n",
      "                                                                                                  \n",
      " tf.expand_dims (TFOpLambda  (None, 1, 768)               0         ['global_max_pooling1d[0][0]']\n",
      " )                                                                                                \n",
      "                                                                                                  \n",
      " multi_head_attention (Mult  (None, 1, 768)               2362368   ['tf.expand_dims[0][0]',      \n",
      " iHeadAttention)                                                     'input_2[0][0]']             \n",
      "                                                                                                  \n",
      " global_average_pooling1d (  (None, 768)                  0         ['multi_head_attention[0][0]']\n",
      " GlobalAveragePooling1D)                                                                          \n",
      "                                                                                                  \n",
      " dropout (Dropout)           (None, 768)                  0         ['global_average_pooling1d[0][\n",
      "                                                                    0]']                          \n",
      "                                                                                                  \n",
      " dense (Dense)               (None, 320)                  246080    ['dropout[0][0]']             \n",
      "                                                                                                  \n",
      " dropout_1 (Dropout)         (None, 320)                  0         ['dense[0][0]']               \n",
      "                                                                                                  \n",
      " dense_1 (Dense)             (None, 64)                   20544     ['dropout_1[0][0]']           \n",
      "                                                                                                  \n",
      " dense_2 (Dense)             (None, 1)                    65        ['dense_1[0][0]']             \n",
      "                                                                                                  \n",
      "==================================================================================================\n",
      "Total params: 2629057 (10.03 MB)\n",
      "Trainable params: 2629057 (10.03 MB)\n",
      "Non-trainable params: 0 (0.00 Byte)\n",
      "__________________________________________________________________________________________________\n"
     ]
    }
   ],
   "source": [
    "model.summary()"
   ]
  },
  {
   "cell_type": "code",
   "execution_count": 12,
   "id": "46dfbb2f",
   "metadata": {
    "execution": {
     "iopub.execute_input": "2023-12-23T12:37:36.650862Z",
     "iopub.status.busy": "2023-12-23T12:37:36.650192Z",
     "iopub.status.idle": "2023-12-23T12:38:03.495602Z",
     "shell.execute_reply": "2023-12-23T12:38:03.494552Z"
    },
    "papermill": {
     "duration": 26.874543,
     "end_time": "2023-12-23T12:38:03.497651",
     "exception": false,
     "start_time": "2023-12-23T12:37:36.623108",
     "status": "completed"
    },
    "tags": []
   },
   "outputs": [
    {
     "name": "stdout",
     "output_type": "stream",
     "text": [
      "Epoch 1/20\n",
      "270/270 [==============================] - 11s 25ms/step - loss: 0.0995 - accuracy: 0.9686 - auc: 0.9743 - val_loss: 0.0583 - val_accuracy: 0.9810 - val_auc: 0.9923\n",
      "Epoch 2/20\n",
      "270/270 [==============================] - 4s 17ms/step - loss: 0.0644 - accuracy: 0.9823 - auc: 0.9834 - val_loss: 0.0621 - val_accuracy: 0.9765 - val_auc: 0.9921\n",
      "Epoch 3/20\n",
      "270/270 [==============================] - 4s 17ms/step - loss: 0.0350 - accuracy: 0.9900 - auc: 0.9924 - val_loss: 0.0217 - val_accuracy: 0.9926 - val_auc: 0.9978\n",
      "Epoch 4/20\n",
      "270/270 [==============================] - 5s 17ms/step - loss: 0.0263 - accuracy: 0.9922 - auc: 0.9954 - val_loss: 0.0210 - val_accuracy: 0.9934 - val_auc: 0.9979\n"
     ]
    }
   ],
   "source": [
    "h = model.fit(\n",
    "   encoded_essay_train, label_train,\n",
    "   validation_data = (encoded_essay_CV, label_CV),\n",
    "   epochs = 20,\n",
    "    callbacks = [\n",
    "      tf.keras.callbacks.EarlyStopping(monitor = 'val_auc', patience = 1, mode = 'max', \n",
    "                                      restore_best_weights = True, min_delta = 0.01, start_from_epoch = 2)\n",
    "   ]\n",
    ")"
   ]
  },
  {
   "cell_type": "code",
   "execution_count": 13,
   "id": "1cf38b76",
   "metadata": {
    "execution": {
     "iopub.execute_input": "2023-12-23T12:38:03.587437Z",
     "iopub.status.busy": "2023-12-23T12:38:03.587027Z",
     "iopub.status.idle": "2023-12-23T12:38:03.596134Z",
     "shell.execute_reply": "2023-12-23T12:38:03.595300Z"
    },
    "papermill": {
     "duration": 0.055826,
     "end_time": "2023-12-23T12:38:03.598039",
     "exception": false,
     "start_time": "2023-12-23T12:38:03.542213",
     "status": "completed"
    },
    "tags": []
   },
   "outputs": [],
   "source": [
    "# test_set_predictions = model.predict(encoded_essay_test)\n",
    "# _ = model.evaluate(encoded_essay_test, label_test)"
   ]
  },
  {
   "cell_type": "code",
   "execution_count": 14,
   "id": "68461fc6",
   "metadata": {
    "execution": {
     "iopub.execute_input": "2023-12-23T12:38:03.688140Z",
     "iopub.status.busy": "2023-12-23T12:38:03.687856Z",
     "iopub.status.idle": "2023-12-23T12:38:03.699476Z",
     "shell.execute_reply": "2023-12-23T12:38:03.698773Z"
    },
    "papermill": {
     "duration": 0.058327,
     "end_time": "2023-12-23T12:38:03.701357",
     "exception": false,
     "start_time": "2023-12-23T12:38:03.643030",
     "status": "completed"
    },
    "tags": []
   },
   "outputs": [],
   "source": [
    "test_data = pd.read_csv('/kaggle/input/llm-detect-ai-generated-text/test_essays.csv')"
   ]
  },
  {
   "cell_type": "code",
   "execution_count": 15,
   "id": "203dfc0e",
   "metadata": {
    "execution": {
     "iopub.execute_input": "2023-12-23T12:38:03.790180Z",
     "iopub.status.busy": "2023-12-23T12:38:03.789921Z",
     "iopub.status.idle": "2023-12-23T12:38:04.908002Z",
     "shell.execute_reply": "2023-12-23T12:38:04.907249Z"
    },
    "papermill": {
     "duration": 1.164718,
     "end_time": "2023-12-23T12:38:04.910299",
     "exception": false,
     "start_time": "2023-12-23T12:38:03.745581",
     "status": "completed"
    },
    "tags": []
   },
   "outputs": [],
   "source": [
    "from nltk.tokenize import word_tokenize\n",
    "from nltk import sent_tokenize\n",
    "\n",
    "\n",
    "# Function to split text into sequences of 128 words\n",
    "def split_text_into_sequences(text):\n",
    "    words = word_tokenize(text)\n",
    "    sequences = [words[i:i + 128] for i in range(0, len(words), 128)]\n",
    "    return [' '.join(seq) for seq in sequences]\n",
    "\n",
    "\n",
    "# Apply the function to the 'text' column\n",
    "test_data['text_sequences'] = test_data['text'].apply(split_text_into_sequences)\n",
    "\n",
    "# Explode the sequences to create rows for each sequence\n",
    "df_exploded = test_data.explode('text_sequences')\n",
    "\n",
    "# Drop the original 'text' column\n",
    "df_exploded = df_exploded.drop('text', axis=1)\n",
    "\n",
    "#Resetting test_data\n",
    "test_data = df_exploded.copy()\n",
    "del df_exploded\n",
    "\n"
   ]
  },
  {
   "cell_type": "code",
   "execution_count": 16,
   "id": "d843df2a",
   "metadata": {
    "execution": {
     "iopub.execute_input": "2023-12-23T12:38:05.000278Z",
     "iopub.status.busy": "2023-12-23T12:38:04.999939Z",
     "iopub.status.idle": "2023-12-23T12:38:05.183665Z",
     "shell.execute_reply": "2023-12-23T12:38:05.182729Z"
    },
    "papermill": {
     "duration": 0.230386,
     "end_time": "2023-12-23T12:38:05.185571",
     "exception": false,
     "start_time": "2023-12-23T12:38:04.955185",
     "status": "completed"
    },
    "tags": []
   },
   "outputs": [
    {
     "name": "stdout",
     "output_type": "stream",
     "text": [
      "1/1 [==============================] - 0s 118ms/step\n",
      "CPU times: user 183 ms, sys: 7.16 ms, total: 191 ms\n",
      "Wall time: 177 ms\n"
     ]
    }
   ],
   "source": [
    "%%time\n",
    "# encoded_test_data = encoder_model(train_essays_01_source.iloc[:10000, 0])\n",
    "# test_set_predictions = model.predict(encoded_test_data)\n",
    "\n",
    "\n",
    "if len(test_data)<100:\n",
    "    encoded_test_data = encoder_model(test_data.iloc[:, 2])\n",
    "    test_set_predictions = model.predict(encoded_test_data)\n",
    "\n",
    "else:\n",
    "    batch_size = 100\n",
    "    num_batches = len(test_data)//batch_size\n",
    "\n",
    "    test_data_batches = np.array_split(test_data, num_batches)\n",
    "    test_set_predictions_batch_list = []\n",
    "\n",
    "    for batch in tqdm(test_data_batches):\n",
    "        encoded_test_data_batch = encoder_model(batch.iloc[:, 2])\n",
    "        test_set_predictions_batch = model.predict(encoded_test_data_batch)\n",
    "        test_set_predictions_batch_list.append(test_set_predictions_batch)\n",
    "\n",
    "    test_set_predictions = np.concatenate(test_set_predictions_batch_list, axis = 0)"
   ]
  },
  {
   "cell_type": "code",
   "execution_count": 17,
   "id": "326f5a11",
   "metadata": {
    "execution": {
     "iopub.execute_input": "2023-12-23T12:38:05.274924Z",
     "iopub.status.busy": "2023-12-23T12:38:05.274648Z",
     "iopub.status.idle": "2023-12-23T12:38:05.293181Z",
     "shell.execute_reply": "2023-12-23T12:38:05.292490Z"
    },
    "papermill": {
     "duration": 0.065415,
     "end_time": "2023-12-23T12:38:05.295129",
     "exception": false,
     "start_time": "2023-12-23T12:38:05.229714",
     "status": "completed"
    },
    "tags": []
   },
   "outputs": [],
   "source": [
    "test_data['prediction'] = test_set_predictions.flatten()\n",
    "\n",
    "test_data_agg = test_data.groupby(['id','prompt_id']).aggregate({'prediction':'mean'})\n",
    "\n",
    "test_data_agg.reset_index(inplace = True)\n",
    "\n",
    "test_data_agg.rename(columns = {'prediction':'genarated'}, inplace = True)"
   ]
  },
  {
   "cell_type": "code",
   "execution_count": 18,
   "id": "57e5b976",
   "metadata": {
    "execution": {
     "iopub.execute_input": "2023-12-23T12:38:05.384179Z",
     "iopub.status.busy": "2023-12-23T12:38:05.383914Z",
     "iopub.status.idle": "2023-12-23T12:38:05.393594Z",
     "shell.execute_reply": "2023-12-23T12:38:05.392902Z"
    },
    "papermill": {
     "duration": 0.05622,
     "end_time": "2023-12-23T12:38:05.395443",
     "exception": false,
     "start_time": "2023-12-23T12:38:05.339223",
     "status": "completed"
    },
    "tags": []
   },
   "outputs": [],
   "source": [
    "test_data_agg['genarated'] = np.round(test_data_agg['genarated'], decimals = 4)\n",
    "submission = test_data_agg[['id', 'genarated']]\n",
    "submission.to_csv('/kaggle/working/submission.csv', index = False, header = submission.columns.tolist())"
   ]
  },
  {
   "cell_type": "markdown",
   "id": "55183693",
   "metadata": {
    "papermill": {
     "duration": 0.043652,
     "end_time": "2023-12-23T12:38:05.482860",
     "exception": false,
     "start_time": "2023-12-23T12:38:05.439208",
     "status": "completed"
    },
    "tags": []
   },
   "source": [
    "# EDA"
   ]
  },
  {
   "cell_type": "code",
   "execution_count": 19,
   "id": "49c3ec3c",
   "metadata": {
    "execution": {
     "iopub.execute_input": "2023-12-23T12:38:05.571337Z",
     "iopub.status.busy": "2023-12-23T12:38:05.571064Z",
     "iopub.status.idle": "2023-12-23T12:38:05.575053Z",
     "shell.execute_reply": "2023-12-23T12:38:05.574272Z"
    },
    "papermill": {
     "duration": 0.050297,
     "end_time": "2023-12-23T12:38:05.577030",
     "exception": false,
     "start_time": "2023-12-23T12:38:05.526733",
     "status": "completed"
    },
    "tags": []
   },
   "outputs": [],
   "source": [
    "# import matplotlib.pyplot as plt\n",
    "# import numpy\n",
    "# from sklearn import metrics\n",
    "\n",
    "# def plot_confusion_matrix(label_test, test_set_predictions, threashold = 0.5):\n",
    "    \n",
    "#     if not test_set_pred_labels:\n",
    "#         test_set_pred_labels = [prob >= threashold for prob in test_set_predictions.flatten()]\n",
    "\n",
    "#     confusion_matrix = metrics.confusion_matrix(label_test, test_set_pred_labels)\n",
    "\n",
    "#     cm_display = metrics.ConfusionMatrixDisplay(confusion_matrix = confusion_matrix, display_labels = [False, True])\n",
    "\n",
    "#     cm_display.plot()\n",
    "#     plt.show()"
   ]
  },
  {
   "cell_type": "code",
   "execution_count": 20,
   "id": "aafed18f",
   "metadata": {
    "execution": {
     "iopub.execute_input": "2023-12-23T12:38:05.665497Z",
     "iopub.status.busy": "2023-12-23T12:38:05.665179Z",
     "iopub.status.idle": "2023-12-23T12:38:05.669792Z",
     "shell.execute_reply": "2023-12-23T12:38:05.669083Z"
    },
    "papermill": {
     "duration": 0.05096,
     "end_time": "2023-12-23T12:38:05.671731",
     "exception": false,
     "start_time": "2023-12-23T12:38:05.620771",
     "status": "completed"
    },
    "tags": []
   },
   "outputs": [],
   "source": [
    "# plot_confusion_matrix(label_test, test_set_predictions, 0.5)"
   ]
  },
  {
   "cell_type": "code",
   "execution_count": 21,
   "id": "0fb5e182",
   "metadata": {
    "execution": {
     "iopub.execute_input": "2023-12-23T12:38:05.761140Z",
     "iopub.status.busy": "2023-12-23T12:38:05.760896Z",
     "iopub.status.idle": "2023-12-23T12:38:05.765262Z",
     "shell.execute_reply": "2023-12-23T12:38:05.764383Z"
    },
    "papermill": {
     "duration": 0.051256,
     "end_time": "2023-12-23T12:38:05.767224",
     "exception": false,
     "start_time": "2023-12-23T12:38:05.715968",
     "status": "completed"
    },
    "tags": []
   },
   "outputs": [],
   "source": [
    "# import numpy as np\n",
    "# from sklearn.metrics import accuracy_score, confusion_matrix, roc_auc_score, roc_curve\n",
    "# import matplotlib.pyplot as plt\n",
    "# import plotly.graph_objects as go\n",
    "# from sklearn.metrics import roc_curve\n",
    "\n",
    "# def plot_roc_curve(true_y, y_prob):\n",
    "#     \"\"\"\n",
    "#     Plots an interactive ROC curve based on the probabilities and displays thresholds on hover.\n",
    "#     \"\"\"\n",
    "    \n",
    "#     fpr, tpr, thresholds = roc_curve(true_y, y_prob, drop_intermediate=False)\n",
    "\n",
    "#     fig = go.Figure()\n",
    "\n",
    "#     fig.add_trace(go.Scatter(x=fpr, y=tpr, mode='lines', name='ROC Curve', hovertext=[f'Threshold: {threshold:.2f}' for threshold in thresholds]))\n",
    "\n",
    "#     fig.update_layout(\n",
    "#         title='ROC Curve',\n",
    "#         xaxis=dict(title='False Positive Rate'),\n",
    "#         yaxis=dict(title='True Positive Rate'),\n",
    "#         hovermode='closest'\n",
    "#     )\n",
    "\n",
    "#     fig.show()"
   ]
  },
  {
   "cell_type": "code",
   "execution_count": 22,
   "id": "d6b00ddf",
   "metadata": {
    "execution": {
     "iopub.execute_input": "2023-12-23T12:38:05.856563Z",
     "iopub.status.busy": "2023-12-23T12:38:05.855888Z",
     "iopub.status.idle": "2023-12-23T12:38:05.859679Z",
     "shell.execute_reply": "2023-12-23T12:38:05.858852Z"
    },
    "papermill": {
     "duration": 0.050248,
     "end_time": "2023-12-23T12:38:05.861570",
     "exception": false,
     "start_time": "2023-12-23T12:38:05.811322",
     "status": "completed"
    },
    "tags": []
   },
   "outputs": [],
   "source": [
    "# plot_roc_curve(label_test, test_set_predictions.flatten())\n",
    "#print('ROC AUC Score: ',roc_auc_score(label_test, test_set_predictions.flatten()))"
   ]
  },
  {
   "cell_type": "markdown",
   "id": "7e6f64b6",
   "metadata": {
    "papermill": {
     "duration": 0.043832,
     "end_time": "2023-12-23T12:38:05.949062",
     "exception": false,
     "start_time": "2023-12-23T12:38:05.905230",
     "status": "completed"
    },
    "tags": []
   },
   "source": [
    "# TEST Data Predctions, a different approach!"
   ]
  },
  {
   "cell_type": "code",
   "execution_count": 23,
   "id": "113c5351",
   "metadata": {
    "execution": {
     "iopub.execute_input": "2023-12-23T12:38:06.038671Z",
     "iopub.status.busy": "2023-12-23T12:38:06.038397Z",
     "iopub.status.idle": "2023-12-23T12:38:06.042022Z",
     "shell.execute_reply": "2023-12-23T12:38:06.041271Z"
    },
    "papermill": {
     "duration": 0.050885,
     "end_time": "2023-12-23T12:38:06.043839",
     "exception": false,
     "start_time": "2023-12-23T12:38:05.992954",
     "status": "completed"
    },
    "tags": []
   },
   "outputs": [],
   "source": [
    "# test_data.info()"
   ]
  },
  {
   "cell_type": "code",
   "execution_count": 24,
   "id": "4e702f4d",
   "metadata": {
    "execution": {
     "iopub.execute_input": "2023-12-23T12:38:06.133962Z",
     "iopub.status.busy": "2023-12-23T12:38:06.133330Z",
     "iopub.status.idle": "2023-12-23T12:38:06.136813Z",
     "shell.execute_reply": "2023-12-23T12:38:06.136063Z"
    },
    "papermill": {
     "duration": 0.049808,
     "end_time": "2023-12-23T12:38:06.138573",
     "exception": false,
     "start_time": "2023-12-23T12:38:06.088765",
     "status": "completed"
    },
    "tags": []
   },
   "outputs": [],
   "source": [
    "# test_data = pd.read_csv('/kaggle/input/daigt-proper-train-dataset/train_drcat_04.csv')\n",
    "# #test_data.drop(columns = 'generated', inplace = True)"
   ]
  },
  {
   "cell_type": "code",
   "execution_count": 25,
   "id": "dc1f956e",
   "metadata": {
    "execution": {
     "iopub.execute_input": "2023-12-23T12:38:06.227183Z",
     "iopub.status.busy": "2023-12-23T12:38:06.226945Z",
     "iopub.status.idle": "2023-12-23T12:38:06.230390Z",
     "shell.execute_reply": "2023-12-23T12:38:06.229611Z"
    },
    "papermill": {
     "duration": 0.050003,
     "end_time": "2023-12-23T12:38:06.232345",
     "exception": false,
     "start_time": "2023-12-23T12:38:06.182342",
     "status": "completed"
    },
    "tags": []
   },
   "outputs": [],
   "source": [
    "# test_data_label = test_data[['essay_id','text']].copy()\n",
    "# test_data.drop(columns = ['source', 'prompt','fold'], inplace = True)\n",
    "# test_data.rename(columns = {'essay_id':'id'}, inplace = True)\n",
    "# test_data['prompt_id'] = test_data['id']"
   ]
  },
  {
   "cell_type": "code",
   "execution_count": 26,
   "id": "a4c2cf2c",
   "metadata": {
    "execution": {
     "iopub.execute_input": "2023-12-23T12:38:06.323935Z",
     "iopub.status.busy": "2023-12-23T12:38:06.323685Z",
     "iopub.status.idle": "2023-12-23T12:38:06.327314Z",
     "shell.execute_reply": "2023-12-23T12:38:06.326543Z"
    },
    "papermill": {
     "duration": 0.053169,
     "end_time": "2023-12-23T12:38:06.329262",
     "exception": false,
     "start_time": "2023-12-23T12:38:06.276093",
     "status": "completed"
    },
    "tags": []
   },
   "outputs": [],
   "source": [
    "# len(test_data.iloc[6,1].split())\n",
    "# #test_data.iloc[6,1]"
   ]
  },
  {
   "cell_type": "code",
   "execution_count": 27,
   "id": "8440c39c",
   "metadata": {
    "execution": {
     "iopub.execute_input": "2023-12-23T12:38:06.418586Z",
     "iopub.status.busy": "2023-12-23T12:38:06.418336Z",
     "iopub.status.idle": "2023-12-23T12:38:06.421833Z",
     "shell.execute_reply": "2023-12-23T12:38:06.421040Z"
    },
    "papermill": {
     "duration": 0.049697,
     "end_time": "2023-12-23T12:38:06.423648",
     "exception": false,
     "start_time": "2023-12-23T12:38:06.373951",
     "status": "completed"
    },
    "tags": []
   },
   "outputs": [],
   "source": [
    "# test_data.info()\n",
    "# test_data = test_data.sample(frac = 0.25)"
   ]
  },
  {
   "cell_type": "code",
   "execution_count": 28,
   "id": "8e059ec3",
   "metadata": {
    "execution": {
     "iopub.execute_input": "2023-12-23T12:38:06.527243Z",
     "iopub.status.busy": "2023-12-23T12:38:06.526945Z",
     "iopub.status.idle": "2023-12-23T12:38:06.530859Z",
     "shell.execute_reply": "2023-12-23T12:38:06.529967Z"
    },
    "papermill": {
     "duration": 0.053456,
     "end_time": "2023-12-23T12:38:06.532740",
     "exception": false,
     "start_time": "2023-12-23T12:38:06.479284",
     "status": "completed"
    },
    "tags": []
   },
   "outputs": [],
   "source": [
    "# test_data.info()"
   ]
  },
  {
   "cell_type": "code",
   "execution_count": 29,
   "id": "3df1caab",
   "metadata": {
    "execution": {
     "iopub.execute_input": "2023-12-23T12:38:06.621597Z",
     "iopub.status.busy": "2023-12-23T12:38:06.621326Z",
     "iopub.status.idle": "2023-12-23T12:38:06.625650Z",
     "shell.execute_reply": "2023-12-23T12:38:06.624802Z"
    },
    "papermill": {
     "duration": 0.050915,
     "end_time": "2023-12-23T12:38:06.627536",
     "exception": false,
     "start_time": "2023-12-23T12:38:06.576621",
     "status": "completed"
    },
    "tags": []
   },
   "outputs": [],
   "source": [
    "# from nltk.tokenize import word_tokenize\n",
    "# from nltk import sent_tokenize\n",
    "\n",
    "\n",
    "# # Function to split text into sequences of 128 words\n",
    "# def split_text_into_sequences(text):\n",
    "#     words = word_tokenize(text)\n",
    "#     sequences = [words[i:i + 128] for i in range(0, len(words), 128)]\n",
    "#     return [' '.join(seq) for seq in sequences]\n",
    "\n",
    "\n",
    "# # Apply the function to the 'text' column\n",
    "# test_data['text_sequences'] = test_data['text'].apply(split_text_into_sequences)\n",
    "\n",
    "# # Explode the sequences to create rows for each sequence\n",
    "# df_exploded = test_data.explode('text_sequences')\n",
    "\n",
    "# # Drop the original 'text' column\n",
    "# df_exploded = df_exploded.drop('text', axis=1)\n",
    "\n",
    "# #Resetting test_data\n",
    "# test_data = df_exploded.copy()\n",
    "# del df_exploded\n",
    "\n",
    "\n",
    "\n"
   ]
  },
  {
   "cell_type": "code",
   "execution_count": 30,
   "id": "db1f5929",
   "metadata": {
    "execution": {
     "iopub.execute_input": "2023-12-23T12:38:06.716730Z",
     "iopub.status.busy": "2023-12-23T12:38:06.716455Z",
     "iopub.status.idle": "2023-12-23T12:38:06.720408Z",
     "shell.execute_reply": "2023-12-23T12:38:06.719536Z"
    },
    "papermill": {
     "duration": 0.050948,
     "end_time": "2023-12-23T12:38:06.722369",
     "exception": false,
     "start_time": "2023-12-23T12:38:06.671421",
     "status": "completed"
    },
    "tags": []
   },
   "outputs": [],
   "source": [
    "# test_data = test_data.sample(frac = 8, replace = True)"
   ]
  },
  {
   "cell_type": "code",
   "execution_count": 31,
   "id": "bec09873",
   "metadata": {
    "execution": {
     "iopub.execute_input": "2023-12-23T12:38:06.811589Z",
     "iopub.status.busy": "2023-12-23T12:38:06.811309Z",
     "iopub.status.idle": "2023-12-23T12:38:06.815085Z",
     "shell.execute_reply": "2023-12-23T12:38:06.814281Z"
    },
    "papermill": {
     "duration": 0.050342,
     "end_time": "2023-12-23T12:38:06.817035",
     "exception": false,
     "start_time": "2023-12-23T12:38:06.766693",
     "status": "completed"
    },
    "tags": []
   },
   "outputs": [],
   "source": [
    "# %%time\n",
    "# tqdm\n",
    "# # Apply the function to the 'text' column\n",
    "# test_data['text_sequences'] = test_data['text'].apply(split_text_into_sequences)\n",
    "\n",
    "# # Explode the sequences to create rows for each sequence\n",
    "# df_exploded = test_data.explode('text_sequences')\n",
    "\n",
    "# # Drop the original 'text' column\n",
    "# df_exploded = df_exploded.drop('text', axis=1)\n",
    "\n",
    "# # Display the resulting dataframe\n",
    "# print(df_exploded)"
   ]
  },
  {
   "cell_type": "code",
   "execution_count": 32,
   "id": "1f81a201",
   "metadata": {
    "execution": {
     "iopub.execute_input": "2023-12-23T12:38:06.905118Z",
     "iopub.status.busy": "2023-12-23T12:38:06.904854Z",
     "iopub.status.idle": "2023-12-23T12:38:06.908356Z",
     "shell.execute_reply": "2023-12-23T12:38:06.907527Z"
    },
    "papermill": {
     "duration": 0.049744,
     "end_time": "2023-12-23T12:38:06.910149",
     "exception": false,
     "start_time": "2023-12-23T12:38:06.860405",
     "status": "completed"
    },
    "tags": []
   },
   "outputs": [],
   "source": [
    "# test_data = df_exploded"
   ]
  },
  {
   "cell_type": "code",
   "execution_count": 33,
   "id": "707d7c31",
   "metadata": {
    "execution": {
     "iopub.execute_input": "2023-12-23T12:38:06.998821Z",
     "iopub.status.busy": "2023-12-23T12:38:06.998563Z",
     "iopub.status.idle": "2023-12-23T12:38:07.002833Z",
     "shell.execute_reply": "2023-12-23T12:38:07.002009Z"
    },
    "papermill": {
     "duration": 0.051034,
     "end_time": "2023-12-23T12:38:07.004806",
     "exception": false,
     "start_time": "2023-12-23T12:38:06.953772",
     "status": "completed"
    },
    "tags": []
   },
   "outputs": [],
   "source": [
    "# %%time\n",
    "# # encoded_test_data = encoder_model(train_essays_01_source.iloc[:10000, 0])\n",
    "# # test_set_predictions = model.predict(encoded_test_data)\n",
    "\n",
    "\n",
    "# if len(test_data)<100:\n",
    "#     encoded_test_data = encoder_model(test_data.iloc[:, 3])\n",
    "#     test_set_predictions = model.predict(encoded_test_data)\n",
    "\n",
    "# else:\n",
    "#     batch_size = 100\n",
    "#     num_batches = len(test_data)//batch_size\n",
    "\n",
    "#     test_data_batches = np.array_split(test_data, num_batches)\n",
    "#     test_set_predictions_batch_list = []\n",
    "\n",
    "#     for batch in test_data_batches:\n",
    "#         encoded_test_data_batch = encoder_model(batch.iloc[:, 3])\n",
    "#         test_set_predictions_batch = model.predict(encoded_test_data_batch)\n",
    "#         test_set_predictions_batch_list.append(test_set_predictions_batch)\n",
    "\n",
    "#     test_set_predictions = np.concatenate(test_set_predictions_batch_list, axis = 0)"
   ]
  },
  {
   "cell_type": "code",
   "execution_count": 34,
   "id": "0801ced3",
   "metadata": {
    "execution": {
     "iopub.execute_input": "2023-12-23T12:38:07.094696Z",
     "iopub.status.busy": "2023-12-23T12:38:07.094429Z",
     "iopub.status.idle": "2023-12-23T12:38:07.097960Z",
     "shell.execute_reply": "2023-12-23T12:38:07.097193Z"
    },
    "papermill": {
     "duration": 0.051365,
     "end_time": "2023-12-23T12:38:07.099724",
     "exception": false,
     "start_time": "2023-12-23T12:38:07.048359",
     "status": "completed"
    },
    "tags": []
   },
   "outputs": [],
   "source": [
    "# batch.iloc[:, 3]"
   ]
  },
  {
   "cell_type": "code",
   "execution_count": 35,
   "id": "187b54a9",
   "metadata": {
    "execution": {
     "iopub.execute_input": "2023-12-23T12:38:07.188600Z",
     "iopub.status.busy": "2023-12-23T12:38:07.188325Z",
     "iopub.status.idle": "2023-12-23T12:38:07.191827Z",
     "shell.execute_reply": "2023-12-23T12:38:07.191033Z"
    },
    "papermill": {
     "duration": 0.050051,
     "end_time": "2023-12-23T12:38:07.193620",
     "exception": false,
     "start_time": "2023-12-23T12:38:07.143569",
     "status": "completed"
    },
    "tags": []
   },
   "outputs": [],
   "source": [
    "# test_set_predictions.flatten()"
   ]
  },
  {
   "cell_type": "code",
   "execution_count": 36,
   "id": "802bed4f",
   "metadata": {
    "execution": {
     "iopub.execute_input": "2023-12-23T12:38:07.281696Z",
     "iopub.status.busy": "2023-12-23T12:38:07.281407Z",
     "iopub.status.idle": "2023-12-23T12:38:07.285083Z",
     "shell.execute_reply": "2023-12-23T12:38:07.284301Z"
    },
    "papermill": {
     "duration": 0.049915,
     "end_time": "2023-12-23T12:38:07.287137",
     "exception": false,
     "start_time": "2023-12-23T12:38:07.237222",
     "status": "completed"
    },
    "tags": []
   },
   "outputs": [],
   "source": [
    "# test_data['prediction'] = test_set_predictions.flatten()"
   ]
  },
  {
   "cell_type": "code",
   "execution_count": 37,
   "id": "c9a1cdd5",
   "metadata": {
    "execution": {
     "iopub.execute_input": "2023-12-23T12:38:07.375781Z",
     "iopub.status.busy": "2023-12-23T12:38:07.375517Z",
     "iopub.status.idle": "2023-12-23T12:38:07.379035Z",
     "shell.execute_reply": "2023-12-23T12:38:07.378227Z"
    },
    "papermill": {
     "duration": 0.049849,
     "end_time": "2023-12-23T12:38:07.380937",
     "exception": false,
     "start_time": "2023-12-23T12:38:07.331088",
     "status": "completed"
    },
    "tags": []
   },
   "outputs": [],
   "source": [
    "# test_data.head()"
   ]
  },
  {
   "cell_type": "code",
   "execution_count": 38,
   "id": "4653da9d",
   "metadata": {
    "execution": {
     "iopub.execute_input": "2023-12-23T12:38:07.470119Z",
     "iopub.status.busy": "2023-12-23T12:38:07.469862Z",
     "iopub.status.idle": "2023-12-23T12:38:07.473405Z",
     "shell.execute_reply": "2023-12-23T12:38:07.472589Z"
    },
    "papermill": {
     "duration": 0.050185,
     "end_time": "2023-12-23T12:38:07.475183",
     "exception": false,
     "start_time": "2023-12-23T12:38:07.424998",
     "status": "completed"
    },
    "tags": []
   },
   "outputs": [],
   "source": [
    "# test_data['prediction'] = test_set_predictions.flatten()\n",
    "\n",
    "# test_data_agg = test_data.groupby(['id','prompt_id','label']).aggregate({'prediction':['max', 'min', 'mean', 'first']})\n",
    "\n",
    "# test_data_agg.reset_index(inplace = True)"
   ]
  },
  {
   "cell_type": "code",
   "execution_count": 39,
   "id": "39f683aa",
   "metadata": {
    "execution": {
     "iopub.execute_input": "2023-12-23T12:38:07.564137Z",
     "iopub.status.busy": "2023-12-23T12:38:07.563894Z",
     "iopub.status.idle": "2023-12-23T12:38:07.567453Z",
     "shell.execute_reply": "2023-12-23T12:38:07.566644Z"
    },
    "papermill": {
     "duration": 0.04985,
     "end_time": "2023-12-23T12:38:07.569218",
     "exception": false,
     "start_time": "2023-12-23T12:38:07.519368",
     "status": "completed"
    },
    "tags": []
   },
   "outputs": [],
   "source": [
    "# test_data_agg.reset_index(inplace = True)"
   ]
  },
  {
   "cell_type": "code",
   "execution_count": 40,
   "id": "546e65f5",
   "metadata": {
    "execution": {
     "iopub.execute_input": "2023-12-23T12:38:07.657820Z",
     "iopub.status.busy": "2023-12-23T12:38:07.657576Z",
     "iopub.status.idle": "2023-12-23T12:38:07.661318Z",
     "shell.execute_reply": "2023-12-23T12:38:07.660481Z"
    },
    "papermill": {
     "duration": 0.050303,
     "end_time": "2023-12-23T12:38:07.663302",
     "exception": false,
     "start_time": "2023-12-23T12:38:07.612999",
     "status": "completed"
    },
    "tags": []
   },
   "outputs": [],
   "source": [
    "# pred_custom = []\n",
    "# for index,row in test_data_agg.iterrows():\n",
    "    \n",
    "#     if row['prediction']['first'] >= 0.5:\n",
    "#         pred_custom.append(row['prediction']['max'])\n",
    "#     else:\n",
    "#         pred_custom.append(row['prediction']['min'])\n",
    "    "
   ]
  },
  {
   "cell_type": "code",
   "execution_count": 41,
   "id": "3798efcf",
   "metadata": {
    "execution": {
     "iopub.execute_input": "2023-12-23T12:38:07.752218Z",
     "iopub.status.busy": "2023-12-23T12:38:07.751947Z",
     "iopub.status.idle": "2023-12-23T12:38:07.755381Z",
     "shell.execute_reply": "2023-12-23T12:38:07.754593Z"
    },
    "papermill": {
     "duration": 0.050296,
     "end_time": "2023-12-23T12:38:07.757289",
     "exception": false,
     "start_time": "2023-12-23T12:38:07.706993",
     "status": "completed"
    },
    "tags": []
   },
   "outputs": [],
   "source": [
    "# test_data_agg['custom'] = pred_custom"
   ]
  },
  {
   "cell_type": "code",
   "execution_count": 42,
   "id": "bd024543",
   "metadata": {
    "execution": {
     "iopub.execute_input": "2023-12-23T12:38:07.845929Z",
     "iopub.status.busy": "2023-12-23T12:38:07.845661Z",
     "iopub.status.idle": "2023-12-23T12:38:07.849043Z",
     "shell.execute_reply": "2023-12-23T12:38:07.848275Z"
    },
    "papermill": {
     "duration": 0.049829,
     "end_time": "2023-12-23T12:38:07.850921",
     "exception": false,
     "start_time": "2023-12-23T12:38:07.801092",
     "status": "completed"
    },
    "tags": []
   },
   "outputs": [],
   "source": [
    "# test_data_agg.head()"
   ]
  },
  {
   "cell_type": "code",
   "execution_count": 43,
   "id": "60886cf0",
   "metadata": {
    "execution": {
     "iopub.execute_input": "2023-12-23T12:38:07.938895Z",
     "iopub.status.busy": "2023-12-23T12:38:07.938633Z",
     "iopub.status.idle": "2023-12-23T12:38:07.942041Z",
     "shell.execute_reply": "2023-12-23T12:38:07.941347Z"
    },
    "papermill": {
     "duration": 0.049248,
     "end_time": "2023-12-23T12:38:07.943757",
     "exception": false,
     "start_time": "2023-12-23T12:38:07.894509",
     "status": "completed"
    },
    "tags": []
   },
   "outputs": [],
   "source": [
    "#print('ROC AUC Score: ',roc_auc_score(label_test, test_set_predictions.flatten()))"
   ]
  },
  {
   "cell_type": "code",
   "execution_count": 44,
   "id": "1e7f66ce",
   "metadata": {
    "execution": {
     "iopub.execute_input": "2023-12-23T12:38:08.032403Z",
     "iopub.status.busy": "2023-12-23T12:38:08.032126Z",
     "iopub.status.idle": "2023-12-23T12:38:08.035565Z",
     "shell.execute_reply": "2023-12-23T12:38:08.034817Z"
    },
    "papermill": {
     "duration": 0.049726,
     "end_time": "2023-12-23T12:38:08.037466",
     "exception": false,
     "start_time": "2023-12-23T12:38:07.987740",
     "status": "completed"
    },
    "tags": []
   },
   "outputs": [],
   "source": [
    "# for i in range(3,8):\n",
    "#     print('ROC with metric:',test_data_agg.columns[i])\n",
    "#     print('ROC AUC Score: ',roc_auc_score(test_data_agg.iloc[:,2], test_data_agg.iloc[:,i]))"
   ]
  },
  {
   "cell_type": "code",
   "execution_count": 45,
   "id": "463b36d8",
   "metadata": {
    "execution": {
     "iopub.execute_input": "2023-12-23T12:38:08.126777Z",
     "iopub.status.busy": "2023-12-23T12:38:08.126513Z",
     "iopub.status.idle": "2023-12-23T12:38:08.129993Z",
     "shell.execute_reply": "2023-12-23T12:38:08.129184Z"
    },
    "papermill": {
     "duration": 0.049902,
     "end_time": "2023-12-23T12:38:08.131947",
     "exception": false,
     "start_time": "2023-12-23T12:38:08.082045",
     "status": "completed"
    },
    "tags": []
   },
   "outputs": [],
   "source": [
    "# (0.9824285407738714 - 0.9667853753352559)*100"
   ]
  },
  {
   "cell_type": "code",
   "execution_count": null,
   "id": "fb1d5f3d",
   "metadata": {
    "papermill": {
     "duration": 0.044019,
     "end_time": "2023-12-23T12:38:08.220119",
     "exception": false,
     "start_time": "2023-12-23T12:38:08.176100",
     "status": "completed"
    },
    "tags": []
   },
   "outputs": [],
   "source": []
  }
 ],
 "metadata": {
  "kaggle": {
   "accelerator": "gpu",
   "dataSources": [
    {
     "databundleVersionId": 6888007,
     "sourceId": 61542,
     "sourceType": "competition"
    },
    {
     "datasetId": 3942644,
     "sourceId": 6890527,
     "sourceType": "datasetVersion"
    },
    {
     "datasetId": 3961875,
     "sourceId": 6971638,
     "sourceType": "datasetVersion"
    },
    {
     "modelInstanceId": 1910,
     "sourceId": 2644,
     "sourceType": "modelInstanceVersion"
    },
    {
     "modelInstanceId": 2180,
     "sourceId": 2938,
     "sourceType": "modelInstanceVersion"
    }
   ],
   "dockerImageVersionId": 30627,
   "isGpuEnabled": true,
   "isInternetEnabled": false,
   "language": "python",
   "sourceType": "notebook"
  },
  "kernelspec": {
   "display_name": "Python 3",
   "language": "python",
   "name": "python3"
  },
  "language_info": {
   "codemirror_mode": {
    "name": "ipython",
    "version": 3
   },
   "file_extension": ".py",
   "mimetype": "text/x-python",
   "name": "python",
   "nbconvert_exporter": "python",
   "pygments_lexer": "ipython3",
   "version": "3.10.12"
  },
  "papermill": {
   "default_parameters": {},
   "duration": 212.637941,
   "end_time": "2023-12-23T12:38:11.783800",
   "environment_variables": {},
   "exception": null,
   "input_path": "__notebook__.ipynb",
   "output_path": "__notebook__.ipynb",
   "parameters": {},
   "start_time": "2023-12-23T12:34:39.145859",
   "version": "2.4.0"
  }
 },
 "nbformat": 4,
 "nbformat_minor": 5
}
