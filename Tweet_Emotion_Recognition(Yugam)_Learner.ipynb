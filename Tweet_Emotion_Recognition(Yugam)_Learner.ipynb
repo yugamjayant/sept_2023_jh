{
  "nbformat": 4,
  "nbformat_minor": 0,
  "metadata": {
    "colab": {
      "provenance": [],
      "include_colab_link": true
    },
    "kernelspec": {
      "display_name": "Python 3",
      "name": "python3"
    },
    "language_info": {
      "codemirror_mode": {
        "name": "ipython",
        "version": 3
      },
      "file_extension": ".py",
      "mimetype": "text/x-python",
      "name": "python",
      "nbconvert_exporter": "python",
      "pygments_lexer": "ipython3",
      "version": "3.8.3"
    }
  },
  "cells": [
    {
      "cell_type": "markdown",
      "metadata": {
        "id": "view-in-github",
        "colab_type": "text"
      },
      "source": [
        "<a href=\"https://colab.research.google.com/github/yugamjayant/sept_2023_jh/blob/main/Tweet_Emotion_Recognition(Yugam)_Learner.ipynb\" target=\"_parent\"><img src=\"https://colab.research.google.com/assets/colab-badge.svg\" alt=\"Open In Colab\"/></a>"
      ]
    },
    {
      "cell_type": "markdown",
      "metadata": {
        "id": "sp7D0ktn5eiG"
      },
      "source": [
        "## Tweet Emotion Recognition: Natural Language Processing with TensorFlow (And comparision with other pretrained models)\n",
        "\n",
        "---\n",
        "\n",
        "Dataset: [Tweet Emotion Dataset](https://github.com/dair-ai/emotion_dataset)\n",
        "\n",
        "---\n",
        "\n"
      ]
    },
    {
      "cell_type": "markdown",
      "metadata": {
        "id": "cprXxkrMxIgT"
      },
      "source": [
        "##Setup and Imports\n",
        "\n",
        "1. Installing Hugging Face's nlp package\n",
        "2. Importing libraries"
      ]
    },
    {
      "cell_type": "code",
      "metadata": {
        "id": "yKFjWz6e5eiH",
        "colab": {
          "base_uri": "https://localhost:8080/"
        },
        "outputId": "91c9cb9e-6f6b-4250-a6cf-adf1aaff228d"
      },
      "source": [
        "%matplotlib inline\n",
        "\n",
        "import tensorflow as tf\n",
        "import numpy as np\n",
        "import matplotlib.pyplot as plt\n",
        "import random\n",
        "import sklearn\n",
        "from sklearn.model_selection import train_test_split\n",
        "\n",
        "\n",
        "def show_history(h):\n",
        "    epochs_trained = len(h.history['loss'])\n",
        "    plt.figure(figsize=(16, 6))\n",
        "\n",
        "    plt.subplot(1, 2, 1)\n",
        "    plt.plot(range(0, epochs_trained), h.history.get('accuracy'), label='Training')\n",
        "    plt.plot(range(0, epochs_trained), h.history.get('val_accuracy'), label='Validation')\n",
        "    plt.ylim([0., 1.])\n",
        "    plt.xlabel('Epochs')\n",
        "    plt.ylabel('Accuracy')\n",
        "    plt.legend()\n",
        "\n",
        "    plt.subplot(1, 2, 2)\n",
        "    plt.plot(range(0, epochs_trained), h.history.get('loss'), label='Training')\n",
        "    plt.plot(range(0, epochs_trained), h.history.get('val_loss'), label='Validation')\n",
        "    plt.xlabel('Epochs')\n",
        "    plt.ylabel('Loss')\n",
        "    plt.legend()\n",
        "    plt.show()\n",
        "\n",
        "\n",
        "def show_confusion_matrix(y_true, y_pred, classes):\n",
        "    from sklearn.metrics import confusion_matrix\n",
        "\n",
        "    cm = confusion_matrix(y_true, y_pred, normalize='true')\n",
        "\n",
        "    plt.figure(figsize=(8, 8))\n",
        "    sp = plt.subplot(1, 1, 1)\n",
        "    ctx = sp.matshow(cm)\n",
        "    plt.xticks(list(range(0, 6)), labels=classes)\n",
        "    plt.yticks(list(range(0, 6)), labels=classes)\n",
        "    plt.colorbar(ctx)\n",
        "    plt.show()\n",
        "\n",
        "\n",
        "print('Using TensorFlow version', tf.__version__)"
      ],
      "execution_count": 1,
      "outputs": [
        {
          "output_type": "stream",
          "name": "stdout",
          "text": [
            "Using TensorFlow version 2.13.0\n"
          ]
        }
      ]
    },
    {
      "cell_type": "markdown",
      "metadata": {
        "id": "7JsBpezExIga"
      },
      "source": [
        "##Importing Data\n",
        "\n",
        "1. Importing the Tweet Emotion dataset\n",
        "2. Creating train, validation and test sets\n",
        "3. Extracting tweets and labels from the examples"
      ]
    },
    {
      "cell_type": "code",
      "metadata": {
        "id": "0YHOvjAu5eiL",
        "colab": {
          "base_uri": "https://localhost:8080/"
        },
        "outputId": "5e7017ea-d80e-4db6-c739-3514bcd037c5"
      },
      "source": [
        "import pandas as pd\n",
        "import os\n",
        "\n",
        "# Gave access to google drive\n",
        "from google.colab import drive\n",
        "drive.mount('/content/drive')\n",
        "\n",
        "%cd /content/drive/MyDrive\n",
        "%cd Colab_Notebooks\n",
        "\n",
        "dataset = pd.read_pickle('merged_training.pkl')\n"
      ],
      "execution_count": 2,
      "outputs": [
        {
          "output_type": "stream",
          "name": "stdout",
          "text": [
            "Drive already mounted at /content/drive; to attempt to forcibly remount, call drive.mount(\"/content/drive\", force_remount=True).\n",
            "/content/drive/MyDrive\n",
            "/content/drive/MyDrive/Colab_Notebooks\n"
          ]
        }
      ]
    },
    {
      "cell_type": "code",
      "metadata": {
        "id": "2s0h541FxIgc"
      },
      "source": [
        "tweets = dataset['text'].to_list()\n",
        "labels = dataset['emotions'].to_list()"
      ],
      "execution_count": 3,
      "outputs": []
    },
    {
      "cell_type": "markdown",
      "source": [
        "Split the dataset into test, train and validation"
      ],
      "metadata": {
        "id": "XVNuoTSjb_St"
      }
    },
    {
      "cell_type": "code",
      "source": [
        "\n",
        "train_x, test_cv_x, train_y, test_cv_y= train_test_split(tweets, labels, random_state=104,test_size=0.2, shuffle=True)\n",
        "test_x, cv_x, test_y, cv_y= train_test_split(test_cv_x, test_cv_y, random_state=104,test_size=0.5, shuffle=True)"
      ],
      "metadata": {
        "id": "eyXbvkOVW3Id"
      },
      "execution_count": 4,
      "outputs": []
    },
    {
      "cell_type": "code",
      "metadata": {
        "id": "z7eCnxU25eiN",
        "colab": {
          "base_uri": "https://localhost:8080/"
        },
        "outputId": "5a3647b6-9e6a-4a93-c3a5-03f25cacabb9"
      },
      "source": [
        "#Checking the sizes of created\n",
        "print(f'Len train set: {len(train_x)}, cv set: {len(cv_x)}, len test set: {len(test_x)}')\n",
        "print(f'Len train set: {len(train_y)}, cv set: {len(cv_y)}, len test set: {len(test_y)}')"
      ],
      "execution_count": 5,
      "outputs": [
        {
          "output_type": "stream",
          "name": "stdout",
          "text": [
            "Len train set: 333447, cv set: 41681, len test set: 41681\n",
            "Len train set: 333447, cv set: 41681, len test set: 41681\n"
          ]
        }
      ]
    },
    {
      "cell_type": "markdown",
      "metadata": {
        "id": "gcAflLv6xIgp"
      },
      "source": [
        "##Tokenizer\n",
        "\n",
        "1. Tokenizing the tweets"
      ]
    },
    {
      "cell_type": "code",
      "metadata": {
        "id": "qfX5-ResxIgq"
      },
      "source": [
        "from tensorflow.keras.preprocessing.text import Tokenizer"
      ],
      "execution_count": null,
      "outputs": []
    },
    {
      "cell_type": "code",
      "metadata": {
        "id": "cckUvwBo5eif"
      },
      "source": [
        "tokenizer = Tokenizer(num_words = 10000, oov_token = '<UNK>')\n",
        "tokenizer.fit_on_texts(tweets)"
      ],
      "execution_count": null,
      "outputs": []
    },
    {
      "cell_type": "markdown",
      "metadata": {
        "id": "i3Bqm7b2xIgu"
      },
      "source": [
        "##Padding and Truncating Sequences\n",
        "\n",
        "1. Checking length of the tweets\n",
        "2. Creating padded sequences"
      ]
    },
    {
      "cell_type": "code",
      "metadata": {
        "id": "mLvf_WFZxIgu",
        "colab": {
          "base_uri": "https://localhost:8080/",
          "height": 430
        },
        "outputId": "3768a2de-06a0-4d01-80d6-825caead5e99"
      },
      "source": [
        "tweet_lengths = [len(i.split(' ')) for i in tweets]\n",
        "\n",
        "plt.hist(tweet_lengths, bins = 100, range= (0, 70))\n",
        "plt.show()"
      ],
      "execution_count": null,
      "outputs": [
        {
          "output_type": "display_data",
          "data": {
            "text/plain": [
              "<Figure size 640x480 with 1 Axes>"
            ],
            "image/png": "[encoded data removed]"
          },
          "metadata": {}
        }
      ]
    },
    {
      "cell_type": "code",
      "metadata": {
        "id": "EOi5lIE3xIgx"
      },
      "source": [
        "#In the next step we have to make our input homogeneous, i.e the I/p for all tweets should be of the same length"
      ],
      "execution_count": null,
      "outputs": []
    },
    {
      "cell_type": "code",
      "metadata": {
        "id": "Q9J_Iemf5eiq"
      },
      "source": [
        "from tensorflow.keras.preprocessing.sequence import pad_sequences\n",
        "\n",
        "def get_padded_sequeces(tokenizer, tweets):\n",
        "  sequences = tokenizer.texts_to_sequences(tweets)\n",
        "  #Truncting all tweets from the end if I/p sequence is long and padding if its short, setting a limit on length 60\n",
        "  padded_seq = pad_sequences(sequences, truncating = 'post', padding = 'post', maxlen = 60)\n",
        "\n",
        "  return padded_seq"
      ],
      "execution_count": null,
      "outputs": []
    },
    {
      "cell_type": "code",
      "metadata": {
        "id": "eglH77ky5ei0"
      },
      "source": [
        "train_x_seq = get_padded_sequeces(tokenizer, train_x)"
      ],
      "execution_count": null,
      "outputs": []
    },
    {
      "cell_type": "code",
      "metadata": {
        "id": "iGR473HA5ei7",
        "colab": {
          "base_uri": "https://localhost:8080/"
        },
        "outputId": "8c95b482-f59e-4ac8-fb9d-f6b872b5fc0a"
      },
      "source": [
        "len(np.unique(train_x_seq))"
      ],
      "execution_count": null,
      "outputs": [
        {
          "output_type": "execute_result",
          "data": {
            "text/plain": [
              "10000"
            ]
          },
          "metadata": {},
          "execution_count": 35
        }
      ]
    },
    {
      "cell_type": "markdown",
      "metadata": {
        "id": "BURhOX_KxIg8"
      },
      "source": [
        "##Preparing the Labels\n",
        "\n",
        "1. Creating classes to index and index to classes dictionaries\n",
        "2. Converting text labels to numeric labels"
      ]
    },
    {
      "cell_type": "code",
      "metadata": {
        "id": "SufT2bpD5ejE"
      },
      "source": [
        "# First lets check how many classed we have and its distribution"
      ],
      "execution_count": null,
      "outputs": []
    },
    {
      "cell_type": "code",
      "metadata": {
        "id": "rpwzL88I7YSm",
        "colab": {
          "base_uri": "https://localhost:8080/",
          "height": 430
        },
        "outputId": "456c5f11-f0fc-42ff-89a7-b837d5312cdf"
      },
      "source": [
        "plt.hist(train_y, bins = 11)\n",
        "plt.show()"
      ],
      "execution_count": null,
      "outputs": [
        {
          "output_type": "display_data",
          "data": {
            "text/plain": [
              "<Figure size 640x480 with 1 Axes>"
            ],
            "image/png": "[encoded data removed]"
          },
          "metadata": {}
        }
      ]
    },
    {
      "cell_type": "code",
      "metadata": {
        "id": "dNLF6rXL5ejN"
      },
      "source": [
        "classes = set(train_y)\n",
        "\n",
        "class_to_index = dict((c, i) for i, c in enumerate(classes))\n",
        "index_to_class = dict((i, c) for i, c in enumerate(classes))"
      ],
      "execution_count": 5,
      "outputs": []
    },
    {
      "cell_type": "code",
      "metadata": {
        "id": "gpeDoA6gxIhE"
      },
      "source": [
        "class_to_index_func = lambda labels: np.array([class_to_index.get(i) for i in labels])\n",
        "\n",
        "train_y_index = class_to_index_func(train_y)"
      ],
      "execution_count": 6,
      "outputs": []
    },
    {
      "cell_type": "markdown",
      "metadata": {
        "id": "c-v0Mnh8xIhP"
      },
      "source": [
        "##Creating the Model\n",
        "\n",
        "1. Creating the model\n",
        "2. Compiling the model"
      ]
    },
    {
      "cell_type": "code",
      "metadata": {
        "id": "OpewXxPQ5eji",
        "colab": {
          "base_uri": "https://localhost:8080/",
          "height": 127
        },
        "outputId": "fa02f669-48bc-4a84-b530-afbf2cdf7f66"
      },
      "source": [
        "model = tf.keras.models.Sequential([\n",
        "        tf.keras.layers.Embedding(10000, 16, input_length = 60),\n",
        "        tf.keras.layers.Bidirectional(tf.keras.layers.LSTM(20, return_sequences = True)),\n",
        "        tf.keras.layers.Bidirectional(tf.keras.layers.LSTM(20)),\n",
        "        tf.keras.layers.Dense(6, activation = 'softmax')\n",
        "])\n",
        "\n",
        "model.compile(\n",
        "    loss = 'sparse_categorical_crossentropy',\n",
        "    optimizer = 'adam',\n",
        "    metrics = ['accuracy']\n",
        ")\n",
        "\n",
        "\n",
        "# '''\n",
        "# Explainination for using above NN architecture,\n",
        "# Embedding layer\n",
        "# - the Embedding layer is an essential component in NLP tasks, as it helps convert raw text data into a format that deep learning models can effectively learn from. It captures semantic relationships between words and provides a foundation for downstream layers in the neural network to make sense of textual data.\n",
        "# 10000, is vocalbulary size,\n",
        "# 16: it represents the output dimension or embedding dimension. It specifies the size of the dense vectors that will represent each word in the vocabulary,\n",
        "# 60: Max I/P seq length\n",
        "\n",
        "# Bidirectional layer\n",
        "# capture contextual information from both directions (forward and backward) in the input sequence and retain sequence information.\n",
        "# 2 bidirectional layer o/p's single bite sized num, rather than an sequnce\n",
        "\n",
        "# Dense layer\n",
        "# final Dense layer is responsible for the classification task, where it takes the contextual information learned by the previous layers and produces probability scores for each class\n",
        "# '''"
      ],
      "execution_count": null,
      "outputs": [
        {
          "output_type": "execute_result",
          "data": {
            "text/plain": [
              "\"\\nExplainination for using above NN architecture, \\nEmbedding layer\\n- the Embedding layer is an essential component in NLP tasks, as it helps convert raw text data into a format that deep learning models can effectively learn from. It captures semantic relationships between words and provides a foundation for downstream layers in the neural network to make sense of textual data.\\n10000, is vocalbulary size, \\n16: it represents the output dimension or embedding dimension. It specifies the size of the dense vectors that will represent each word in the vocabulary, \\n60: Max I/P seq length\\n\\nBidirectional layer\\ncapture contextual information from both directions (forward and backward) in the input sequence and retain sequence information.\\n2 bidirectional layer o/p's single bite sized num, rather than an sequnce\\n\\nDense layer\\nfinal Dense layer is responsible for the classification task, where it takes the contextual information learned by the previous layers and produces probability scores for each class\\n\""
            ],
            "application/vnd.google.colaboratory.intrinsic+json": {
              "type": "string"
            }
          },
          "metadata": {},
          "execution_count": 36
        }
      ]
    },
    {
      "cell_type": "code",
      "source": [
        "model.summary()"
      ],
      "metadata": {
        "colab": {
          "base_uri": "https://localhost:8080/"
        },
        "id": "Thz1MTDNzk5Q",
        "outputId": "9e95a325-29d4-458e-df0b-36c1d4e6cbee"
      },
      "execution_count": null,
      "outputs": [
        {
          "output_type": "stream",
          "name": "stdout",
          "text": [
            "Model: \"sequential\"\n",
            "_________________________________________________________________\n",
            " Layer (type)                Output Shape              Param #   \n",
            "=================================================================\n",
            " embedding (Embedding)       (None, 60, 16)            160000    \n",
            "                                                                 \n",
            " bidirectional (Bidirection  (None, 60, 40)            5920      \n",
            " al)                                                             \n",
            "                                                                 \n",
            " bidirectional_1 (Bidirecti  (None, 40)                9760      \n",
            " onal)                                                           \n",
            "                                                                 \n",
            " dense (Dense)               (None, 6)                 246       \n",
            "                                                                 \n",
            "=================================================================\n",
            "Total params: 175926 (687.21 KB)\n",
            "Trainable params: 175926 (687.21 KB)\n",
            "Non-trainable params: 0 (0.00 Byte)\n",
            "_________________________________________________________________\n"
          ]
        }
      ]
    },
    {
      "cell_type": "markdown",
      "metadata": {
        "id": "1HST_CHjxIhR"
      },
      "source": [
        "##Training the Model\n",
        "\n",
        "1. Preparing a validation set\n",
        "2. Training the model"
      ]
    },
    {
      "cell_type": "code",
      "metadata": {
        "id": "Ff7F3hCK5ejm"
      },
      "source": [
        "#Preparing the validation dataset\n",
        "cv_x_seq = get_padded_sequeces(tokenizer, cv_x)\n",
        "cv_y_index = class_to_index_func(cv_y)\n"
      ],
      "execution_count": null,
      "outputs": []
    },
    {
      "cell_type": "code",
      "metadata": {
        "id": "hlMKaZ3H5ejr",
        "colab": {
          "base_uri": "https://localhost:8080/"
        },
        "outputId": "4bff06d8-2d23-44d3-a1fe-e895ac22be14"
      },
      "source": [
        "h = model.fit(\n",
        "   train_x_seq, train_y_index,\n",
        "   validation_data = (cv_x_seq, cv_y_index),\n",
        "   epochs = 20,\n",
        "   callbacks = [\n",
        "      tf.keras.callbacks.EarlyStopping(monitor = 'val_accuracy', patience = 2)\n",
        "   ]\n",
        ")"
      ],
      "execution_count": null,
      "outputs": [
        {
          "output_type": "stream",
          "name": "stdout",
          "text": [
            "Epoch 1/20\n",
            "10421/10421 [==============================] - 934s 89ms/step - loss: 0.2787 - accuracy: 0.8881 - val_loss: 0.1088 - val_accuracy: 0.9362\n",
            "Epoch 2/20\n",
            "10421/10421 [==============================] - 908s 87ms/step - loss: 0.1010 - accuracy: 0.9384 - val_loss: 0.0975 - val_accuracy: 0.9395\n",
            "Epoch 3/20\n",
            "10421/10421 [==============================] - 888s 85ms/step - loss: 0.0925 - accuracy: 0.9400 - val_loss: 0.0934 - val_accuracy: 0.9386\n",
            "Epoch 4/20\n",
            "10421/10421 [==============================] - 888s 85ms/step - loss: 0.0888 - accuracy: 0.9422 - val_loss: 0.0916 - val_accuracy: 0.9396\n",
            "Epoch 5/20\n",
            "10421/10421 [==============================] - 894s 86ms/step - loss: 0.0866 - accuracy: 0.9425 - val_loss: 0.0913 - val_accuracy: 0.9386\n",
            "Epoch 6/20\n",
            "10421/10421 [==============================] - 896s 86ms/step - loss: 0.0850 - accuracy: 0.9423 - val_loss: 0.0942 - val_accuracy: 0.9381\n"
          ]
        }
      ]
    },
    {
      "cell_type": "code",
      "metadata": {
        "id": "bzBqnWQ-5ejw"
      },
      "source": [],
      "execution_count": null,
      "outputs": []
    },
    {
      "cell_type": "markdown",
      "metadata": {
        "id": "EdsJyMTLxIhX"
      },
      "source": [
        "##Evaluating the Model\n",
        "\n",
        "1. Visualizing training history\n",
        "2. Prepraring a test set\n",
        "3. A look at individual predictions on the test set\n",
        "4. A look at all predictions on the test set"
      ]
    },
    {
      "cell_type": "code",
      "metadata": {
        "id": "ENCfvXeLxIhX",
        "colab": {
          "base_uri": "https://localhost:8080/",
          "height": 365
        },
        "outputId": "7d37e717-2840-402f-dd06-a7c2740e1db8"
      },
      "source": [
        "show_history(h)"
      ],
      "execution_count": null,
      "outputs": [
        {
          "output_type": "display_data",
          "data": {
            "text/plain": [
              "<Figure size 1600x600 with 2 Axes>"
            ],
            "image/png": "[encoded data removed]"
          },
          "metadata": {}
        }
      ]
    },
    {
      "cell_type": "code",
      "metadata": {
        "id": "kWuzoz8uxIha"
      },
      "source": [
        "#Preparing the test dataset\n",
        "test_x_seq = get_padded_sequeces(tokenizer, test_x)\n",
        "test_y_index = class_to_index_func(test_y)"
      ],
      "execution_count": null,
      "outputs": []
    },
    {
      "cell_type": "code",
      "metadata": {
        "id": "7vRVJ_2SxIhc",
        "colab": {
          "base_uri": "https://localhost:8080/"
        },
        "outputId": "d82be7a9-36ec-44c7-e069-85ba48d68e64"
      },
      "source": [
        "_ = model.evaluate(test_x_seq, test_y_index)"
      ],
      "execution_count": null,
      "outputs": [
        {
          "output_type": "stream",
          "name": "stdout",
          "text": [
            "1303/1303 [==============================] - 23s 18ms/step - loss: 0.0936 - accuracy: 0.9390\n"
          ]
        }
      ]
    },
    {
      "cell_type": "code",
      "metadata": {
        "id": "rh638vHG5ej6",
        "colab": {
          "base_uri": "https://localhost:8080/"
        },
        "outputId": "b6b448aa-4c72-41c8-f424-1fdfebef7f06"
      },
      "source": [
        "# Comparing model's output with test set's corrct label\n",
        "\n",
        "i = random.randint(0, len(test_y)-1)\n",
        "\n",
        "print('Test tweet: ', test_x[i])\n",
        "print('Correct emotion: ',test_y[\n",
        "  i])\n",
        "\n",
        "p = model.predict(np.expand_dims(test_x_seq[i], axis = 0))[0]\n",
        "pred_class_label = np.argmax(p).astype(int)\n",
        "\n",
        "print(\"Model predicts: \",index_to_class.get(pred_class_label))"
      ],
      "execution_count": null,
      "outputs": [
        {
          "output_type": "stream",
          "name": "stdout",
          "text": [
            "Test tweet:  i feel content marketing is valuable from an engagement perspective\n",
            "Correct emotion:  joy\n",
            "1/1 [==============================] - 0s 33ms/step\n",
            "Model predicts:  joy\n"
          ]
        }
      ]
    },
    {
      "cell_type": "code",
      "source": [
        "# Making a heat map for confusion matrix\n",
        "\n",
        "test_set_predictions = model.predict(test_x_seq)\n",
        "\n",
        "test_set_predictions_1 = np.argmax(test_set_predictions, axis = -1)\n",
        "\n",
        "show_confusion_matrix(test_y_index, test_set_predictions_1, list(classes))"
      ],
      "metadata": {
        "colab": {
          "base_uri": "https://localhost:8080/"
        },
        "id": "-KSb6hft0U3D",
        "outputId": "40ed1c12-a0be-497d-9904-b152bc8f0dca"
      },
      "execution_count": null,
      "outputs": [
        {
          "output_type": "stream",
          "name": "stdout",
          "text": [
            "1303/1303 [==============================] - 26s 20ms/step\n"
          ]
        }
      ]
    },
    {
      "cell_type": "markdown",
      "source": [
        "After bulding this model, I was curious to find out how a pre-trained model would do on this classification task, thus in the following part of this notebook I have tried to finetune a pre-trained model, on my training set to compare the results."
      ],
      "metadata": {
        "id": "hUqR63u3ULQ2"
      }
    },
    {
      "cell_type": "markdown",
      "source": [
        "##Roberta multiclass classification model (finetuned)\n",
        "\n",
        "https://huggingface.co/SamLowe/roberta-base-go_emotions\n"
      ],
      "metadata": {
        "id": "w-3JaxDGM43J"
      }
    },
    {
      "cell_type": "markdown",
      "source": [
        "Pre-process the data"
      ],
      "metadata": {
        "id": "wElUfzt337yM"
      }
    },
    {
      "cell_type": "code",
      "source": [
        "!pip install transformers torch"
      ],
      "metadata": {
        "colab": {
          "base_uri": "https://localhost:8080/"
        },
        "id": "sk6go9CUYxm_",
        "outputId": "eb1564c7-4ba5-4851-8302-8d331881f0a0"
      },
      "execution_count": 22,
      "outputs": [
        {
          "output_type": "stream",
          "name": "stdout",
          "text": [
            "Requirement already satisfied: transformers in /usr/local/lib/python3.10/dist-packages (4.34.0)\n",
            "Requirement already satisfied: torch in /usr/local/lib/python3.10/dist-packages (2.0.1+cu118)\n",
            "Requirement already satisfied: filelock in /usr/local/lib/python3.10/dist-packages (from transformers) (3.12.4)\n",
            "Requirement already satisfied: huggingface-hub<1.0,>=0.16.4 in /usr/local/lib/python3.10/dist-packages (from transformers) (0.17.3)\n",
            "Requirement already satisfied: numpy>=1.17 in /usr/local/lib/python3.10/dist-packages (from transformers) (1.23.5)\n",
            "Requirement already satisfied: packaging>=20.0 in /usr/local/lib/python3.10/dist-packages (from transformers) (23.2)\n",
            "Requirement already satisfied: pyyaml>=5.1 in /usr/local/lib/python3.10/dist-packages (from transformers) (6.0.1)\n",
            "Requirement already satisfied: regex!=2019.12.17 in /usr/local/lib/python3.10/dist-packages (from transformers) (2023.6.3)\n",
            "Requirement already satisfied: requests in /usr/local/lib/python3.10/dist-packages (from transformers) (2.31.0)\n",
            "Requirement already satisfied: tokenizers<0.15,>=0.14 in /usr/local/lib/python3.10/dist-packages (from transformers) (0.14.1)\n",
            "Requirement already satisfied: safetensors>=0.3.1 in /usr/local/lib/python3.10/dist-packages (from transformers) (0.4.0)\n",
            "Requirement already satisfied: tqdm>=4.27 in /usr/local/lib/python3.10/dist-packages (from transformers) (4.66.1)\n",
            "Requirement already satisfied: typing-extensions in /usr/local/lib/python3.10/dist-packages (from torch) (4.5.0)\n",
            "Requirement already satisfied: sympy in /usr/local/lib/python3.10/dist-packages (from torch) (1.12)\n",
            "Requirement already satisfied: networkx in /usr/local/lib/python3.10/dist-packages (from torch) (3.1)\n",
            "Requirement already satisfied: jinja2 in /usr/local/lib/python3.10/dist-packages (from torch) (3.1.2)\n",
            "Requirement already satisfied: triton==2.0.0 in /usr/local/lib/python3.10/dist-packages (from torch) (2.0.0)\n",
            "Requirement already satisfied: cmake in /usr/local/lib/python3.10/dist-packages (from triton==2.0.0->torch) (3.27.6)\n",
            "Requirement already satisfied: lit in /usr/local/lib/python3.10/dist-packages (from triton==2.0.0->torch) (17.0.2)\n",
            "Requirement already satisfied: fsspec in /usr/local/lib/python3.10/dist-packages (from huggingface-hub<1.0,>=0.16.4->transformers) (2023.6.0)\n",
            "Requirement already satisfied: MarkupSafe>=2.0 in /usr/local/lib/python3.10/dist-packages (from jinja2->torch) (2.1.3)\n",
            "Requirement already satisfied: charset-normalizer<4,>=2 in /usr/local/lib/python3.10/dist-packages (from requests->transformers) (3.3.0)\n",
            "Requirement already satisfied: idna<4,>=2.5 in /usr/local/lib/python3.10/dist-packages (from requests->transformers) (3.4)\n",
            "Requirement already satisfied: urllib3<3,>=1.21.1 in /usr/local/lib/python3.10/dist-packages (from requests->transformers) (2.0.6)\n",
            "Requirement already satisfied: certifi>=2017.4.17 in /usr/local/lib/python3.10/dist-packages (from requests->transformers) (2023.7.22)\n",
            "Requirement already satisfied: mpmath>=0.19 in /usr/local/lib/python3.10/dist-packages (from sympy->torch) (1.3.0)\n",
            "\u001b[31mERROR: Operation cancelled by user\u001b[0m\u001b[31m\n",
            "\u001b[0m"
          ]
        }
      ]
    },
    {
      "cell_type": "code",
      "source": [
        "import tensorflow as tf\n",
        "import numpy as np\n",
        "from transformers import AutoTokenizer, AutoModelForSequenceClassification\n",
        "\n",
        "# Same as before\n",
        "checkpoint = \"SamLowe/roberta-base-go_emotions\"\n",
        "tokenizer = AutoTokenizer.from_pretrained(checkpoint)\n",
        "model = AutoModelForSequenceClassification.from_pretrained(checkpoint)\n",
        "sequences = train_x\n",
        "\n",
        "\n",
        "# Define batch size\n",
        "batch_size = 32\n",
        "\n",
        "# Calculate the number of batches\n",
        "num_batches = len(sequences) // batch_size\n",
        "\n",
        "# Reshape your data into batches\n",
        "sequence_batches = np.array_split(sequences, num_batches)\n",
        "label_index_batches = np.array_split(train_y_index, num_batches)\n",
        "\n",
        "tokenised_data = []\n",
        "\n",
        "for sequence_batch in sequence_batches:\n",
        "  tokenised_batch = dict(tokenizer(list(sequence_batch), padding='max_length', truncation=True, return_tensors=\"tf\", max_length=60))\n",
        "  tokenised_data.append(tokenised_batch)\n",
        "# # This is new\n",
        "# model.compile(optimizer=\"adam\", loss=\"sparse_categorical_crossentropy\")\n",
        "# labels = tf.convert_to_tensor(train_y_index)\n",
        "# model.train_on_batch(batch, labels)\n",
        "\n"
      ],
      "metadata": {
        "id": "0-wJNLCJGvbJ"
      },
      "execution_count": 7,
      "outputs": []
    },
    {
      "cell_type": "code",
      "source": [
        "tokenizer.save_pretrained(\"roberta_tokenizer\")"
      ],
      "metadata": {
        "colab": {
          "base_uri": "https://localhost:8080/"
        },
        "id": "IOFT5iahywmw",
        "outputId": "35875bf6-b0e1-498b-ae10-cd00ee39ca85"
      },
      "execution_count": 8,
      "outputs": [
        {
          "output_type": "execute_result",
          "data": {
            "text/plain": [
              "('roberta_tokenizer/tokenizer_config.json',\n",
              " 'roberta_tokenizer/special_tokens_map.json',\n",
              " 'roberta_tokenizer/vocab.json',\n",
              " 'roberta_tokenizer/merges.txt',\n",
              " 'roberta_tokenizer/added_tokens.json',\n",
              " 'roberta_tokenizer/tokenizer.json')"
            ]
          },
          "metadata": {},
          "execution_count": 8
        }
      ]
    },
    {
      "cell_type": "code",
      "source": [
        "#batch = np.concatenate(tokenised_data, axis=0)\n",
        "# batch = tokenised_data[0]\n",
        "# train_y_index_batch = label_index_batches[0]\n",
        "\n",
        "# Extract 'input_ids' and 'attention_mask' from each dictionary\n",
        "input_ids_list = [batch['input_ids'] for batch in tokenised_data]\n",
        "attention_mask_list = [batch['attention_mask'] for batch in tokenised_data]\n",
        "\n",
        "# Concatenate 'input_ids' and 'attention_mask' along the batch dimension (axis=0)\n",
        "no_of_batch_to_conca = 2\n",
        "concatenated_input_ids = tf.concat(input_ids_list[:no_of_batch_to_conca], axis=0)\n",
        "concatenated_attention_mask = tf.concat(attention_mask_list[:no_of_batch_to_conca], axis=0)\n",
        "concatenated_train_y = tf.concat(label_index_batches[:no_of_batch_to_conca], axis=0)"
      ],
      "metadata": {
        "id": "ZxiNwQ53rChJ"
      },
      "execution_count": 9,
      "outputs": []
    },
    {
      "cell_type": "markdown",
      "source": [
        "Model Training"
      ],
      "metadata": {
        "id": "_1P-mwHJU8fU"
      }
    },
    {
      "cell_type": "code",
      "source": [
        "from transformers import RobertaTokenizer, RobertaForSequenceClassification, AdamW\n",
        "import torch\n",
        "import torch.nn as nn\n",
        "\n",
        "# Load the pre-trained model and tokenizer\n",
        "model_name = \"SamLowe/roberta-base-go_emotions\"  # You can specify the model you want to use\n",
        "tokenizer = RobertaTokenizer.from_pretrained(model_name)\n",
        "model = RobertaForSequenceClassification.from_pretrained(model_name, num_labels = 6, ignore_mismatched_sizes=True)\n",
        "\n",
        "# Prepare your training data (tokenization, padding, etc.)\n",
        "\n",
        "# Convert data to PyTorch tensors\n",
        "input_ids = torch.tensor(concatenated_input_ids.numpy())\n",
        "attention_mask = torch.tensor(concatenated_attention_mask.numpy())\n",
        "labels = torch.tensor(concatenated_train_y.numpy())\n",
        "\n",
        "# Define optimizer and learning rate scheduler\n",
        "optimizer = AdamW(model.parameters(), lr=1e-5)\n",
        "\n",
        "# Loss function for multi-class classification\n",
        "criterion = nn.CrossEntropyLoss()\n",
        "\n",
        "# Training loop\n",
        "epochs = 3  # Specify the number of training epochs\n",
        "\n",
        "for epoch in range(epochs):\n",
        "    model.train()\n",
        "    optimizer.zero_grad()\n",
        "\n",
        "    # Forward pass\n",
        "    outputs = model(input_ids, attention_mask=attention_mask)\n",
        "    logits = outputs.logits\n",
        "\n",
        "    # Calculate loss using CrossEntropyLoss\n",
        "    loss = criterion(logits, labels)\n",
        "\n",
        "    # Backpropagation\n",
        "    loss.backward()\n",
        "    optimizer.step()\n",
        "    # Optionally, update the learning rate scheduler\n",
        "\n",
        "# Save or use the fine-tuned model for inference\n"
      ],
      "metadata": {
        "colab": {
          "base_uri": "https://localhost:8080/"
        },
        "id": "Hf_mGyQ7ZN2s",
        "outputId": "a00d02b0-55cc-4907-85dd-4d9baf7eb0b0"
      },
      "execution_count": 10,
      "outputs": [
        {
          "output_type": "stream",
          "name": "stderr",
          "text": [
            "Some weights of RobertaForSequenceClassification were not initialized from the model checkpoint at SamLowe/roberta-base-go_emotions and are newly initialized because the shapes did not match:\n",
            "- classifier.out_proj.bias: found shape torch.Size([28]) in the checkpoint and torch.Size([6]) in the model instantiated\n",
            "- classifier.out_proj.weight: found shape torch.Size([28, 768]) in the checkpoint and torch.Size([6, 768]) in the model instantiated\n",
            "You should probably TRAIN this model on a down-stream task to be able to use it for predictions and inference.\n",
            "/usr/local/lib/python3.10/dist-packages/transformers/optimization.py:411: FutureWarning: This implementation of AdamW is deprecated and will be removed in a future version. Use the PyTorch implementation torch.optim.AdamW instead, or set `no_deprecation_warning=True` to disable this warning\n",
            "  warnings.warn(\n"
          ]
        }
      ]
    },
    {
      "cell_type": "code",
      "source": [
        "model.save_pretrained(\"finetuned_roberta\")"
      ],
      "metadata": {
        "id": "WrQAGJ7kqfFj"
      },
      "execution_count": 11,
      "outputs": []
    },
    {
      "cell_type": "markdown",
      "source": [
        "Model evaluation"
      ],
      "metadata": {
        "id": "YvYqD4KWVEA-"
      }
    },
    {
      "cell_type": "code",
      "source": [
        "#Preparing the test dataset\n",
        "test_x_seq = dict(tokenizer(test_x[:100], padding='max_length', truncation=True, return_tensors=\"tf\", max_length=60))\n",
        "test_y_index = class_to_index_func(test_y[:100])"
      ],
      "metadata": {
        "id": "Ny3xrXE8q_91"
      },
      "execution_count": 12,
      "outputs": []
    },
    {
      "cell_type": "code",
      "source": [
        "inputs = torch.tensor(test_x_seq[\"input_ids\"].numpy())\n",
        "attention_mask = torch.tensor(test_x_seq[\"attention_mask\"].numpy())\n",
        "labels = torch.tensor(test_y_index)\n",
        "\n",
        "# Forward pass\n",
        "with torch.no_grad():\n",
        "    outputs = model(inputs, attention_mask=attention_mask)\n",
        "\n",
        "# Get predicted labels\n",
        "predicted_labels = torch.argmax(outputs.logits, dim=1)\n",
        "\n",
        "# Update correct_predictions and total_examples\n",
        "correct_predictions = (predicted_labels == labels).sum().item()\n",
        "total_examples = len(labels)"
      ],
      "metadata": {
        "id": "KFDPQw8zvWPO"
      },
      "execution_count": 13,
      "outputs": []
    },
    {
      "cell_type": "code",
      "source": [
        "# Calculate accuracy\n",
        "accuracy = correct_predictions / total_examples\n",
        "\n",
        "# Print the accuracy\n",
        "print(f\"Test Accuracy: {accuracy * 100:.2f}%\")"
      ],
      "metadata": {
        "colab": {
          "base_uri": "https://localhost:8080/"
        },
        "id": "0UXK6M9bw-dj",
        "outputId": "e96d5eaa-8a2e-461e-c48d-1cdf6b5a62d7"
      },
      "execution_count": 14,
      "outputs": [
        {
          "output_type": "stream",
          "name": "stdout",
          "text": [
            "Test Accuracy: 31.00%\n"
          ]
        }
      ]
    },
    {
      "cell_type": "markdown",
      "source": [
        "I achived just 31% accuracy with this model, which is obviously not good enough, there could be many possible reasons for this\n",
        "\n",
        "- I choose the wrong model\n",
        "- Limit compute power, I had (I could fine tune the model on just 64 training examples, any larger my noteook was crashing)\n",
        "- I didn't do it right, etc\n",
        "\n",
        "Going forward I will further explore on these reasons to improve"
      ],
      "metadata": {
        "id": "h8KSFJ-GVOiH"
      }
    },
    {
      "cell_type": "markdown",
      "source": [
        "# Comparision with twitter-roberta-base-emotion-multilabel-latest\n",
        "\n",
        "https://huggingface.co/cardiffnlp/twitter-roberta-base-emotion-multilabel-latest"
      ],
      "metadata": {
        "id": "7PfNJGCb5sgP"
      }
    },
    {
      "cell_type": "markdown",
      "source": [
        "This model had 11 classes, with all 6/11 overlapping with my model, hence I choose to compare this result with this model, without any finetuning I have used this model as it is.\n",
        "\n",
        "Nverthless, I am working on finetuning this model, to find how does it compares to my NN based model"
      ],
      "metadata": {
        "id": "eMKB-XY6TOlR"
      }
    },
    {
      "cell_type": "code",
      "source": [
        "from transformers import pipeline\n",
        "\n",
        "pipe = pipeline(\"text-classification\", model=\"cardiffnlp/twitter-roberta-base-emotion-multilabel-latest\" )"
      ],
      "metadata": {
        "id": "raaEGqrl6jAZ"
      },
      "execution_count": 35,
      "outputs": []
    },
    {
      "cell_type": "code",
      "source": [
        "#Lets not try to predict on whole of test set, lets just do a subset of it\n",
        "test_x_subset = test_x[:1000]\n",
        "test_y_subset = test_y[:1000]\n",
        "\n",
        "# Define batch size\n",
        "batch_size = 300\n",
        "\n",
        "# Calculate the number of batches\n",
        "num_batches = len(test_x_subset) // batch_size\n",
        "\n",
        "# Reshape your data into batches\n",
        "test_x_batches = np.array_split(test_x_subset, num_batches)\n",
        "\n",
        "\n",
        "cardiff_roberta_test_pred_batch_result = []\n",
        "counter = 0\n",
        "for test_x_batch in test_x_batches:\n",
        "  print(\"Processing batch no: \", counter)\n",
        "  cardiff_roberta_test_pred = pipe(list(test_x_batch))\n",
        "  cardiff_roberta_test_pred_batch_result.append(cardiff_roberta_test_pred)\n",
        "  counter+=1"
      ],
      "metadata": {
        "colab": {
          "base_uri": "https://localhost:8080/"
        },
        "id": "WYNtp1Rm7Ky0",
        "outputId": "42c8708e-8eb5-43c0-d196-587bed80a529"
      },
      "execution_count": 59,
      "outputs": [
        {
          "output_type": "stream",
          "name": "stdout",
          "text": [
            "Processing batch no:  0\n",
            "Processing batch no:  1\n",
            "Processing batch no:  2\n"
          ]
        }
      ]
    },
    {
      "cell_type": "code",
      "source": [
        "test_y_pred_int = [[x['label'] for x in batch] for batch in cardiff_roberta_test_pred_batch_result]\n",
        "\n",
        "test_y_pred = []\n",
        "for temp_list in test_y_pred_int:\n",
        "  test_y_pred.extend(temp_list)"
      ],
      "metadata": {
        "id": "m0YIyigUHw-4"
      },
      "execution_count": 64,
      "outputs": []
    },
    {
      "cell_type": "code",
      "source": [
        "len(test_y_pred)"
      ],
      "metadata": {
        "colab": {
          "base_uri": "https://localhost:8080/"
        },
        "id": "IWF2ZpzaJ3L-",
        "outputId": "1dca1d48-d1f2-475e-f8ab-d2689f15e244"
      },
      "execution_count": 72,
      "outputs": [
        {
          "output_type": "execute_result",
          "data": {
            "text/plain": [
              "1000"
            ]
          },
          "metadata": {},
          "execution_count": 72
        }
      ]
    },
    {
      "cell_type": "code",
      "source": [
        "result_comp = [test_y_subset[i] == test_y_pred[i] for i in range(1000)]"
      ],
      "metadata": {
        "id": "rROQXnRPI0RB"
      },
      "execution_count": 74,
      "outputs": []
    },
    {
      "cell_type": "code",
      "source": [
        "pd.Series(result_comp).value_counts()"
      ],
      "metadata": {
        "colab": {
          "base_uri": "https://localhost:8080/"
        },
        "id": "p0ujCpGMLfLc",
        "outputId": "b9829acf-d638-4ec5-c1f0-2f7ec63c41e0"
      },
      "execution_count": 82,
      "outputs": [
        {
          "output_type": "execute_result",
          "data": {
            "text/plain": [
              "True     505\n",
              "False    495\n",
              "dtype: int64"
            ]
          },
          "metadata": {},
          "execution_count": 82
        }
      ]
    },
    {
      "cell_type": "code",
      "source": [
        "505/1000"
      ],
      "metadata": {
        "colab": {
          "base_uri": "https://localhost:8080/"
        },
        "id": "HEf0NucbL00f",
        "outputId": "e0ecacc9-103f-45f6-89d1-430eefc68b7e"
      },
      "execution_count": 83,
      "outputs": [
        {
          "output_type": "execute_result",
          "data": {
            "text/plain": [
              "0.505"
            ]
          },
          "metadata": {},
          "execution_count": 83
        }
      ]
    },
    {
      "cell_type": "markdown",
      "source": [
        "I Achieved a 50% accuracy on a sample test set, on the other hand, I had achieved 93 on my first NN based model, so this model didn't gave much promising results"
      ],
      "metadata": {
        "id": "e_DEMdJvTnvJ"
      }
    }
  ]
}