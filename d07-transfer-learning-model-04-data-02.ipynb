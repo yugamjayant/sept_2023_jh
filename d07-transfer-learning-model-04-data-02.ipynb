{
 "cells": [
  {
   "cell_type": "code",
   "execution_count": 1,
   "id": "3c49ceae",
   "metadata": {
    "_cell_guid": "b1076dfc-b9ad-4769-8c92-a6c4dae69d19",
    "_uuid": "8f2839f25d086af736a60e9eeb907d3b93b6e0e5",
    "execution": {
     "iopub.execute_input": "2023-12-23T18:19:24.551219Z",
     "iopub.status.busy": "2023-12-23T18:19:24.550186Z",
     "iopub.status.idle": "2023-12-23T18:19:25.272743Z",
     "shell.execute_reply": "2023-12-23T18:19:25.271452Z"
    },
    "papermill": {
     "duration": 0.742303,
     "end_time": "2023-12-23T18:19:25.274790",
     "exception": false,
     "start_time": "2023-12-23T18:19:24.532487",
     "status": "completed"
    },
    "tags": []
   },
   "outputs": [
    {
     "name": "stdout",
     "output_type": "stream",
     "text": [
      "/kaggle/input/llm-7-prompt-training-dataset/train_essays_RDizzl3_seven_v2.csv\n",
      "/kaggle/input/llm-7-prompt-training-dataset/train_essays_7_prompts_v2.csv\n",
      "/kaggle/input/llm-7-prompt-training-dataset/train_essays_7_prompts.csv\n",
      "/kaggle/input/llm-7-prompt-training-dataset/train_essays_RDizzl3_seven_v1.csv\n",
      "/kaggle/input/bert/tensorflow2/bert-en-uncased-l-12-h-768-a-12/2/saved_model.pb\n",
      "/kaggle/input/bert/tensorflow2/bert-en-uncased-l-12-h-768-a-12/2/keras_metadata.pb\n",
      "/kaggle/input/bert/tensorflow2/bert-en-uncased-l-12-h-768-a-12/2/assets/vocab.txt\n",
      "/kaggle/input/bert/tensorflow2/bert-en-uncased-l-12-h-768-a-12/2/variables/variables.index\n",
      "/kaggle/input/bert/tensorflow2/bert-en-uncased-l-12-h-768-a-12/2/variables/variables.data-00000-of-00001\n",
      "/kaggle/input/bert/tensorflow2/en-uncased-preprocess/3/saved_model.pb\n",
      "/kaggle/input/bert/tensorflow2/en-uncased-preprocess/3/keras_metadata.pb\n",
      "/kaggle/input/bert/tensorflow2/en-uncased-preprocess/3/assets/vocab.txt\n",
      "/kaggle/input/bert/tensorflow2/en-uncased-preprocess/3/variables/variables.index\n",
      "/kaggle/input/bert/tensorflow2/en-uncased-preprocess/3/variables/variables.data-00000-of-00001\n",
      "/kaggle/input/llm-detect-ai-generated-text/sample_submission.csv\n",
      "/kaggle/input/llm-detect-ai-generated-text/train_prompts.csv\n",
      "/kaggle/input/llm-detect-ai-generated-text/test_essays.csv\n",
      "/kaggle/input/llm-detect-ai-generated-text/train_essays.csv\n",
      "/kaggle/input/daigt-proper-train-dataset/train_drcat_03.csv\n",
      "/kaggle/input/daigt-proper-train-dataset/train_drcat_02.csv\n",
      "/kaggle/input/daigt-proper-train-dataset/train_drcat_04.csv\n",
      "/kaggle/input/daigt-proper-train-dataset/train_drcat_01.csv\n"
     ]
    }
   ],
   "source": [
    "# This Python 3 environment comes with many helpful analytics libraries installed\n",
    "# It is defined by the kaggle/python Docker image: https://github.com/kaggle/docker-python\n",
    "# For example, here's several helpful packages to load\n",
    "\n",
    "import numpy as np # linear algebra\n",
    "import pandas as pd # data processing, CSV file I/O (e.g. pd.read_csv)\n",
    "\n",
    "# Input data files are available in the read-only \"../input/\" directory\n",
    "# For example, running this (by clicking run or pressing Shift+Enter) will list all files under the input directory\n",
    "\n",
    "import os\n",
    "for dirname, _, filenames in os.walk('/kaggle/input'):\n",
    "    for filename in filenames:\n",
    "        print(os.path.join(dirname, filename))\n",
    "\n",
    "# You can write up to 20GB to the current directory (/kaggle/working/) that gets preserved as output when you create a version using \"Save & Run All\" \n",
    "# You can also write temporary files to /kaggle/temp/, but they won't be saved outside of the current session"
   ]
  },
  {
   "cell_type": "code",
   "execution_count": 2,
   "id": "dbacea36",
   "metadata": {
    "execution": {
     "iopub.execute_input": "2023-12-23T18:19:25.300876Z",
     "iopub.status.busy": "2023-12-23T18:19:25.300448Z",
     "iopub.status.idle": "2023-12-23T18:19:37.386659Z",
     "shell.execute_reply": "2023-12-23T18:19:37.385895Z"
    },
    "papermill": {
     "duration": 12.101774,
     "end_time": "2023-12-23T18:19:37.389089",
     "exception": false,
     "start_time": "2023-12-23T18:19:25.287315",
     "status": "completed"
    },
    "tags": []
   },
   "outputs": [
    {
     "name": "stderr",
     "output_type": "stream",
     "text": [
      "/opt/conda/lib/python3.10/site-packages/scipy/__init__.py:146: UserWarning: A NumPy version >=1.16.5 and <1.23.0 is required for this version of SciPy (detected version 1.24.3\n",
      "  warnings.warn(f\"A NumPy version >={np_minversion} and <{np_maxversion}\"\n"
     ]
    }
   ],
   "source": [
    "import tensorflow_text as text\n",
    "import tensorflow_hub as hub\n",
    "import tensorflow as tf\n",
    "import random\n",
    "import tqdm\n",
    "from tqdm import tqdm\n",
    "import copy"
   ]
  },
  {
   "cell_type": "markdown",
   "id": "223bb7fd",
   "metadata": {
    "papermill": {
     "duration": 0.012287,
     "end_time": "2023-12-23T18:19:37.414232",
     "exception": false,
     "start_time": "2023-12-23T18:19:37.401945",
     "status": "completed"
    },
    "tags": []
   },
   "source": [
    "Prepara Data from source: llm-7-prompt-training-dataset"
   ]
  },
  {
   "cell_type": "code",
   "execution_count": 3,
   "id": "46ac828e",
   "metadata": {
    "execution": {
     "iopub.execute_input": "2023-12-23T18:19:37.441041Z",
     "iopub.status.busy": "2023-12-23T18:19:37.440139Z",
     "iopub.status.idle": "2023-12-23T18:19:38.446843Z",
     "shell.execute_reply": "2023-12-23T18:19:38.445895Z"
    },
    "papermill": {
     "duration": 1.022939,
     "end_time": "2023-12-23T18:19:38.449393",
     "exception": false,
     "start_time": "2023-12-23T18:19:37.426454",
     "status": "completed"
    },
    "tags": []
   },
   "outputs": [],
   "source": [
    "train_essays_01_source = pd.read_csv('/kaggle/input/llm-7-prompt-training-dataset/train_essays_7_prompts_v2.csv')\n",
    "\n",
    "#Slicing the dataset with different labels\n",
    "train_essays_01_source_label_1 = train_essays_01_source[train_essays_01_source['label'] == 1].reset_index(drop = True)  \n",
    "train_essays_01_source_label_0 = train_essays_01_source[train_essays_01_source['label'] == 0].reset_index(drop = True)\n",
    "\n",
    "#Set number of data points required from each label\n",
    "#Creating new data set with data sampled from each labels\n",
    "label_1_count = 1638 #1638 data points available\n",
    "label_0_count = 13712 #13712 data points available\n",
    "\n",
    "essay_dataset_raw = pd.concat([train_essays_01_source_label_1.sample(n= label_1_count, random_state = 36, axis = 0), \n",
    "                         train_essays_01_source_label_0.sample(n= label_0_count, random_state = 36, axis = 0)], \n",
    "                        axis = 0, sort = True).sample(frac = 1)"
   ]
  },
  {
   "cell_type": "code",
   "execution_count": 4,
   "id": "09e7bfa8",
   "metadata": {
    "execution": {
     "iopub.execute_input": "2023-12-23T18:19:38.483145Z",
     "iopub.status.busy": "2023-12-23T18:19:38.482517Z",
     "iopub.status.idle": "2023-12-23T18:19:39.782692Z",
     "shell.execute_reply": "2023-12-23T18:19:39.781913Z"
    },
    "papermill": {
     "duration": 1.317085,
     "end_time": "2023-12-23T18:19:39.785030",
     "exception": false,
     "start_time": "2023-12-23T18:19:38.467945",
     "status": "completed"
    },
    "tags": []
   },
   "outputs": [],
   "source": [
    "from nltk.tokenize import word_tokenize\n",
    "from nltk import sent_tokenize\n",
    "\n",
    "\n",
    "# Function to split text into sequences of 128 words\n",
    "def split_text_into_sequences(text):\n",
    "    words = word_tokenize(text)\n",
    "    sequences = [words[i:i + 128] for i in range(0, len(words), 128)]\n",
    "    return [' '.join(seq) for seq in sequences]\n",
    "\n",
    "\n",
    "def get_df_with_128_length_sequences(essay_dataset_raw):\n",
    "\n",
    "    #essay_dataset_raw.head()\n",
    "    essay_dataset_raw['text_seq_list'] = essay_dataset_raw['text'].map(split_text_into_sequences)\n",
    "\n",
    "\n",
    "    essay_dataset_raw.drop(columns = ['text'], inplace = True)\n",
    "    essay_dataset_raw = essay_dataset_raw.explode('text_seq_list')\n",
    "\n",
    "    essay_dataset_raw.rename(columns = {'text_seq_list':'text'}, inplace = True)\n",
    "    \n",
    "    return essay_dataset_raw"
   ]
  },
  {
   "cell_type": "code",
   "execution_count": 5,
   "id": "a233ee5c",
   "metadata": {
    "execution": {
     "iopub.execute_input": "2023-12-23T18:19:39.812021Z",
     "iopub.status.busy": "2023-12-23T18:19:39.811272Z",
     "iopub.status.idle": "2023-12-23T18:19:58.775748Z",
     "shell.execute_reply": "2023-12-23T18:19:58.774795Z"
    },
    "papermill": {
     "duration": 18.980184,
     "end_time": "2023-12-23T18:19:58.778131",
     "exception": false,
     "start_time": "2023-12-23T18:19:39.797947",
     "status": "completed"
    },
    "tags": []
   },
   "outputs": [],
   "source": [
    "#Bert encoder\n",
    "\n",
    "text_input = tf.keras.layers.Input(shape=(), dtype=tf.string)\n",
    "preprocessor = hub.KerasLayer(\n",
    "    \"https://kaggle.com/models/tensorflow/bert/frameworks/TensorFlow2/variations/en-uncased-preprocess/versions/3\")\n",
    "encoder_inputs = preprocessor(text_input)\n",
    "encoder = hub.KerasLayer(\n",
    "    \"https://www.kaggle.com/models/tensorflow/bert/frameworks/TensorFlow2/variations/bert-en-uncased-l-12-h-768-a-12/versions/2\",trainable=False)\n",
    "outputs = encoder(encoder_inputs)\n",
    "pooled_output = outputs[\"pooled_output\"]      # [batch_size, 768].\n",
    "sequence_output = outputs[\"sequence_output\"]  # [batch_size, seq_length, 768]."
   ]
  },
  {
   "cell_type": "code",
   "execution_count": 6,
   "id": "9043a026",
   "metadata": {
    "execution": {
     "iopub.execute_input": "2023-12-23T18:19:58.804587Z",
     "iopub.status.busy": "2023-12-23T18:19:58.804274Z",
     "iopub.status.idle": "2023-12-23T18:19:58.812846Z",
     "shell.execute_reply": "2023-12-23T18:19:58.811966Z"
    },
    "papermill": {
     "duration": 0.023666,
     "end_time": "2023-12-23T18:19:58.814772",
     "exception": false,
     "start_time": "2023-12-23T18:19:58.791106",
     "status": "completed"
    },
    "tags": []
   },
   "outputs": [],
   "source": [
    "encoder_model = tf.keras.Model(inputs=text_input, outputs=sequence_output)"
   ]
  },
  {
   "cell_type": "code",
   "execution_count": 7,
   "id": "23f1f8d9",
   "metadata": {
    "execution": {
     "iopub.execute_input": "2023-12-23T18:19:58.840236Z",
     "iopub.status.busy": "2023-12-23T18:19:58.839956Z",
     "iopub.status.idle": "2023-12-23T18:19:59.070934Z",
     "shell.execute_reply": "2023-12-23T18:19:59.070152Z"
    },
    "papermill": {
     "duration": 0.246299,
     "end_time": "2023-12-23T18:19:59.073231",
     "exception": false,
     "start_time": "2023-12-23T18:19:58.826932",
     "status": "completed"
    },
    "tags": []
   },
   "outputs": [],
   "source": [
    "import tensorflow as tf\n",
    "from tensorflow.keras import layers\n",
    "\n",
    "\n",
    "# Input text\n",
    "text_input = tf.keras.layers.Input(shape=(), dtype=tf.string)\n",
    "\n",
    "#Text Embeddings generation with Bert\n",
    "input_embeddings = encoder_model(text_input)\n",
    "\n",
    "# Apply pooling right after the input layer\n",
    "pooled_input = layers.GlobalMaxPooling1D()(input_embeddings)\n",
    "\n",
    "# Reshape pooled input to add singleton dimension\n",
    "query = tf.expand_dims(pooled_input, axis=1)\n",
    "\n",
    "# Multi-Head Attention layer with pooling layer output as key and input embedding vectors as values\n",
    "num_heads = 12\n",
    "key_dim = 64  # Adjust based on experimentation\n",
    "attention_output = layers.MultiHeadAttention(num_heads=num_heads, key_dim=key_dim)(query, input_embeddings)\n",
    "\n",
    "# Global average pooling\n",
    "global_pool = layers.GlobalAveragePooling1D()(attention_output)\n",
    "\n",
    "# Dropout to prevent overfitting\n",
    "dropout = layers.Dropout(0.2)(global_pool)\n",
    "\n",
    "# Dense output layer with 1 unit and sigmoid activation (for binary classification)\n",
    "output = layers.Dense(1, activation=\"sigmoid\")(dropout)\n",
    "\n",
    "# Create the model\n",
    "model = tf.keras.Model(inputs=text_input, outputs=output)"
   ]
  },
  {
   "cell_type": "code",
   "execution_count": 8,
   "id": "f2fc7867",
   "metadata": {
    "execution": {
     "iopub.execute_input": "2023-12-23T18:19:59.101659Z",
     "iopub.status.busy": "2023-12-23T18:19:59.101344Z",
     "iopub.status.idle": "2023-12-23T18:19:59.116990Z",
     "shell.execute_reply": "2023-12-23T18:19:59.116120Z"
    },
    "papermill": {
     "duration": 0.031011,
     "end_time": "2023-12-23T18:19:59.119003",
     "exception": false,
     "start_time": "2023-12-23T18:19:59.087992",
     "status": "completed"
    },
    "tags": []
   },
   "outputs": [],
   "source": [
    "model.compile(\n",
    "    loss = 'binary_crossentropy',\n",
    "    optimizer = 'adam',\n",
    "    metrics = ['accuracy', 'AUC']\n",
    ")"
   ]
  },
  {
   "cell_type": "code",
   "execution_count": 9,
   "id": "b65527f5",
   "metadata": {
    "execution": {
     "iopub.execute_input": "2023-12-23T18:19:59.144563Z",
     "iopub.status.busy": "2023-12-23T18:19:59.144278Z",
     "iopub.status.idle": "2023-12-23T18:19:59.186298Z",
     "shell.execute_reply": "2023-12-23T18:19:59.185419Z"
    },
    "papermill": {
     "duration": 0.057108,
     "end_time": "2023-12-23T18:19:59.188430",
     "exception": false,
     "start_time": "2023-12-23T18:19:59.131322",
     "status": "completed"
    },
    "tags": []
   },
   "outputs": [
    {
     "name": "stdout",
     "output_type": "stream",
     "text": [
      "Model: \"model_1\"\n",
      "__________________________________________________________________________________________________\n",
      " Layer (type)                Output Shape                 Param #   Connected to                  \n",
      "==================================================================================================\n",
      " input_2 (InputLayer)        [(None,)]                    0         []                            \n",
      "                                                                                                  \n",
      " model (Functional)          (None, 128, 768)             1094822   ['input_2[0][0]']             \n",
      "                                                          41                                      \n",
      "                                                                                                  \n",
      " global_max_pooling1d (Glob  (None, 768)                  0         ['model[0][0]']               \n",
      " alMaxPooling1D)                                                                                  \n",
      "                                                                                                  \n",
      " tf.expand_dims (TFOpLambda  (None, 1, 768)               0         ['global_max_pooling1d[0][0]']\n",
      " )                                                                                                \n",
      "                                                                                                  \n",
      " multi_head_attention (Mult  (None, 1, 768)               2362368   ['tf.expand_dims[0][0]',      \n",
      " iHeadAttention)                                                     'model[0][0]']               \n",
      "                                                                                                  \n",
      " global_average_pooling1d (  (None, 768)                  0         ['multi_head_attention[0][0]']\n",
      " GlobalAveragePooling1D)                                                                          \n",
      "                                                                                                  \n",
      " dropout (Dropout)           (None, 768)                  0         ['global_average_pooling1d[0][\n",
      "                                                                    0]']                          \n",
      "                                                                                                  \n",
      " dense (Dense)               (None, 1)                    769       ['dropout[0][0]']             \n",
      "                                                                                                  \n",
      "==================================================================================================\n",
      "Total params: 111845378 (426.66 MB)\n",
      "Trainable params: 2363137 (9.01 MB)\n",
      "Non-trainable params: 109482241 (417.64 MB)\n",
      "__________________________________________________________________________________________________\n"
     ]
    }
   ],
   "source": [
    "model.summary()"
   ]
  },
  {
   "cell_type": "code",
   "execution_count": 10,
   "id": "28a45d3b",
   "metadata": {
    "execution": {
     "iopub.execute_input": "2023-12-23T18:19:59.218730Z",
     "iopub.status.busy": "2023-12-23T18:19:59.218454Z",
     "iopub.status.idle": "2023-12-23T18:21:18.333597Z",
     "shell.execute_reply": "2023-12-23T18:21:18.332810Z"
    },
    "papermill": {
     "duration": 79.132997,
     "end_time": "2023-12-23T18:21:18.335966",
     "exception": false,
     "start_time": "2023-12-23T18:19:59.202969",
     "status": "completed"
    },
    "tags": []
   },
   "outputs": [],
   "source": [
    "essay_dataset_raw = get_df_with_128_length_sequences(essay_dataset_raw)\n",
    "\n",
    "# essay_dataset_test = pd.read_csv('/kaggle/input/daigt-proper-train-dataset/train_drcat_04.csv')\n",
    "# essay_dataset_test = essay_dataset_test.sample(frac = 0.1)\n",
    "\n",
    "# essay_dataset_test = get_df_with_128_length_sequences(essay_dataset_test)"
   ]
  },
  {
   "cell_type": "code",
   "execution_count": 11,
   "id": "009340ee",
   "metadata": {
    "execution": {
     "iopub.execute_input": "2023-12-23T18:21:18.427245Z",
     "iopub.status.busy": "2023-12-23T18:21:18.426255Z",
     "iopub.status.idle": "2023-12-23T18:21:18.431374Z",
     "shell.execute_reply": "2023-12-23T18:21:18.430276Z"
    },
    "papermill": {
     "duration": 0.032666,
     "end_time": "2023-12-23T18:21:18.433418",
     "exception": false,
     "start_time": "2023-12-23T18:21:18.400752",
     "status": "completed"
    },
    "tags": []
   },
   "outputs": [],
   "source": [
    "# essay_test, label_test = essay_dataset_test.iloc[:,5], essay_dataset_test.iloc[:,1]"
   ]
  },
  {
   "cell_type": "code",
   "execution_count": 12,
   "id": "66472779",
   "metadata": {
    "execution": {
     "iopub.execute_input": "2023-12-23T18:21:18.469790Z",
     "iopub.status.busy": "2023-12-23T18:21:18.469475Z",
     "iopub.status.idle": "2023-12-23T18:42:35.258264Z",
     "shell.execute_reply": "2023-12-23T18:42:35.257124Z"
    },
    "papermill": {
     "duration": 1277.097391,
     "end_time": "2023-12-23T18:42:35.551433",
     "exception": false,
     "start_time": "2023-12-23T18:21:18.454042",
     "status": "completed"
    },
    "tags": []
   },
   "outputs": [
    {
     "name": "stderr",
     "output_type": "stream",
     "text": [
      "/opt/conda/lib/python3.10/site-packages/numpy/core/fromnumeric.py:57: FutureWarning: 'Series.swapaxes' is deprecated and will be removed in a future version. Please use 'Series.transpose' instead.\n",
      "  return bound(*args, **kwds)\n",
      "  0%|          | 0/4 [00:00<?, ?it/s]"
     ]
    },
    {
     "name": "stdout",
     "output_type": "stream",
     "text": [
      "Epoch 1/5\n",
      "282/282 [==============================] - 118s 374ms/step - loss: 0.1076 - accuracy: 0.9664 - auc: 0.9670 - val_loss: 0.0598 - val_accuracy: 0.9815 - val_auc: 0.9888\n",
      "Epoch 2/5\n",
      "282/282 [==============================] - 105s 374ms/step - loss: 0.0530 - accuracy: 0.9818 - auc: 0.9932 - val_loss: 0.0499 - val_accuracy: 0.9861 - val_auc: 0.9896\n",
      "Epoch 3/5\n",
      "282/282 [==============================] - 105s 372ms/step - loss: 0.0377 - accuracy: 0.9873 - auc: 0.9958 - val_loss: 0.0554 - val_accuracy: 0.9830 - val_auc: 0.9909\n"
     ]
    },
    {
     "name": "stderr",
     "output_type": "stream",
     "text": [
      " 25%|██▌       | 1/4 [05:27<16:23, 327.90s/it]"
     ]
    },
    {
     "name": "stdout",
     "output_type": "stream",
     "text": [
      "Epoch 1/5\n",
      "282/282 [==============================] - 104s 371ms/step - loss: 0.0593 - accuracy: 0.9826 - auc: 0.9855 - val_loss: 0.0514 - val_accuracy: 0.9834 - val_auc: 0.9913\n",
      "Epoch 2/5\n",
      "282/282 [==============================] - 105s 373ms/step - loss: 0.0412 - accuracy: 0.9864 - auc: 0.9934 - val_loss: 0.0476 - val_accuracy: 0.9861 - val_auc: 0.9898\n",
      "Epoch 3/5\n",
      "282/282 [==============================] - 105s 372ms/step - loss: 0.0382 - accuracy: 0.9858 - auc: 0.9962 - val_loss: 0.0531 - val_accuracy: 0.9836 - val_auc: 0.9876\n"
     ]
    },
    {
     "name": "stderr",
     "output_type": "stream",
     "text": [
      " 50%|█████     | 2/4 [10:42<10:39, 319.87s/it]"
     ]
    },
    {
     "name": "stdout",
     "output_type": "stream",
     "text": [
      "Epoch 1/5\n",
      "282/282 [==============================] - 104s 370ms/step - loss: 0.0590 - accuracy: 0.9830 - auc: 0.9880 - val_loss: 0.1090 - val_accuracy: 0.9741 - val_auc: 0.9707\n",
      "Epoch 2/5\n",
      "282/282 [==============================] - 105s 372ms/step - loss: 0.0433 - accuracy: 0.9864 - auc: 0.9932 - val_loss: 0.0520 - val_accuracy: 0.9842 - val_auc: 0.9907\n",
      "Epoch 3/5\n",
      "282/282 [==============================] - 104s 370ms/step - loss: 0.0345 - accuracy: 0.9887 - auc: 0.9947 - val_loss: 0.0535 - val_accuracy: 0.9859 - val_auc: 0.9865\n"
     ]
    },
    {
     "name": "stderr",
     "output_type": "stream",
     "text": [
      " 75%|███████▌  | 3/4 [15:55<05:16, 316.89s/it]"
     ]
    },
    {
     "name": "stdout",
     "output_type": "stream",
     "text": [
      "Epoch 1/5\n",
      "282/282 [==============================] - 104s 369ms/step - loss: 0.0522 - accuracy: 0.9844 - auc: 0.9906 - val_loss: 0.0450 - val_accuracy: 0.9879 - val_auc: 0.9874\n",
      "Epoch 2/5\n",
      "282/282 [==============================] - 105s 372ms/step - loss: 0.0402 - accuracy: 0.9880 - auc: 0.9911 - val_loss: 0.0412 - val_accuracy: 0.9883 - val_auc: 0.9890\n",
      "Epoch 3/5\n",
      "282/282 [==============================] - 104s 370ms/step - loss: 0.0330 - accuracy: 0.9892 - auc: 0.9941 - val_loss: 0.0613 - val_accuracy: 0.9807 - val_auc: 0.9892\n"
     ]
    },
    {
     "name": "stderr",
     "output_type": "stream",
     "text": [
      "100%|██████████| 4/4 [21:16<00:00, 319.19s/it]"
     ]
    },
    {
     "name": "stdout",
     "output_type": "stream",
     "text": [
      "CPU times: user 19min 54s, sys: 2min, total: 21min 55s\n",
      "Wall time: 21min 16s\n"
     ]
    },
    {
     "name": "stderr",
     "output_type": "stream",
     "text": [
      "\n"
     ]
    }
   ],
   "source": [
    "%%time\n",
    "batch_size = 15000\n",
    "num_batches = len(essay_dataset_raw)//batch_size\n",
    "\n",
    "essay_dataset_raw_batches = np.array_split(essay_dataset_raw.iloc[:,1], num_batches)\n",
    "essay_label_batches = np.array_split(essay_dataset_raw.iloc[:,0], num_batches)\n",
    "\n",
    "test_evaluation_results = []\n",
    "\n",
    "for batch_no in tqdm(range(num_batches)):\n",
    "    \n",
    "    #Train:CV:Test :: i:j:k \n",
    "    i, j = 40, 30\n",
    "    essay_batch = essay_dataset_raw_batches[batch_no]\n",
    "    label_batch = essay_label_batches[batch_no]\n",
    "\n",
    "    fraction_size = len(essay_batch)//(i+j)\n",
    "    essay_train, essay_CV = tf.split(essay_batch, [fraction_size*i, len(essay_batch)-fraction_size*i], 0)\n",
    "    label_train, label_CV = tf.split(label_batch, [fraction_size*i, len(label_batch)-fraction_size*i], 0)\n",
    "    \n",
    "    h = model.fit(essay_train, label_train,\n",
    "                    validation_data = (essay_CV, label_CV),\n",
    "                    epochs = 5,\n",
    "                    callbacks = [\n",
    "                                      tf.keras.callbacks.EarlyStopping(monitor = 'val_auc', patience = 0, mode = 'max', \n",
    "                                      restore_best_weights = True, min_delta = 0.01, start_from_epoch = 1)])\n",
    "    \n",
    "#     print('Evaluation of model after: ',batch_no)\n",
    "#     _ = model.evaluate(essay_test, label_test)\n",
    "#     test_evaluation_results.append(_)\n",
    "#     print('\\n\\n')\n",
    "    \n",
    "\n",
    "# h = model.fit(\n",
    "#    encoded_essay_train, label_train,\n",
    "#    validation_data = (encoded_essay_CV, label_CV),\n",
    "#    epochs = 20,\n",
    "#     callbacks = [\n",
    "#       tf.keras.callbacks.EarlyStopping(monitor = 'val_auc', patience = 1, mode = 'max', \n",
    "#                                       restore_best_weights = True, min_delta = 0.01, start_from_epoch = 2)\n",
    "#    ]\n",
    "# )"
   ]
  },
  {
   "cell_type": "code",
   "execution_count": 13,
   "id": "d0de87dd",
   "metadata": {
    "execution": {
     "iopub.execute_input": "2023-12-23T18:42:36.122154Z",
     "iopub.status.busy": "2023-12-23T18:42:36.121464Z",
     "iopub.status.idle": "2023-12-23T18:42:36.150728Z",
     "shell.execute_reply": "2023-12-23T18:42:36.150034Z"
    },
    "papermill": {
     "duration": 0.316434,
     "end_time": "2023-12-23T18:42:36.152603",
     "exception": false,
     "start_time": "2023-12-23T18:42:35.836169",
     "status": "completed"
    },
    "tags": []
   },
   "outputs": [],
   "source": [
    "test_data = pd.read_csv('/kaggle/input/llm-detect-ai-generated-text/test_essays.csv')"
   ]
  },
  {
   "cell_type": "code",
   "execution_count": 14,
   "id": "25a54069",
   "metadata": {
    "execution": {
     "iopub.execute_input": "2023-12-23T18:42:36.788600Z",
     "iopub.status.busy": "2023-12-23T18:42:36.788256Z",
     "iopub.status.idle": "2023-12-23T18:42:36.798104Z",
     "shell.execute_reply": "2023-12-23T18:42:36.797249Z"
    },
    "papermill": {
     "duration": 0.29849,
     "end_time": "2023-12-23T18:42:36.799930",
     "exception": false,
     "start_time": "2023-12-23T18:42:36.501440",
     "status": "completed"
    },
    "tags": []
   },
   "outputs": [],
   "source": [
    "# Apply the function to the 'text' column\n",
    "test_data['text_sequences'] = test_data['text'].apply(split_text_into_sequences)\n",
    "\n",
    "# Explode the sequences to create rows for each sequence\n",
    "df_exploded = test_data.explode('text_sequences')\n",
    "\n",
    "# Drop the original 'text' column\n",
    "df_exploded = df_exploded.drop('text', axis=1)\n",
    "\n",
    "#Resetting test_data\n",
    "test_data = df_exploded.copy()\n",
    "del df_exploded\n",
    "\n"
   ]
  },
  {
   "cell_type": "code",
   "execution_count": 15,
   "id": "f6ed6e2d",
   "metadata": {
    "execution": {
     "iopub.execute_input": "2023-12-23T18:42:37.369729Z",
     "iopub.status.busy": "2023-12-23T18:42:37.369364Z",
     "iopub.status.idle": "2023-12-23T18:42:45.480142Z",
     "shell.execute_reply": "2023-12-23T18:42:45.479213Z"
    },
    "papermill": {
     "duration": 8.40115,
     "end_time": "2023-12-23T18:42:45.482072",
     "exception": false,
     "start_time": "2023-12-23T18:42:37.080922",
     "status": "completed"
    },
    "tags": []
   },
   "outputs": [
    {
     "name": "stdout",
     "output_type": "stream",
     "text": [
      "1/1 [==============================] - 1s 861ms/step\n",
      "CPU times: user 949 ms, sys: 7.05 ms, total: 956 ms\n",
      "Wall time: 8.1 s\n"
     ]
    }
   ],
   "source": [
    "%%time\n",
    "# encoded_test_data = encoder_model(train_essays_01_source.iloc[:10000, 0])\n",
    "# test_set_predictions = model.predict(encoded_test_data)\n",
    "\n",
    "\n",
    "if len(test_data)<100:\n",
    "    test_set_predictions = model.predict(test_data.iloc[:, 2])\n",
    "\n",
    "else:\n",
    "    batch_size = 100\n",
    "    num_batches = len(test_data)//batch_size\n",
    "\n",
    "    test_data_batches = np.array_split(test_data, num_batches)\n",
    "    test_set_predictions_batch_list = []\n",
    "\n",
    "    for batch in tqdm(test_data_batches):\n",
    "        test_set_predictions_batch = model.predict(batch.iloc[:, 2])\n",
    "        test_set_predictions_batch_list.append(test_set_predictions_batch)\n",
    "\n",
    "    test_set_predictions = np.concatenate(test_set_predictions_batch_list, axis = 0)"
   ]
  },
  {
   "cell_type": "code",
   "execution_count": 16,
   "id": "50099e0a",
   "metadata": {
    "execution": {
     "iopub.execute_input": "2023-12-23T18:42:46.047744Z",
     "iopub.status.busy": "2023-12-23T18:42:46.047420Z",
     "iopub.status.idle": "2023-12-23T18:42:46.063249Z",
     "shell.execute_reply": "2023-12-23T18:42:46.062554Z"
    },
    "papermill": {
     "duration": 0.29839,
     "end_time": "2023-12-23T18:42:46.065290",
     "exception": false,
     "start_time": "2023-12-23T18:42:45.766900",
     "status": "completed"
    },
    "tags": []
   },
   "outputs": [],
   "source": [
    "test_data['prediction'] = test_set_predictions.flatten()\n",
    "\n",
    "test_data_agg = test_data.groupby(['id','prompt_id']).aggregate({'prediction':'mean'})\n",
    "\n",
    "test_data_agg.reset_index(inplace = True)\n",
    "\n",
    "test_data_agg.rename(columns = {'prediction':'genarated'}, inplace = True)"
   ]
  },
  {
   "cell_type": "code",
   "execution_count": 17,
   "id": "dfe686ee",
   "metadata": {
    "execution": {
     "iopub.execute_input": "2023-12-23T18:42:46.631103Z",
     "iopub.status.busy": "2023-12-23T18:42:46.630730Z",
     "iopub.status.idle": "2023-12-23T18:42:46.639999Z",
     "shell.execute_reply": "2023-12-23T18:42:46.639093Z"
    },
    "papermill": {
     "duration": 0.29435,
     "end_time": "2023-12-23T18:42:46.642039",
     "exception": false,
     "start_time": "2023-12-23T18:42:46.347689",
     "status": "completed"
    },
    "tags": []
   },
   "outputs": [],
   "source": [
    "test_data_agg['genarated'] = np.round(test_data_agg['genarated'], decimals = 4)\n",
    "submission = test_data_agg[['id', 'genarated']]\n",
    "submission.to_csv('/kaggle/working/submission.csv', index = False, header = submission.columns.tolist())"
   ]
  },
  {
   "cell_type": "markdown",
   "id": "1939815f",
   "metadata": {
    "papermill": {
     "duration": 0.281842,
     "end_time": "2023-12-23T18:42:47.267458",
     "exception": false,
     "start_time": "2023-12-23T18:42:46.985616",
     "status": "completed"
    },
    "tags": []
   },
   "source": [
    "# EDA"
   ]
  },
  {
   "cell_type": "code",
   "execution_count": 18,
   "id": "d9e2bcfd",
   "metadata": {
    "execution": {
     "iopub.execute_input": "2023-12-23T18:42:47.830089Z",
     "iopub.status.busy": "2023-12-23T18:42:47.829717Z",
     "iopub.status.idle": "2023-12-23T18:42:47.834198Z",
     "shell.execute_reply": "2023-12-23T18:42:47.833411Z"
    },
    "papermill": {
     "duration": 0.287624,
     "end_time": "2023-12-23T18:42:47.836115",
     "exception": false,
     "start_time": "2023-12-23T18:42:47.548491",
     "status": "completed"
    },
    "tags": []
   },
   "outputs": [],
   "source": [
    "# import matplotlib.pyplot as plt\n",
    "# import numpy\n",
    "# from sklearn import metrics\n",
    "\n",
    "# def plot_confusion_matrix(label_test, test_set_predictions, threashold = 0.5):\n",
    "    \n",
    "#     if not test_set_pred_labels:\n",
    "#         test_set_pred_labels = [prob >= threashold for prob in test_set_predictions.flatten()]\n",
    "\n",
    "#     confusion_matrix = metrics.confusion_matrix(label_test, test_set_pred_labels)\n",
    "\n",
    "#     cm_display = metrics.ConfusionMatrixDisplay(confusion_matrix = confusion_matrix, display_labels = [False, True])\n",
    "\n",
    "#     cm_display.plot()\n",
    "#     plt.show()"
   ]
  },
  {
   "cell_type": "code",
   "execution_count": 19,
   "id": "edfe7c81",
   "metadata": {
    "execution": {
     "iopub.execute_input": "2023-12-23T18:42:48.406306Z",
     "iopub.status.busy": "2023-12-23T18:42:48.405932Z",
     "iopub.status.idle": "2023-12-23T18:42:48.412801Z",
     "shell.execute_reply": "2023-12-23T18:42:48.411566Z"
    },
    "papermill": {
     "duration": 0.299498,
     "end_time": "2023-12-23T18:42:48.415233",
     "exception": false,
     "start_time": "2023-12-23T18:42:48.115735",
     "status": "completed"
    },
    "tags": []
   },
   "outputs": [],
   "source": [
    "# plot_confusion_matrix(label_test, test_set_predictions, 0.5)"
   ]
  },
  {
   "cell_type": "code",
   "execution_count": 20,
   "id": "bf5d40e5",
   "metadata": {
    "execution": {
     "iopub.execute_input": "2023-12-23T18:42:48.983479Z",
     "iopub.status.busy": "2023-12-23T18:42:48.982826Z",
     "iopub.status.idle": "2023-12-23T18:42:48.987674Z",
     "shell.execute_reply": "2023-12-23T18:42:48.986790Z"
    },
    "papermill": {
     "duration": 0.287748,
     "end_time": "2023-12-23T18:42:48.989629",
     "exception": false,
     "start_time": "2023-12-23T18:42:48.701881",
     "status": "completed"
    },
    "tags": []
   },
   "outputs": [],
   "source": [
    "# import numpy as np\n",
    "# from sklearn.metrics import accuracy_score, confusion_matrix, roc_auc_score, roc_curve\n",
    "# import matplotlib.pyplot as plt\n",
    "# import plotly.graph_objects as go\n",
    "# from sklearn.metrics import roc_curve\n",
    "\n",
    "# def plot_roc_curve(true_y, y_prob):\n",
    "#     \"\"\"\n",
    "#     Plots an interactive ROC curve based on the probabilities and displays thresholds on hover.\n",
    "#     \"\"\"\n",
    "    \n",
    "#     fpr, tpr, thresholds = roc_curve(true_y, y_prob, drop_intermediate=False)\n",
    "\n",
    "#     fig = go.Figure()\n",
    "\n",
    "#     fig.add_trace(go.Scatter(x=fpr, y=tpr, mode='lines', name='ROC Curve', hovertext=[f'Threshold: {threshold:.2f}' for threshold in thresholds]))\n",
    "\n",
    "#     fig.update_layout(\n",
    "#         title='ROC Curve',\n",
    "#         xaxis=dict(title='False Positive Rate'),\n",
    "#         yaxis=dict(title='True Positive Rate'),\n",
    "#         hovermode='closest'\n",
    "#     )\n",
    "\n",
    "#     fig.show()"
   ]
  },
  {
   "cell_type": "code",
   "execution_count": 21,
   "id": "2e34eec7",
   "metadata": {
    "execution": {
     "iopub.execute_input": "2023-12-23T18:42:49.576173Z",
     "iopub.status.busy": "2023-12-23T18:42:49.575710Z",
     "iopub.status.idle": "2023-12-23T18:42:49.580298Z",
     "shell.execute_reply": "2023-12-23T18:42:49.579407Z"
    },
    "papermill": {
     "duration": 0.312467,
     "end_time": "2023-12-23T18:42:49.582189",
     "exception": false,
     "start_time": "2023-12-23T18:42:49.269722",
     "status": "completed"
    },
    "tags": []
   },
   "outputs": [],
   "source": [
    "# plot_roc_curve(label_test, test_set_predictions.flatten())\n",
    "#print('ROC AUC Score: ',roc_auc_score(label_test, test_set_predictions.flatten()))"
   ]
  },
  {
   "cell_type": "markdown",
   "id": "9bbd42a1",
   "metadata": {
    "papermill": {
     "duration": 0.279769,
     "end_time": "2023-12-23T18:42:50.198072",
     "exception": false,
     "start_time": "2023-12-23T18:42:49.918303",
     "status": "completed"
    },
    "tags": []
   },
   "source": [
    "# TEST Data Predctions, a different approach!"
   ]
  },
  {
   "cell_type": "code",
   "execution_count": 22,
   "id": "5e1c7045",
   "metadata": {
    "execution": {
     "iopub.execute_input": "2023-12-23T18:42:50.760036Z",
     "iopub.status.busy": "2023-12-23T18:42:50.759357Z",
     "iopub.status.idle": "2023-12-23T18:42:50.763462Z",
     "shell.execute_reply": "2023-12-23T18:42:50.762572Z"
    },
    "papermill": {
     "duration": 0.285536,
     "end_time": "2023-12-23T18:42:50.765312",
     "exception": false,
     "start_time": "2023-12-23T18:42:50.479776",
     "status": "completed"
    },
    "tags": []
   },
   "outputs": [],
   "source": [
    "# test_data.info()"
   ]
  },
  {
   "cell_type": "code",
   "execution_count": 23,
   "id": "53871224",
   "metadata": {
    "execution": {
     "iopub.execute_input": "2023-12-23T18:42:51.333352Z",
     "iopub.status.busy": "2023-12-23T18:42:51.332975Z",
     "iopub.status.idle": "2023-12-23T18:42:51.337338Z",
     "shell.execute_reply": "2023-12-23T18:42:51.336381Z"
    },
    "papermill": {
     "duration": 0.293928,
     "end_time": "2023-12-23T18:42:51.339430",
     "exception": false,
     "start_time": "2023-12-23T18:42:51.045502",
     "status": "completed"
    },
    "tags": []
   },
   "outputs": [],
   "source": [
    "# test_data = pd.read_csv('/kaggle/input/daigt-proper-train-dataset/train_drcat_04.csv')\n",
    "# #test_data.drop(columns = 'generated', inplace = True)"
   ]
  },
  {
   "cell_type": "code",
   "execution_count": 24,
   "id": "e720cfb3",
   "metadata": {
    "execution": {
     "iopub.execute_input": "2023-12-23T18:42:51.914768Z",
     "iopub.status.busy": "2023-12-23T18:42:51.914393Z",
     "iopub.status.idle": "2023-12-23T18:42:51.918370Z",
     "shell.execute_reply": "2023-12-23T18:42:51.917512Z"
    },
    "papermill": {
     "duration": 0.288113,
     "end_time": "2023-12-23T18:42:51.920228",
     "exception": false,
     "start_time": "2023-12-23T18:42:51.632115",
     "status": "completed"
    },
    "tags": []
   },
   "outputs": [],
   "source": [
    "# test_data_label = test_data[['essay_id','text']].copy()\n",
    "# test_data.drop(columns = ['source', 'prompt','fold'], inplace = True)\n",
    "# test_data.rename(columns = {'essay_id':'id'}, inplace = True)\n",
    "# test_data['prompt_id'] = test_data['id']"
   ]
  },
  {
   "cell_type": "code",
   "execution_count": 25,
   "id": "92c1677d",
   "metadata": {
    "execution": {
     "iopub.execute_input": "2023-12-23T18:42:52.541382Z",
     "iopub.status.busy": "2023-12-23T18:42:52.541034Z",
     "iopub.status.idle": "2023-12-23T18:42:52.544912Z",
     "shell.execute_reply": "2023-12-23T18:42:52.544064Z"
    },
    "papermill": {
     "duration": 0.291622,
     "end_time": "2023-12-23T18:42:52.546746",
     "exception": false,
     "start_time": "2023-12-23T18:42:52.255124",
     "status": "completed"
    },
    "tags": []
   },
   "outputs": [],
   "source": [
    "# len(test_data.iloc[6,1].split())\n",
    "# #test_data.iloc[6,1]"
   ]
  },
  {
   "cell_type": "code",
   "execution_count": 26,
   "id": "52c4721f",
   "metadata": {
    "execution": {
     "iopub.execute_input": "2023-12-23T18:42:53.110549Z",
     "iopub.status.busy": "2023-12-23T18:42:53.110180Z",
     "iopub.status.idle": "2023-12-23T18:42:53.114188Z",
     "shell.execute_reply": "2023-12-23T18:42:53.113237Z"
    },
    "papermill": {
     "duration": 0.288573,
     "end_time": "2023-12-23T18:42:53.116024",
     "exception": false,
     "start_time": "2023-12-23T18:42:52.827451",
     "status": "completed"
    },
    "tags": []
   },
   "outputs": [],
   "source": [
    "# test_data.info()\n",
    "# test_data = test_data.sample(frac = 0.25)"
   ]
  },
  {
   "cell_type": "code",
   "execution_count": 27,
   "id": "2c1e9f96",
   "metadata": {
    "execution": {
     "iopub.execute_input": "2023-12-23T18:42:53.684038Z",
     "iopub.status.busy": "2023-12-23T18:42:53.683426Z",
     "iopub.status.idle": "2023-12-23T18:42:53.687520Z",
     "shell.execute_reply": "2023-12-23T18:42:53.686638Z"
    },
    "papermill": {
     "duration": 0.289325,
     "end_time": "2023-12-23T18:42:53.689482",
     "exception": false,
     "start_time": "2023-12-23T18:42:53.400157",
     "status": "completed"
    },
    "tags": []
   },
   "outputs": [],
   "source": [
    "# test_data.info()"
   ]
  },
  {
   "cell_type": "code",
   "execution_count": 28,
   "id": "0c84915f",
   "metadata": {
    "execution": {
     "iopub.execute_input": "2023-12-23T18:42:54.248890Z",
     "iopub.status.busy": "2023-12-23T18:42:54.248202Z",
     "iopub.status.idle": "2023-12-23T18:42:54.252829Z",
     "shell.execute_reply": "2023-12-23T18:42:54.251950Z"
    },
    "papermill": {
     "duration": 0.286745,
     "end_time": "2023-12-23T18:42:54.254793",
     "exception": false,
     "start_time": "2023-12-23T18:42:53.968048",
     "status": "completed"
    },
    "tags": []
   },
   "outputs": [],
   "source": [
    "# from nltk.tokenize import word_tokenize\n",
    "# from nltk import sent_tokenize\n",
    "\n",
    "\n",
    "# # Function to split text into sequences of 128 words\n",
    "# def split_text_into_sequences(text):\n",
    "#     words = word_tokenize(text)\n",
    "#     sequences = [words[i:i + 128] for i in range(0, len(words), 128)]\n",
    "#     return [' '.join(seq) for seq in sequences]\n",
    "\n",
    "\n",
    "# # Apply the function to the 'text' column\n",
    "# test_data['text_sequences'] = test_data['text'].apply(split_text_into_sequences)\n",
    "\n",
    "# # Explode the sequences to create rows for each sequence\n",
    "# df_exploded = test_data.explode('text_sequences')\n",
    "\n",
    "# # Drop the original 'text' column\n",
    "# df_exploded = df_exploded.drop('text', axis=1)\n",
    "\n",
    "# #Resetting test_data\n",
    "# test_data = df_exploded.copy()\n",
    "# del df_exploded\n",
    "\n",
    "\n",
    "\n"
   ]
  },
  {
   "cell_type": "code",
   "execution_count": 29,
   "id": "892ec424",
   "metadata": {
    "execution": {
     "iopub.execute_input": "2023-12-23T18:42:54.863057Z",
     "iopub.status.busy": "2023-12-23T18:42:54.862699Z",
     "iopub.status.idle": "2023-12-23T18:42:54.866715Z",
     "shell.execute_reply": "2023-12-23T18:42:54.865837Z"
    },
    "papermill": {
     "duration": 0.33113,
     "end_time": "2023-12-23T18:42:54.868634",
     "exception": false,
     "start_time": "2023-12-23T18:42:54.537504",
     "status": "completed"
    },
    "tags": []
   },
   "outputs": [],
   "source": [
    "# test_data = test_data.sample(frac = 8, replace = True)"
   ]
  },
  {
   "cell_type": "code",
   "execution_count": 30,
   "id": "2edccf32",
   "metadata": {
    "execution": {
     "iopub.execute_input": "2023-12-23T18:42:55.435699Z",
     "iopub.status.busy": "2023-12-23T18:42:55.435060Z",
     "iopub.status.idle": "2023-12-23T18:42:55.439393Z",
     "shell.execute_reply": "2023-12-23T18:42:55.438563Z"
    },
    "papermill": {
     "duration": 0.288413,
     "end_time": "2023-12-23T18:42:55.441310",
     "exception": false,
     "start_time": "2023-12-23T18:42:55.152897",
     "status": "completed"
    },
    "tags": []
   },
   "outputs": [],
   "source": [
    "# %%time\n",
    "# tqdm\n",
    "# # Apply the function to the 'text' column\n",
    "# test_data['text_sequences'] = test_data['text'].apply(split_text_into_sequences)\n",
    "\n",
    "# # Explode the sequences to create rows for each sequence\n",
    "# df_exploded = test_data.explode('text_sequences')\n",
    "\n",
    "# # Drop the original 'text' column\n",
    "# df_exploded = df_exploded.drop('text', axis=1)\n",
    "\n",
    "# # Display the resulting dataframe\n",
    "# print(df_exploded)"
   ]
  },
  {
   "cell_type": "code",
   "execution_count": 31,
   "id": "1f4e1207",
   "metadata": {
    "execution": {
     "iopub.execute_input": "2023-12-23T18:42:56.005921Z",
     "iopub.status.busy": "2023-12-23T18:42:56.005107Z",
     "iopub.status.idle": "2023-12-23T18:42:56.009397Z",
     "shell.execute_reply": "2023-12-23T18:42:56.008484Z"
    },
    "papermill": {
     "duration": 0.291119,
     "end_time": "2023-12-23T18:42:56.011274",
     "exception": false,
     "start_time": "2023-12-23T18:42:55.720155",
     "status": "completed"
    },
    "tags": []
   },
   "outputs": [],
   "source": [
    "# test_data = df_exploded"
   ]
  },
  {
   "cell_type": "code",
   "execution_count": 32,
   "id": "6c4a6d46",
   "metadata": {
    "execution": {
     "iopub.execute_input": "2023-12-23T18:42:56.594173Z",
     "iopub.status.busy": "2023-12-23T18:42:56.593292Z",
     "iopub.status.idle": "2023-12-23T18:42:56.598176Z",
     "shell.execute_reply": "2023-12-23T18:42:56.597303Z"
    },
    "papermill": {
     "duration": 0.308042,
     "end_time": "2023-12-23T18:42:56.600034",
     "exception": false,
     "start_time": "2023-12-23T18:42:56.291992",
     "status": "completed"
    },
    "tags": []
   },
   "outputs": [],
   "source": [
    "# %%time\n",
    "# # encoded_test_data = encoder_model(train_essays_01_source.iloc[:10000, 0])\n",
    "# # test_set_predictions = model.predict(encoded_test_data)\n",
    "\n",
    "\n",
    "# if len(test_data)<100:\n",
    "#     encoded_test_data = encoder_model(test_data.iloc[:, 3])\n",
    "#     test_set_predictions = model.predict(encoded_test_data)\n",
    "\n",
    "# else:\n",
    "#     batch_size = 100\n",
    "#     num_batches = len(test_data)//batch_size\n",
    "\n",
    "#     test_data_batches = np.array_split(test_data, num_batches)\n",
    "#     test_set_predictions_batch_list = []\n",
    "\n",
    "#     for batch in test_data_batches:\n",
    "#         encoded_test_data_batch = encoder_model(batch.iloc[:, 3])\n",
    "#         test_set_predictions_batch = model.predict(encoded_test_data_batch)\n",
    "#         test_set_predictions_batch_list.append(test_set_predictions_batch)\n",
    "\n",
    "#     test_set_predictions = np.concatenate(test_set_predictions_batch_list, axis = 0)"
   ]
  },
  {
   "cell_type": "code",
   "execution_count": 33,
   "id": "0b5da671",
   "metadata": {
    "execution": {
     "iopub.execute_input": "2023-12-23T18:42:57.206250Z",
     "iopub.status.busy": "2023-12-23T18:42:57.205881Z",
     "iopub.status.idle": "2023-12-23T18:42:57.209896Z",
     "shell.execute_reply": "2023-12-23T18:42:57.209025Z"
    },
    "papermill": {
     "duration": 0.331734,
     "end_time": "2023-12-23T18:42:57.211663",
     "exception": false,
     "start_time": "2023-12-23T18:42:56.879929",
     "status": "completed"
    },
    "tags": []
   },
   "outputs": [],
   "source": [
    "# batch.iloc[:, 3]"
   ]
  },
  {
   "cell_type": "code",
   "execution_count": 34,
   "id": "4d67ccb3",
   "metadata": {
    "execution": {
     "iopub.execute_input": "2023-12-23T18:42:57.772141Z",
     "iopub.status.busy": "2023-12-23T18:42:57.771792Z",
     "iopub.status.idle": "2023-12-23T18:42:57.775734Z",
     "shell.execute_reply": "2023-12-23T18:42:57.774983Z"
    },
    "papermill": {
     "duration": 0.285698,
     "end_time": "2023-12-23T18:42:57.777627",
     "exception": false,
     "start_time": "2023-12-23T18:42:57.491929",
     "status": "completed"
    },
    "tags": []
   },
   "outputs": [],
   "source": [
    "# test_set_predictions.flatten()"
   ]
  },
  {
   "cell_type": "code",
   "execution_count": 35,
   "id": "3b96dd03",
   "metadata": {
    "execution": {
     "iopub.execute_input": "2023-12-23T18:42:58.338977Z",
     "iopub.status.busy": "2023-12-23T18:42:58.338611Z",
     "iopub.status.idle": "2023-12-23T18:42:58.342801Z",
     "shell.execute_reply": "2023-12-23T18:42:58.341911Z"
    },
    "papermill": {
     "duration": 0.288691,
     "end_time": "2023-12-23T18:42:58.344803",
     "exception": false,
     "start_time": "2023-12-23T18:42:58.056112",
     "status": "completed"
    },
    "tags": []
   },
   "outputs": [],
   "source": [
    "# test_data['prediction'] = test_set_predictions.flatten()"
   ]
  },
  {
   "cell_type": "code",
   "execution_count": 36,
   "id": "948602a0",
   "metadata": {
    "execution": {
     "iopub.execute_input": "2023-12-23T18:42:58.920782Z",
     "iopub.status.busy": "2023-12-23T18:42:58.920430Z",
     "iopub.status.idle": "2023-12-23T18:42:58.924343Z",
     "shell.execute_reply": "2023-12-23T18:42:58.923511Z"
    },
    "papermill": {
     "duration": 0.284063,
     "end_time": "2023-12-23T18:42:58.926236",
     "exception": false,
     "start_time": "2023-12-23T18:42:58.642173",
     "status": "completed"
    },
    "tags": []
   },
   "outputs": [],
   "source": [
    "# test_data.head()"
   ]
  },
  {
   "cell_type": "code",
   "execution_count": 37,
   "id": "c23886c1",
   "metadata": {
    "execution": {
     "iopub.execute_input": "2023-12-23T18:42:59.487827Z",
     "iopub.status.busy": "2023-12-23T18:42:59.487458Z",
     "iopub.status.idle": "2023-12-23T18:42:59.491520Z",
     "shell.execute_reply": "2023-12-23T18:42:59.490667Z"
    },
    "papermill": {
     "duration": 0.288343,
     "end_time": "2023-12-23T18:42:59.493426",
     "exception": false,
     "start_time": "2023-12-23T18:42:59.205083",
     "status": "completed"
    },
    "tags": []
   },
   "outputs": [],
   "source": [
    "# test_data['prediction'] = test_set_predictions.flatten()\n",
    "\n",
    "# test_data_agg = test_data.groupby(['id','prompt_id','label']).aggregate({'prediction':['max', 'min', 'mean', 'first']})\n",
    "\n",
    "# test_data_agg.reset_index(inplace = True)"
   ]
  },
  {
   "cell_type": "code",
   "execution_count": 38,
   "id": "769083b6",
   "metadata": {
    "execution": {
     "iopub.execute_input": "2023-12-23T18:43:00.094241Z",
     "iopub.status.busy": "2023-12-23T18:43:00.093852Z",
     "iopub.status.idle": "2023-12-23T18:43:00.098024Z",
     "shell.execute_reply": "2023-12-23T18:43:00.097243Z"
    },
    "papermill": {
     "duration": 0.28559,
     "end_time": "2023-12-23T18:43:00.099934",
     "exception": false,
     "start_time": "2023-12-23T18:42:59.814344",
     "status": "completed"
    },
    "tags": []
   },
   "outputs": [],
   "source": [
    "# test_data_agg.reset_index(inplace = True)"
   ]
  },
  {
   "cell_type": "code",
   "execution_count": 39,
   "id": "8470dbdb",
   "metadata": {
    "execution": {
     "iopub.execute_input": "2023-12-23T18:43:00.662518Z",
     "iopub.status.busy": "2023-12-23T18:43:00.662179Z",
     "iopub.status.idle": "2023-12-23T18:43:00.666280Z",
     "shell.execute_reply": "2023-12-23T18:43:00.665395Z"
    },
    "papermill": {
     "duration": 0.288379,
     "end_time": "2023-12-23T18:43:00.668229",
     "exception": false,
     "start_time": "2023-12-23T18:43:00.379850",
     "status": "completed"
    },
    "tags": []
   },
   "outputs": [],
   "source": [
    "# pred_custom = []\n",
    "# for index,row in test_data_agg.iterrows():\n",
    "    \n",
    "#     if row['prediction']['first'] >= 0.5:\n",
    "#         pred_custom.append(row['prediction']['max'])\n",
    "#     else:\n",
    "#         pred_custom.append(row['prediction']['min'])\n",
    "    "
   ]
  },
  {
   "cell_type": "code",
   "execution_count": 40,
   "id": "a0cb120a",
   "metadata": {
    "execution": {
     "iopub.execute_input": "2023-12-23T18:43:01.227510Z",
     "iopub.status.busy": "2023-12-23T18:43:01.227184Z",
     "iopub.status.idle": "2023-12-23T18:43:01.231141Z",
     "shell.execute_reply": "2023-12-23T18:43:01.230361Z"
    },
    "papermill": {
     "duration": 0.285591,
     "end_time": "2023-12-23T18:43:01.232998",
     "exception": false,
     "start_time": "2023-12-23T18:43:00.947407",
     "status": "completed"
    },
    "tags": []
   },
   "outputs": [],
   "source": [
    "# test_data_agg['custom'] = pred_custom"
   ]
  },
  {
   "cell_type": "code",
   "execution_count": 41,
   "id": "269f3107",
   "metadata": {
    "execution": {
     "iopub.execute_input": "2023-12-23T18:43:01.798085Z",
     "iopub.status.busy": "2023-12-23T18:43:01.797735Z",
     "iopub.status.idle": "2023-12-23T18:43:01.801617Z",
     "shell.execute_reply": "2023-12-23T18:43:01.800808Z"
    },
    "papermill": {
     "duration": 0.28992,
     "end_time": "2023-12-23T18:43:01.803478",
     "exception": false,
     "start_time": "2023-12-23T18:43:01.513558",
     "status": "completed"
    },
    "tags": []
   },
   "outputs": [],
   "source": [
    "# test_data_agg.head()"
   ]
  },
  {
   "cell_type": "code",
   "execution_count": 42,
   "id": "1b2397f5",
   "metadata": {
    "execution": {
     "iopub.execute_input": "2023-12-23T18:43:02.363236Z",
     "iopub.status.busy": "2023-12-23T18:43:02.362930Z",
     "iopub.status.idle": "2023-12-23T18:43:02.366761Z",
     "shell.execute_reply": "2023-12-23T18:43:02.365928Z"
    },
    "papermill": {
     "duration": 0.286176,
     "end_time": "2023-12-23T18:43:02.368685",
     "exception": false,
     "start_time": "2023-12-23T18:43:02.082509",
     "status": "completed"
    },
    "tags": []
   },
   "outputs": [],
   "source": [
    "#print('ROC AUC Score: ',roc_auc_score(label_test, test_set_predictions.flatten()))"
   ]
  },
  {
   "cell_type": "code",
   "execution_count": 43,
   "id": "fc9f8e3e",
   "metadata": {
    "execution": {
     "iopub.execute_input": "2023-12-23T18:43:02.973597Z",
     "iopub.status.busy": "2023-12-23T18:43:02.973237Z",
     "iopub.status.idle": "2023-12-23T18:43:02.977389Z",
     "shell.execute_reply": "2023-12-23T18:43:02.976495Z"
    },
    "papermill": {
     "duration": 0.287099,
     "end_time": "2023-12-23T18:43:02.979265",
     "exception": false,
     "start_time": "2023-12-23T18:43:02.692166",
     "status": "completed"
    },
    "tags": []
   },
   "outputs": [],
   "source": [
    "# for i in range(3,8):\n",
    "#     print('ROC with metric:',test_data_agg.columns[i])\n",
    "#     print('ROC AUC Score: ',roc_auc_score(test_data_agg.iloc[:,2], test_data_agg.iloc[:,i]))"
   ]
  },
  {
   "cell_type": "code",
   "execution_count": 44,
   "id": "0edf770a",
   "metadata": {
    "execution": {
     "iopub.execute_input": "2023-12-23T18:43:03.536699Z",
     "iopub.status.busy": "2023-12-23T18:43:03.536357Z",
     "iopub.status.idle": "2023-12-23T18:43:03.540442Z",
     "shell.execute_reply": "2023-12-23T18:43:03.539590Z"
    },
    "papermill": {
     "duration": 0.28542,
     "end_time": "2023-12-23T18:43:03.542323",
     "exception": false,
     "start_time": "2023-12-23T18:43:03.256903",
     "status": "completed"
    },
    "tags": []
   },
   "outputs": [],
   "source": [
    "# (0.9824285407738714 - 0.9667853753352559)*100"
   ]
  },
  {
   "cell_type": "code",
   "execution_count": null,
   "id": "271a65ac",
   "metadata": {
    "papermill": {
     "duration": 0.277697,
     "end_time": "2023-12-23T18:43:04.098893",
     "exception": false,
     "start_time": "2023-12-23T18:43:03.821196",
     "status": "completed"
    },
    "tags": []
   },
   "outputs": [],
   "source": []
  }
 ],
 "metadata": {
  "kaggle": {
   "accelerator": "gpu",
   "dataSources": [
    {
     "databundleVersionId": 6888007,
     "sourceId": 61542,
     "sourceType": "competition"
    },
    {
     "datasetId": 3942644,
     "sourceId": 6890527,
     "sourceType": "datasetVersion"
    },
    {
     "datasetId": 3961875,
     "sourceId": 6971638,
     "sourceType": "datasetVersion"
    },
    {
     "modelInstanceId": 1910,
     "sourceId": 2644,
     "sourceType": "modelInstanceVersion"
    },
    {
     "modelInstanceId": 2180,
     "sourceId": 2938,
     "sourceType": "modelInstanceVersion"
    }
   ],
   "dockerImageVersionId": 30627,
   "isGpuEnabled": true,
   "isInternetEnabled": false,
   "language": "python",
   "sourceType": "notebook"
  },
  "kernelspec": {
   "display_name": "Python 3",
   "language": "python",
   "name": "python3"
  },
  "language_info": {
   "codemirror_mode": {
    "name": "ipython",
    "version": 3
   },
   "file_extension": ".py",
   "mimetype": "text/x-python",
   "name": "python",
   "nbconvert_exporter": "python",
   "pygments_lexer": "ipython3",
   "version": "3.10.12"
  },
  "papermill": {
   "default_parameters": {},
   "duration": 1426.442267,
   "end_time": "2023-12-23T18:43:07.564462",
   "environment_variables": {},
   "exception": null,
   "input_path": "__notebook__.ipynb",
   "output_path": "__notebook__.ipynb",
   "parameters": {},
   "start_time": "2023-12-23T18:19:21.122195",
   "version": "2.4.0"
  }
 },
 "nbformat": 4,
 "nbformat_minor": 5
}
