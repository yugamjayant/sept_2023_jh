{
 "cells": [
  {
   "cell_type": "code",
   "execution_count": 1,
   "id": "d2e8828e",
   "metadata": {
    "_cell_guid": "b1076dfc-b9ad-4769-8c92-a6c4dae69d19",
    "_uuid": "8f2839f25d086af736a60e9eeb907d3b93b6e0e5",
    "execution": {
     "iopub.execute_input": "2024-01-12T13:27:31.991432Z",
     "iopub.status.busy": "2024-01-12T13:27:31.991062Z",
     "iopub.status.idle": "2024-01-12T13:27:32.740546Z",
     "shell.execute_reply": "2024-01-12T13:27:32.738405Z"
    },
    "papermill": {
     "duration": 0.767774,
     "end_time": "2024-01-12T13:27:32.743608",
     "exception": false,
     "start_time": "2024-01-12T13:27:31.975834",
     "status": "completed"
    },
    "tags": []
   },
   "outputs": [
    {
     "name": "stdout",
     "output_type": "stream",
     "text": [
      "/kaggle/input/llm-detect-ai-generated-text/sample_submission.csv\n",
      "/kaggle/input/llm-detect-ai-generated-text/train_prompts.csv\n",
      "/kaggle/input/llm-detect-ai-generated-text/test_essays.csv\n",
      "/kaggle/input/llm-detect-ai-generated-text/train_essays.csv\n",
      "/kaggle/input/bert/tensorflow2/en-uncased-preprocess/3/saved_model.pb\n",
      "/kaggle/input/bert/tensorflow2/en-uncased-preprocess/3/keras_metadata.pb\n",
      "/kaggle/input/bert/tensorflow2/en-uncased-preprocess/3/assets/vocab.txt\n",
      "/kaggle/input/bert/tensorflow2/en-uncased-preprocess/3/variables/variables.index\n",
      "/kaggle/input/bert/tensorflow2/en-uncased-preprocess/3/variables/variables.data-00000-of-00001\n",
      "/kaggle/input/bert/tensorflow2/bert-en-uncased-l-12-h-768-a-12/2/saved_model.pb\n",
      "/kaggle/input/bert/tensorflow2/bert-en-uncased-l-12-h-768-a-12/2/keras_metadata.pb\n",
      "/kaggle/input/bert/tensorflow2/bert-en-uncased-l-12-h-768-a-12/2/assets/vocab.txt\n",
      "/kaggle/input/bert/tensorflow2/bert-en-uncased-l-12-h-768-a-12/2/variables/variables.index\n",
      "/kaggle/input/bert/tensorflow2/bert-en-uncased-l-12-h-768-a-12/2/variables/variables.data-00000-of-00001\n",
      "/kaggle/input/llm-7-prompt-training-dataset/train_essays_RDizzl3_seven_v2.csv\n",
      "/kaggle/input/llm-7-prompt-training-dataset/train_essays_7_prompts_v2.csv\n",
      "/kaggle/input/llm-7-prompt-training-dataset/train_essays_7_prompts.csv\n",
      "/kaggle/input/llm-7-prompt-training-dataset/train_essays_RDizzl3_seven_v1.csv\n",
      "/kaggle/input/daigt-proper-train-dataset/train_drcat_03.csv\n",
      "/kaggle/input/daigt-proper-train-dataset/train_drcat_02.csv\n",
      "/kaggle/input/daigt-proper-train-dataset/train_drcat_04.csv\n",
      "/kaggle/input/daigt-proper-train-dataset/train_drcat_01.csv\n"
     ]
    }
   ],
   "source": [
    "# This Python 3 environment comes with many helpful analytics libraries installed\n",
    "# It is defined by the kaggle/python Docker image: https://github.com/kaggle/docker-python\n",
    "# For example, here's several helpful packages to load\n",
    "\n",
    "import numpy as np # linear algebra\n",
    "import pandas as pd # data processing, CSV file I/O (e.g. pd.read_csv)\n",
    "\n",
    "# Input data files are available in the read-only \"../input/\" directory\n",
    "# For example, running this (by clicking run or pressing Shift+Enter) will list all files under the input directory\n",
    "\n",
    "import os\n",
    "for dirname, _, filenames in os.walk('/kaggle/input'):\n",
    "    for filename in filenames:\n",
    "        print(os.path.join(dirname, filename))\n",
    "\n",
    "# You can write up to 20GB to the current directory (/kaggle/working/) that gets preserved as output when you create a version using \"Save & Run All\" \n",
    "# You can also write temporary files to /kaggle/temp/, but they won't be saved outside of the current session"
   ]
  },
  {
   "cell_type": "code",
   "execution_count": 2,
   "id": "8efc0328",
   "metadata": {
    "execution": {
     "iopub.execute_input": "2024-01-12T13:27:32.773558Z",
     "iopub.status.busy": "2024-01-12T13:27:32.773090Z",
     "iopub.status.idle": "2024-01-12T13:27:45.245507Z",
     "shell.execute_reply": "2024-01-12T13:27:45.244668Z"
    },
    "papermill": {
     "duration": 12.489923,
     "end_time": "2024-01-12T13:27:45.247809",
     "exception": false,
     "start_time": "2024-01-12T13:27:32.757886",
     "status": "completed"
    },
    "tags": []
   },
   "outputs": [
    {
     "name": "stderr",
     "output_type": "stream",
     "text": [
      "/opt/conda/lib/python3.10/site-packages/scipy/__init__.py:146: UserWarning: A NumPy version >=1.16.5 and <1.23.0 is required for this version of SciPy (detected version 1.24.3\n",
      "  warnings.warn(f\"A NumPy version >={np_minversion} and <{np_maxversion}\"\n"
     ]
    }
   ],
   "source": [
    "import tensorflow_text as text\n",
    "import tensorflow_hub as hub\n",
    "import tensorflow as tf\n",
    "import random\n",
    "import tqdm\n",
    "from tqdm import tqdm\n",
    "import copy"
   ]
  },
  {
   "cell_type": "markdown",
   "id": "ec45e0b3",
   "metadata": {
    "papermill": {
     "duration": 0.014112,
     "end_time": "2024-01-12T13:27:45.284723",
     "exception": false,
     "start_time": "2024-01-12T13:27:45.270611",
     "status": "completed"
    },
    "tags": []
   },
   "source": [
    "Prepara Data from source: llm-7-prompt-training-dataset"
   ]
  },
  {
   "cell_type": "code",
   "execution_count": 3,
   "id": "63bf37b9",
   "metadata": {
    "execution": {
     "iopub.execute_input": "2024-01-12T13:27:45.314508Z",
     "iopub.status.busy": "2024-01-12T13:27:45.313245Z",
     "iopub.status.idle": "2024-01-12T13:27:46.220918Z",
     "shell.execute_reply": "2024-01-12T13:27:46.220091Z"
    },
    "papermill": {
     "duration": 0.925142,
     "end_time": "2024-01-12T13:27:46.223530",
     "exception": false,
     "start_time": "2024-01-12T13:27:45.298388",
     "status": "completed"
    },
    "tags": []
   },
   "outputs": [],
   "source": [
    "train_essays_01_source = pd.read_csv('/kaggle/input/llm-7-prompt-training-dataset/train_essays_7_prompts_v2.csv')\n",
    "\n",
    "#Slicing the dataset with different labels\n",
    "train_essays_01_source_label_1 = train_essays_01_source[train_essays_01_source['label'] == 1].reset_index(drop = True)  \n",
    "train_essays_01_source_label_0 = train_essays_01_source[train_essays_01_source['label'] == 0].reset_index(drop = True)\n",
    "\n",
    "#Set number of data points required from each label\n",
    "#Creating new data set with data sampled from each labels\n",
    "label_1_count = 1638 #1638 data points available\n",
    "label_0_count = 13712 #13712 data points available\n",
    "\n",
    "essay_dataset_raw = pd.concat([train_essays_01_source_label_1.sample(n= label_1_count, random_state = 36, axis = 0), \n",
    "                         train_essays_01_source_label_0.sample(n= label_0_count, random_state = 36, axis = 0)], \n",
    "                        axis = 0, sort = True).sample(frac = 1)"
   ]
  },
  {
   "cell_type": "code",
   "execution_count": 4,
   "id": "53ecfd9e",
   "metadata": {
    "execution": {
     "iopub.execute_input": "2024-01-12T13:27:46.254443Z",
     "iopub.status.busy": "2024-01-12T13:27:46.253642Z",
     "iopub.status.idle": "2024-01-12T13:27:47.685568Z",
     "shell.execute_reply": "2024-01-12T13:27:47.684728Z"
    },
    "papermill": {
     "duration": 1.449797,
     "end_time": "2024-01-12T13:27:47.687987",
     "exception": false,
     "start_time": "2024-01-12T13:27:46.238190",
     "status": "completed"
    },
    "tags": []
   },
   "outputs": [],
   "source": [
    "from nltk.tokenize import word_tokenize\n",
    "from nltk import sent_tokenize\n",
    "\n",
    "\n",
    "# Function to split text into sequences of 128 words\n",
    "def split_text_into_sequences(text):\n",
    "    words = word_tokenize(text)\n",
    "    sequences = [words[i:i + 128] for i in range(0, len(words), 128)]\n",
    "    return [' '.join(seq) for seq in sequences]\n",
    "\n",
    "\n",
    "def get_df_with_128_length_sequences(essay_dataset_raw):\n",
    "\n",
    "    #essay_dataset_raw.head()\n",
    "    essay_dataset_raw['text_seq_list'] = essay_dataset_raw['text'].map(split_text_into_sequences)\n",
    "\n",
    "\n",
    "    essay_dataset_raw.drop(columns = ['text'], inplace = True)\n",
    "    essay_dataset_raw = essay_dataset_raw.explode('text_seq_list')\n",
    "\n",
    "    essay_dataset_raw.rename(columns = {'text_seq_list':'text'}, inplace = True)\n",
    "    \n",
    "    return essay_dataset_raw"
   ]
  },
  {
   "cell_type": "code",
   "execution_count": 5,
   "id": "8cf2a107",
   "metadata": {
    "execution": {
     "iopub.execute_input": "2024-01-12T13:27:47.717594Z",
     "iopub.status.busy": "2024-01-12T13:27:47.717206Z",
     "iopub.status.idle": "2024-01-12T13:28:05.260282Z",
     "shell.execute_reply": "2024-01-12T13:28:05.259063Z"
    },
    "papermill": {
     "duration": 17.560971,
     "end_time": "2024-01-12T13:28:05.263222",
     "exception": false,
     "start_time": "2024-01-12T13:27:47.702251",
     "status": "completed"
    },
    "tags": []
   },
   "outputs": [],
   "source": [
    "#Bert encoder\n",
    "\n",
    "text_input = tf.keras.layers.Input(shape=(), dtype=tf.string)\n",
    "preprocessor = hub.KerasLayer(\n",
    "    \"https://kaggle.com/models/tensorflow/bert/frameworks/TensorFlow2/variations/en-uncased-preprocess/versions/3\")\n",
    "encoder_inputs = preprocessor(text_input)\n",
    "encoder = hub.KerasLayer(\n",
    "    \"https://www.kaggle.com/models/tensorflow/bert/frameworks/TensorFlow2/variations/bert-en-uncased-l-12-h-768-a-12/versions/2\",trainable=False)\n",
    "outputs = encoder(encoder_inputs)\n",
    "pooled_output = outputs[\"pooled_output\"]      # [batch_size, 768].\n",
    "sequence_output = outputs[\"sequence_output\"]  # [batch_size, seq_length, 768]."
   ]
  },
  {
   "cell_type": "code",
   "execution_count": 6,
   "id": "50f62c80",
   "metadata": {
    "execution": {
     "iopub.execute_input": "2024-01-12T13:28:05.292294Z",
     "iopub.status.busy": "2024-01-12T13:28:05.291497Z",
     "iopub.status.idle": "2024-01-12T13:28:05.300703Z",
     "shell.execute_reply": "2024-01-12T13:28:05.299938Z"
    },
    "papermill": {
     "duration": 0.025701,
     "end_time": "2024-01-12T13:28:05.302749",
     "exception": false,
     "start_time": "2024-01-12T13:28:05.277048",
     "status": "completed"
    },
    "tags": []
   },
   "outputs": [],
   "source": [
    "encoder_model = tf.keras.Model(inputs=text_input, outputs=sequence_output)"
   ]
  },
  {
   "cell_type": "code",
   "execution_count": 7,
   "id": "e5cb48c8",
   "metadata": {
    "execution": {
     "iopub.execute_input": "2024-01-12T13:28:05.330760Z",
     "iopub.status.busy": "2024-01-12T13:28:05.330504Z",
     "iopub.status.idle": "2024-01-12T13:28:05.334370Z",
     "shell.execute_reply": "2024-01-12T13:28:05.333471Z"
    },
    "papermill": {
     "duration": 0.020123,
     "end_time": "2024-01-12T13:28:05.336286",
     "exception": false,
     "start_time": "2024-01-12T13:28:05.316163",
     "status": "completed"
    },
    "tags": []
   },
   "outputs": [],
   "source": [
    "#del model"
   ]
  },
  {
   "cell_type": "code",
   "execution_count": 8,
   "id": "02368f4b",
   "metadata": {
    "execution": {
     "iopub.execute_input": "2024-01-12T13:28:05.364410Z",
     "iopub.status.busy": "2024-01-12T13:28:05.364126Z",
     "iopub.status.idle": "2024-01-12T13:28:05.634751Z",
     "shell.execute_reply": "2024-01-12T13:28:05.633935Z"
    },
    "papermill": {
     "duration": 0.287965,
     "end_time": "2024-01-12T13:28:05.637740",
     "exception": false,
     "start_time": "2024-01-12T13:28:05.349775",
     "status": "completed"
    },
    "tags": []
   },
   "outputs": [],
   "source": [
    "import tensorflow as tf\n",
    "from tensorflow.keras import layers\n",
    "\n",
    "\n",
    "# Input text\n",
    "text_input = tf.keras.layers.Input(shape=(), dtype=tf.string)\n",
    "\n",
    "#Text Embeddings generation with Bert\n",
    "input_embeddings = encoder_model(text_input)\n",
    "\n",
    "# Apply pooling right after the input layer\n",
    "pooled_input = layers.GlobalMaxPooling1D()(input_embeddings)\n",
    "\n",
    "# Reshape pooled input to add singleton dimension\n",
    "query = tf.expand_dims(pooled_input, axis=1)\n",
    "\n",
    "# Multi-Head Attention layer with pooling layer output as key and input embedding vectors as values\n",
    "num_heads = 12\n",
    "key_dim = 64  # Adjust based on experimentation\n",
    "attention_output = layers.MultiHeadAttention(num_heads=num_heads, key_dim=key_dim)(query, input_embeddings)\n",
    "\n",
    "# Global average pooling\n",
    "global_pool = layers.GlobalAveragePooling1D()(attention_output)\n",
    "\n",
    "# Dropout to prevent overfitting\n",
    "dropout = layers.Dropout(0.2)(global_pool)\n",
    "\n",
    "# Dense output layer with 1 unit and sigmoid activation (for binary classification)\n",
    "output = layers.Dense(1, activation=\"sigmoid\")(dropout)\n",
    "\n",
    "# Create the model\n",
    "model = tf.keras.Model(inputs=text_input, outputs=output)"
   ]
  },
  {
   "cell_type": "code",
   "execution_count": 9,
   "id": "d43e30c5",
   "metadata": {
    "execution": {
     "iopub.execute_input": "2024-01-12T13:28:05.677000Z",
     "iopub.status.busy": "2024-01-12T13:28:05.676170Z",
     "iopub.status.idle": "2024-01-12T13:28:05.728841Z",
     "shell.execute_reply": "2024-01-12T13:28:05.727846Z"
    },
    "papermill": {
     "duration": 0.075826,
     "end_time": "2024-01-12T13:28:05.730785",
     "exception": false,
     "start_time": "2024-01-12T13:28:05.654959",
     "status": "completed"
    },
    "tags": []
   },
   "outputs": [
    {
     "name": "stdout",
     "output_type": "stream",
     "text": [
      "Model: \"model_1\"\n",
      "__________________________________________________________________________________________________\n",
      " Layer (type)                Output Shape                 Param #   Connected to                  \n",
      "==================================================================================================\n",
      " input_2 (InputLayer)        [(None,)]                    0         []                            \n",
      "                                                                                                  \n",
      " model (Functional)          (None, 128, 768)             1094822   ['input_2[0][0]']             \n",
      "                                                          41                                      \n",
      "                                                                                                  \n",
      " global_max_pooling1d (Glob  (None, 768)                  0         ['model[0][0]']               \n",
      " alMaxPooling1D)                                                                                  \n",
      "                                                                                                  \n",
      " tf.expand_dims (TFOpLambda  (None, 1, 768)               0         ['global_max_pooling1d[0][0]']\n",
      " )                                                                                                \n",
      "                                                                                                  \n",
      " multi_head_attention (Mult  (None, 1, 768)               2362368   ['tf.expand_dims[0][0]',      \n",
      " iHeadAttention)                                                     'model[0][0]']               \n",
      "                                                                                                  \n",
      " global_average_pooling1d (  (None, 768)                  0         ['multi_head_attention[0][0]']\n",
      " GlobalAveragePooling1D)                                                                          \n",
      "                                                                                                  \n",
      " dropout (Dropout)           (None, 768)                  0         ['global_average_pooling1d[0][\n",
      "                                                                    0]']                          \n",
      "                                                                                                  \n",
      " dense (Dense)               (None, 1)                    769       ['dropout[0][0]']             \n",
      "                                                                                                  \n",
      "==================================================================================================\n",
      "Total params: 111845378 (426.66 MB)\n",
      "Trainable params: 2363137 (9.01 MB)\n",
      "Non-trainable params: 109482241 (417.64 MB)\n",
      "__________________________________________________________________________________________________\n"
     ]
    }
   ],
   "source": [
    "model.summary()"
   ]
  },
  {
   "cell_type": "code",
   "execution_count": 10,
   "id": "87ab387a",
   "metadata": {
    "execution": {
     "iopub.execute_input": "2024-01-12T13:28:05.765697Z",
     "iopub.status.busy": "2024-01-12T13:28:05.765064Z",
     "iopub.status.idle": "2024-01-12T13:29:26.787277Z",
     "shell.execute_reply": "2024-01-12T13:29:26.786455Z"
    },
    "papermill": {
     "duration": 81.042207,
     "end_time": "2024-01-12T13:29:26.789671",
     "exception": false,
     "start_time": "2024-01-12T13:28:05.747464",
     "status": "completed"
    },
    "tags": []
   },
   "outputs": [],
   "source": [
    "essay_dataset_raw = get_df_with_128_length_sequences(essay_dataset_raw)\n",
    "essay_dataset_raw = essay_dataset_raw.sample(frac = 1)\n",
    "\n",
    "# essay_dataset_test = pd.read_csv('/kaggle/input/daigt-proper-train-dataset/train_drcat_04.csv')\n",
    "# essay_dataset_test = essay_dataset_test.sample(frac = 0.1)\n",
    "\n",
    "# essay_dataset_test = get_df_with_128_length_sequences(essay_dataset_test)"
   ]
  },
  {
   "cell_type": "code",
   "execution_count": 11,
   "id": "e48cf653",
   "metadata": {
    "execution": {
     "iopub.execute_input": "2024-01-12T13:29:26.870270Z",
     "iopub.status.busy": "2024-01-12T13:29:26.869877Z",
     "iopub.status.idle": "2024-01-12T13:29:26.877452Z",
     "shell.execute_reply": "2024-01-12T13:29:26.876635Z"
    },
    "papermill": {
     "duration": 0.026576,
     "end_time": "2024-01-12T13:29:26.879396",
     "exception": false,
     "start_time": "2024-01-12T13:29:26.852820",
     "status": "completed"
    },
    "tags": []
   },
   "outputs": [],
   "source": [
    "# essay_test, label_test = essay_dataset_test.iloc[:,5], essay_dataset_test.iloc[:,1]\n",
    "\n",
    "from tensorflow.keras.optimizers.schedules import PolynomialDecay\n",
    "from tensorflow.keras.optimizers import Adam\n",
    "\n",
    "def get_optimizer(batch_no, lr_rate):\n",
    "    # The number of training steps is the number of samples in the dataset, divided by the batch size then multiplied\n",
    "    # by the total number of epochs. Note that the tf_train_dataset here is a batched tf.data.Dataset,\n",
    "    # not the original Hugging Face Dataset, so its len() is already num_samples // batch_size.\n",
    "    num_train_steps = len(essay_batch)//batch_batch_size * num_epochs\n",
    "    lr_scheduler = PolynomialDecay(\n",
    "        initial_learning_rate=lr_rate*pow(2,-batch_no-1), end_learning_rate=lr_rate*pow(2,-batch_no-2), decay_steps=num_train_steps\n",
    "    )\n",
    "    \n",
    "    opt = Adam(learning_rate=lr_scheduler)\n",
    "    return opt"
   ]
  },
  {
   "cell_type": "code",
   "execution_count": 12,
   "id": "6735aab0",
   "metadata": {
    "execution": {
     "iopub.execute_input": "2024-01-12T13:29:26.912382Z",
     "iopub.status.busy": "2024-01-12T13:29:26.912103Z",
     "iopub.status.idle": "2024-01-12T13:50:33.504812Z",
     "shell.execute_reply": "2024-01-12T13:50:33.503935Z"
    },
    "papermill": {
     "duration": 1266.90303,
     "end_time": "2024-01-12T13:50:33.798294",
     "exception": false,
     "start_time": "2024-01-12T13:29:26.895264",
     "status": "completed"
    },
    "tags": []
   },
   "outputs": [
    {
     "name": "stderr",
     "output_type": "stream",
     "text": [
      "/opt/conda/lib/python3.10/site-packages/numpy/core/fromnumeric.py:57: FutureWarning: 'Series.swapaxes' is deprecated and will be removed in a future version. Please use 'Series.transpose' instead.\n",
      "  return bound(*args, **kwds)\n",
      "  0%|          | 0/4 [00:00<?, ?it/s]"
     ]
    },
    {
     "name": "stdout",
     "output_type": "stream",
     "text": [
      "Epoch 1/5\n",
      "282/282 [==============================] - 115s 369ms/step - loss: 0.1937 - accuracy: 0.9352 - auc: 0.9206 - val_loss: 0.0771 - val_accuracy: 0.9775 - val_auc: 0.9822\n",
      "Epoch 2/5\n",
      "282/282 [==============================] - 104s 369ms/step - loss: 0.0619 - accuracy: 0.9814 - auc: 0.9875 - val_loss: 0.0564 - val_accuracy: 0.9846 - val_auc: 0.9910\n",
      "Epoch 3/5\n",
      "282/282 [==============================] - 103s 366ms/step - loss: 0.0428 - accuracy: 0.9872 - auc: 0.9935 - val_loss: 0.0523 - val_accuracy: 0.9831 - val_auc: 0.9903\n"
     ]
    },
    {
     "name": "stderr",
     "output_type": "stream",
     "text": [
      " 25%|██▌       | 1/4 [05:22<16:07, 322.52s/it]"
     ]
    },
    {
     "name": "stdout",
     "output_type": "stream",
     "text": [
      "Epoch 1/5\n",
      "282/282 [==============================] - 108s 368ms/step - loss: 0.0431 - accuracy: 0.9874 - auc: 0.9932 - val_loss: 0.0548 - val_accuracy: 0.9824 - val_auc: 0.9884\n",
      "Epoch 2/5\n",
      "282/282 [==============================] - 103s 367ms/step - loss: 0.0374 - accuracy: 0.9880 - auc: 0.9949 - val_loss: 0.0550 - val_accuracy: 0.9819 - val_auc: 0.9895\n",
      "Epoch 3/5\n",
      "282/282 [==============================] - 103s 366ms/step - loss: 0.0332 - accuracy: 0.9899 - auc: 0.9965 - val_loss: 0.0490 - val_accuracy: 0.9847 - val_auc: 0.9876\n"
     ]
    },
    {
     "name": "stderr",
     "output_type": "stream",
     "text": [
      " 50%|█████     | 2/4 [10:37<10:36, 318.05s/it]"
     ]
    },
    {
     "name": "stdout",
     "output_type": "stream",
     "text": [
      "Epoch 1/5\n",
      "282/282 [==============================] - 108s 369ms/step - loss: 0.0382 - accuracy: 0.9870 - auc: 0.9954 - val_loss: 0.0401 - val_accuracy: 0.9862 - val_auc: 0.9944\n",
      "Epoch 2/5\n",
      "282/282 [==============================] - 104s 368ms/step - loss: 0.0358 - accuracy: 0.9881 - auc: 0.9958 - val_loss: 0.0391 - val_accuracy: 0.9865 - val_auc: 0.9945\n",
      "Epoch 3/5\n",
      "282/282 [==============================] - 103s 366ms/step - loss: 0.0336 - accuracy: 0.9886 - auc: 0.9970 - val_loss: 0.0384 - val_accuracy: 0.9868 - val_auc: 0.9947\n"
     ]
    },
    {
     "name": "stderr",
     "output_type": "stream",
     "text": [
      " 75%|███████▌  | 3/4 [15:52<05:16, 316.48s/it]"
     ]
    },
    {
     "name": "stdout",
     "output_type": "stream",
     "text": [
      "Epoch 1/5\n",
      "282/282 [==============================] - 108s 368ms/step - loss: 0.0376 - accuracy: 0.9878 - auc: 0.9945 - val_loss: 0.0445 - val_accuracy: 0.9846 - val_auc: 0.9924\n",
      "Epoch 2/5\n",
      "282/282 [==============================] - 104s 368ms/step - loss: 0.0367 - accuracy: 0.9891 - auc: 0.9950 - val_loss: 0.0440 - val_accuracy: 0.9852 - val_auc: 0.9919\n",
      "Epoch 3/5\n",
      "282/282 [==============================] - 103s 366ms/step - loss: 0.0353 - accuracy: 0.9884 - auc: 0.9953 - val_loss: 0.0435 - val_accuracy: 0.9853 - val_auc: 0.9925\n"
     ]
    },
    {
     "name": "stderr",
     "output_type": "stream",
     "text": [
      "100%|██████████| 4/4 [21:06<00:00, 316.64s/it]"
     ]
    },
    {
     "name": "stdout",
     "output_type": "stream",
     "text": [
      "CPU times: user 19min 47s, sys: 1min 45s, total: 21min 32s\n",
      "Wall time: 21min 6s\n"
     ]
    },
    {
     "name": "stderr",
     "output_type": "stream",
     "text": [
      "\n"
     ]
    }
   ],
   "source": [
    "%%time\n",
    "batch_size = 15000\n",
    "num_batches = len(essay_dataset_raw)//batch_size\n",
    "\n",
    "batch_batch_size = 32\n",
    "num_epochs = 5\n",
    "learning_rate = 5e-5\n",
    "\n",
    "essay_dataset_raw_batches = np.array_split(essay_dataset_raw.iloc[:,1], num_batches)\n",
    "essay_label_batches = np.array_split(essay_dataset_raw.iloc[:,0], num_batches)\n",
    "\n",
    "test_evaluation_results = []\n",
    "\n",
    "for batch_no in tqdm(range(num_batches)):\n",
    "    \n",
    "    #Train:CV:Test :: i:j:k \n",
    "    i, j = 40, 30\n",
    "    essay_batch = essay_dataset_raw_batches[batch_no]\n",
    "    label_batch = essay_label_batches[batch_no]\n",
    "\n",
    "    fraction_size = len(essay_batch)//(i+j)\n",
    "    essay_train, essay_CV = tf.split(essay_batch, [fraction_size*i, len(essay_batch)-fraction_size*i], 0)\n",
    "    label_train, label_CV = tf.split(label_batch, [fraction_size*i, len(label_batch)-fraction_size*i], 0)\n",
    "    \n",
    "    model.compile(\n",
    "    loss = 'binary_crossentropy',\n",
    "    optimizer = get_optimizer(batch_no, learning_rate),\n",
    "    metrics = ['accuracy', 'AUC'])\n",
    "    \n",
    "    h = model.fit(essay_train, label_train,\n",
    "                    validation_data = (essay_CV, label_CV),\n",
    "                    batch_size = batch_batch_size,\n",
    "                    epochs = num_epochs,\n",
    "                    callbacks = [tf.keras.callbacks.EarlyStopping(monitor = 'val_auc', patience = 0, mode = 'max', \n",
    "                                 restore_best_weights = True, min_delta = 0.005, start_from_epoch = 1)])\n",
    "    \n",
    "    learning_rate = learning_rate*0.95\n",
    "    \n",
    "#     print('Evaluation of model after: ',batch_no)\n",
    "#     _ = model.evaluate(essay_test, label_test)\n",
    "#     test_evaluation_results.append(_)\n",
    "#     print('\\n\\n')\n",
    "    \n",
    "\n",
    "# h = model.fit(\n",
    "#    encoded_essay_train, label_train,\n",
    "#    validation_data = (encoded_essay_CV, label_CV),\n",
    "#    epochs = 20,\n",
    "#     callbacks = [\n",
    "#       tf.keras.callbacks.EarlyStopping(monitor = 'val_auc', patience = 1, mode = 'max', \n",
    "#                                       restore_best_weights = True, min_delta = 0.0, start_from_epoch = 2)\n",
    "#    ]\n",
    "# )"
   ]
  },
  {
   "cell_type": "code",
   "execution_count": 13,
   "id": "82bb7bb7",
   "metadata": {
    "execution": {
     "iopub.execute_input": "2024-01-12T13:50:34.384107Z",
     "iopub.status.busy": "2024-01-12T13:50:34.383328Z",
     "iopub.status.idle": "2024-01-12T13:50:34.387853Z",
     "shell.execute_reply": "2024-01-12T13:50:34.386921Z"
    },
    "papermill": {
     "duration": 0.299118,
     "end_time": "2024-01-12T13:50:34.389910",
     "exception": false,
     "start_time": "2024-01-12T13:50:34.090792",
     "status": "completed"
    },
    "tags": []
   },
   "outputs": [],
   "source": [
    "# test_data = pd.read_csv('/kaggle/input/daigt-proper-train-dataset/train_drcat_04.csv')\n",
    "# #test_data.drop(columns = 'generated', inplace = True)"
   ]
  },
  {
   "cell_type": "code",
   "execution_count": 14,
   "id": "0846490a",
   "metadata": {
    "execution": {
     "iopub.execute_input": "2024-01-12T13:50:35.032120Z",
     "iopub.status.busy": "2024-01-12T13:50:35.031347Z",
     "iopub.status.idle": "2024-01-12T13:50:35.035593Z",
     "shell.execute_reply": "2024-01-12T13:50:35.034647Z"
    },
    "papermill": {
     "duration": 0.354182,
     "end_time": "2024-01-12T13:50:35.037575",
     "exception": false,
     "start_time": "2024-01-12T13:50:34.683393",
     "status": "completed"
    },
    "tags": []
   },
   "outputs": [],
   "source": [
    "# test_data.head()\n",
    "# print(test_data.shape)\n",
    "\n",
    "# test_data_subset = test_data.sample(frac = 0.02)\n",
    "# print(test_data_subset.shape)\n",
    "# test_data_subset.head()"
   ]
  },
  {
   "cell_type": "code",
   "execution_count": 15,
   "id": "d2f784fc",
   "metadata": {
    "execution": {
     "iopub.execute_input": "2024-01-12T13:50:35.621408Z",
     "iopub.status.busy": "2024-01-12T13:50:35.621036Z",
     "iopub.status.idle": "2024-01-12T13:50:35.625482Z",
     "shell.execute_reply": "2024-01-12T13:50:35.624569Z"
    },
    "papermill": {
     "duration": 0.302402,
     "end_time": "2024-01-12T13:50:35.627545",
     "exception": false,
     "start_time": "2024-01-12T13:50:35.325143",
     "status": "completed"
    },
    "tags": []
   },
   "outputs": [],
   "source": [
    "# model.evaluate(test_data_subset['text'],test_data_subset['label'])\n",
    "\n",
    "# #[0.2413991540670395, 0.9253393411636353, 0.9713884592056274] with lr schedule 01\n",
    "# #[0.14819669723510742, 0.935520350933075, 0.9877243041992188] with lr schedule 02\n",
    "# #[0.21204924583435059, 0.9151583909988403, 0.9826033115386963] with lr schedule 03"
   ]
  },
  {
   "cell_type": "code",
   "execution_count": 16,
   "id": "00429df8",
   "metadata": {
    "execution": {
     "iopub.execute_input": "2024-01-12T13:50:36.236817Z",
     "iopub.status.busy": "2024-01-12T13:50:36.236436Z",
     "iopub.status.idle": "2024-01-12T13:50:45.325852Z",
     "shell.execute_reply": "2024-01-12T13:50:45.324789Z"
    },
    "papermill": {
     "duration": 9.380789,
     "end_time": "2024-01-12T13:50:45.328331",
     "exception": false,
     "start_time": "2024-01-12T13:50:35.947542",
     "status": "completed"
    },
    "tags": []
   },
   "outputs": [],
   "source": [
    "#model.export('ai_text_det_kaggle.pkl')\n",
    "#tf.saved_model.save(model, 'ai_text_det_kaggle_saved_model_02.pkl')\n",
    "model.save('ai_text_det_kaggle_saved_model_03.keras')"
   ]
  },
  {
   "cell_type": "code",
   "execution_count": 17,
   "id": "f46ae7de",
   "metadata": {
    "execution": {
     "iopub.execute_input": "2024-01-12T13:50:45.928318Z",
     "iopub.status.busy": "2024-01-12T13:50:45.927439Z",
     "iopub.status.idle": "2024-01-12T13:50:45.942168Z",
     "shell.execute_reply": "2024-01-12T13:50:45.941300Z"
    },
    "papermill": {
     "duration": 0.323768,
     "end_time": "2024-01-12T13:50:45.944368",
     "exception": false,
     "start_time": "2024-01-12T13:50:45.620600",
     "status": "completed"
    },
    "tags": []
   },
   "outputs": [],
   "source": [
    "test_data = pd.read_csv('/kaggle/input/llm-detect-ai-generated-text/test_essays.csv')"
   ]
  },
  {
   "cell_type": "code",
   "execution_count": 18,
   "id": "b3ce11a1",
   "metadata": {
    "execution": {
     "iopub.execute_input": "2024-01-12T13:50:46.528120Z",
     "iopub.status.busy": "2024-01-12T13:50:46.527503Z",
     "iopub.status.idle": "2024-01-12T13:50:46.538250Z",
     "shell.execute_reply": "2024-01-12T13:50:46.537255Z"
    },
    "papermill": {
     "duration": 0.3063,
     "end_time": "2024-01-12T13:50:46.540599",
     "exception": false,
     "start_time": "2024-01-12T13:50:46.234299",
     "status": "completed"
    },
    "tags": []
   },
   "outputs": [],
   "source": [
    "# Apply the function to the 'text' column\n",
    "test_data['text_sequences'] = test_data['text'].apply(split_text_into_sequences)\n",
    "\n",
    "# Explode the sequences to create rows for each sequence\n",
    "df_exploded = test_data.explode('text_sequences')\n",
    "\n",
    "# Drop the original 'text' column\n",
    "df_exploded = df_exploded.drop('text', axis=1)\n",
    "\n",
    "#Resetting test_data\n",
    "test_data = df_exploded.copy()\n",
    "del df_exploded\n",
    "\n"
   ]
  },
  {
   "cell_type": "code",
   "execution_count": 19,
   "id": "522d3eb0",
   "metadata": {
    "execution": {
     "iopub.execute_input": "2024-01-12T13:50:47.130692Z",
     "iopub.status.busy": "2024-01-12T13:50:47.129701Z",
     "iopub.status.idle": "2024-01-12T13:50:48.005261Z",
     "shell.execute_reply": "2024-01-12T13:50:48.004349Z"
    },
    "papermill": {
     "duration": 1.165671,
     "end_time": "2024-01-12T13:50:48.007155",
     "exception": false,
     "start_time": "2024-01-12T13:50:46.841484",
     "status": "completed"
    },
    "tags": []
   },
   "outputs": [
    {
     "name": "stdout",
     "output_type": "stream",
     "text": [
      "1/1 [==============================] - 1s 820ms/step\n",
      "CPU times: user 864 ms, sys: 12.3 ms, total: 877 ms\n",
      "Wall time: 868 ms\n"
     ]
    }
   ],
   "source": [
    "%%time\n",
    "# encoded_test_data = encoder_model(train_essays_01_source.iloc[:10000, 0])\n",
    "# test_set_predictions = model.predict(encoded_test_data)\n",
    "\n",
    "\n",
    "if len(test_data)<100:\n",
    "    test_set_predictions = model.predict(test_data.iloc[:, 2])\n",
    "\n",
    "else:\n",
    "    batch_size = 100\n",
    "    num_batches = len(test_data)//batch_size\n",
    "\n",
    "    test_data_batches = np.array_split(test_data, num_batches)\n",
    "    test_set_predictions_batch_list = []\n",
    "\n",
    "    for batch in tqdm(test_data_batches):\n",
    "        test_set_predictions_batch = model.predict(batch.iloc[:, 2])\n",
    "        test_set_predictions_batch_list.append(test_set_predictions_batch)\n",
    "\n",
    "    test_set_predictions = np.concatenate(test_set_predictions_batch_list, axis = 0)"
   ]
  },
  {
   "cell_type": "code",
   "execution_count": 20,
   "id": "c9ac76db",
   "metadata": {
    "execution": {
     "iopub.execute_input": "2024-01-12T13:50:48.635719Z",
     "iopub.status.busy": "2024-01-12T13:50:48.635329Z",
     "iopub.status.idle": "2024-01-12T13:50:48.652891Z",
     "shell.execute_reply": "2024-01-12T13:50:48.652048Z"
    },
    "papermill": {
     "duration": 0.306653,
     "end_time": "2024-01-12T13:50:48.654829",
     "exception": false,
     "start_time": "2024-01-12T13:50:48.348176",
     "status": "completed"
    },
    "tags": []
   },
   "outputs": [],
   "source": [
    "test_data['prediction'] = test_set_predictions.flatten()\n",
    "\n",
    "test_data_agg = test_data.groupby(['id','prompt_id']).aggregate({'prediction':'mean'})\n",
    "\n",
    "test_data_agg.reset_index(inplace = True)\n",
    "\n",
    "test_data_agg.rename(columns = {'prediction':'genarated'}, inplace = True)"
   ]
  },
  {
   "cell_type": "code",
   "execution_count": 21,
   "id": "a5362d16",
   "metadata": {
    "execution": {
     "iopub.execute_input": "2024-01-12T13:50:49.240770Z",
     "iopub.status.busy": "2024-01-12T13:50:49.240368Z",
     "iopub.status.idle": "2024-01-12T13:50:49.250404Z",
     "shell.execute_reply": "2024-01-12T13:50:49.249485Z"
    },
    "papermill": {
     "duration": 0.30392,
     "end_time": "2024-01-12T13:50:49.252383",
     "exception": false,
     "start_time": "2024-01-12T13:50:48.948463",
     "status": "completed"
    },
    "tags": []
   },
   "outputs": [],
   "source": [
    "test_data_agg['genarated'] = np.round(test_data_agg['genarated'], decimals = 4)\n",
    "submission = test_data_agg[['id', 'genarated']]\n",
    "submission.to_csv('/kaggle/working/submission.csv', index = False, header = submission.columns.tolist())"
   ]
  },
  {
   "cell_type": "markdown",
   "id": "14102458",
   "metadata": {
    "papermill": {
     "duration": 0.291171,
     "end_time": "2024-01-12T13:50:49.837899",
     "exception": false,
     "start_time": "2024-01-12T13:50:49.546728",
     "status": "completed"
    },
    "tags": []
   },
   "source": [
    "# EDA"
   ]
  },
  {
   "cell_type": "code",
   "execution_count": 22,
   "id": "62e3218d",
   "metadata": {
    "execution": {
     "iopub.execute_input": "2024-01-12T13:50:50.421461Z",
     "iopub.status.busy": "2024-01-12T13:50:50.420676Z",
     "iopub.status.idle": "2024-01-12T13:50:50.425392Z",
     "shell.execute_reply": "2024-01-12T13:50:50.424478Z"
    },
    "papermill": {
     "duration": 0.301005,
     "end_time": "2024-01-12T13:50:50.427363",
     "exception": false,
     "start_time": "2024-01-12T13:50:50.126358",
     "status": "completed"
    },
    "tags": []
   },
   "outputs": [],
   "source": [
    "# import matplotlib.pyplot as plt\n",
    "# import numpy\n",
    "# from sklearn import metrics\n",
    "\n",
    "# def plot_confusion_matrix(label_test, test_set_predictions, threashold = 0.5):\n",
    "    \n",
    "#     if not test_set_pred_labels:\n",
    "#         test_set_pred_labels = [prob >= threashold for prob in test_set_predictions.flatten()]\n",
    "\n",
    "#     confusion_matrix = metrics.confusion_matrix(label_test, test_set_pred_labels)\n",
    "\n",
    "#     cm_display = metrics.ConfusionMatrixDisplay(confusion_matrix = confusion_matrix, display_labels = [False, True])\n",
    "\n",
    "#     cm_display.plot()\n",
    "#     plt.show()"
   ]
  },
  {
   "cell_type": "code",
   "execution_count": 23,
   "id": "fa07e51f",
   "metadata": {
    "execution": {
     "iopub.execute_input": "2024-01-12T13:50:51.072421Z",
     "iopub.status.busy": "2024-01-12T13:50:51.072043Z",
     "iopub.status.idle": "2024-01-12T13:50:51.076279Z",
     "shell.execute_reply": "2024-01-12T13:50:51.075263Z"
    },
    "papermill": {
     "duration": 0.298387,
     "end_time": "2024-01-12T13:50:51.078176",
     "exception": false,
     "start_time": "2024-01-12T13:50:50.779789",
     "status": "completed"
    },
    "tags": []
   },
   "outputs": [],
   "source": [
    "# plot_confusion_matrix(label_test, test_set_predictions, 0.5)"
   ]
  },
  {
   "cell_type": "code",
   "execution_count": 24,
   "id": "2db0f2d3",
   "metadata": {
    "execution": {
     "iopub.execute_input": "2024-01-12T13:50:51.656817Z",
     "iopub.status.busy": "2024-01-12T13:50:51.656040Z",
     "iopub.status.idle": "2024-01-12T13:50:51.661045Z",
     "shell.execute_reply": "2024-01-12T13:50:51.660024Z"
    },
    "papermill": {
     "duration": 0.298018,
     "end_time": "2024-01-12T13:50:51.663097",
     "exception": false,
     "start_time": "2024-01-12T13:50:51.365079",
     "status": "completed"
    },
    "tags": []
   },
   "outputs": [],
   "source": [
    "# import numpy as np\n",
    "# from sklearn.metrics import accuracy_score, confusion_matrix, roc_auc_score, roc_curve\n",
    "# import matplotlib.pyplot as plt\n",
    "# import plotly.graph_objects as go\n",
    "# from sklearn.metrics import roc_curve\n",
    "\n",
    "# def plot_roc_curve(true_y, y_prob):\n",
    "#     \"\"\"\n",
    "#     Plots an interactive ROC curve based on the probabilities and displays thresholds on hover.\n",
    "#     \"\"\"\n",
    "    \n",
    "#     fpr, tpr, thresholds = roc_curve(true_y, y_prob, drop_intermediate=False)\n",
    "\n",
    "#     fig = go.Figure()\n",
    "\n",
    "#     fig.add_trace(go.Scatter(x=fpr, y=tpr, mode='lines', name='ROC Curve', hovertext=[f'Threshold: {threshold:.2f}' for threshold in thresholds]))\n",
    "\n",
    "#     fig.update_layout(\n",
    "#         title='ROC Curve',\n",
    "#         xaxis=dict(title='False Positive Rate'),\n",
    "#         yaxis=dict(title='True Positive Rate'),\n",
    "#         hovermode='closest'\n",
    "#     )\n",
    "\n",
    "#     fig.show()"
   ]
  },
  {
   "cell_type": "code",
   "execution_count": 25,
   "id": "56e81ef1",
   "metadata": {
    "execution": {
     "iopub.execute_input": "2024-01-12T13:50:52.247489Z",
     "iopub.status.busy": "2024-01-12T13:50:52.246597Z",
     "iopub.status.idle": "2024-01-12T13:50:52.250874Z",
     "shell.execute_reply": "2024-01-12T13:50:52.249910Z"
    },
    "papermill": {
     "duration": 0.297718,
     "end_time": "2024-01-12T13:50:52.252825",
     "exception": false,
     "start_time": "2024-01-12T13:50:51.955107",
     "status": "completed"
    },
    "tags": []
   },
   "outputs": [],
   "source": [
    "# plot_roc_curve(label_test, test_set_predictions.flatten())\n",
    "#print('ROC AUC Score: ',roc_auc_score(label_test, test_set_predictions.flatten()))"
   ]
  },
  {
   "cell_type": "markdown",
   "id": "7b021a41",
   "metadata": {
    "papermill": {
     "duration": 0.291205,
     "end_time": "2024-01-12T13:50:52.835773",
     "exception": false,
     "start_time": "2024-01-12T13:50:52.544568",
     "status": "completed"
    },
    "tags": []
   },
   "source": [
    "# TEST Data Predctions, a different approach!"
   ]
  },
  {
   "cell_type": "code",
   "execution_count": 26,
   "id": "72513f84",
   "metadata": {
    "execution": {
     "iopub.execute_input": "2024-01-12T13:50:53.467479Z",
     "iopub.status.busy": "2024-01-12T13:50:53.467110Z",
     "iopub.status.idle": "2024-01-12T13:50:53.471355Z",
     "shell.execute_reply": "2024-01-12T13:50:53.470365Z"
    },
    "papermill": {
     "duration": 0.348267,
     "end_time": "2024-01-12T13:50:53.473216",
     "exception": false,
     "start_time": "2024-01-12T13:50:53.124949",
     "status": "completed"
    },
    "tags": []
   },
   "outputs": [],
   "source": [
    "# test_data.info()"
   ]
  },
  {
   "cell_type": "code",
   "execution_count": 27,
   "id": "bcd918f9",
   "metadata": {
    "execution": {
     "iopub.execute_input": "2024-01-12T13:50:54.049132Z",
     "iopub.status.busy": "2024-01-12T13:50:54.048183Z",
     "iopub.status.idle": "2024-01-12T13:50:54.052776Z",
     "shell.execute_reply": "2024-01-12T13:50:54.051917Z"
    },
    "papermill": {
     "duration": 0.294622,
     "end_time": "2024-01-12T13:50:54.054756",
     "exception": false,
     "start_time": "2024-01-12T13:50:53.760134",
     "status": "completed"
    },
    "tags": []
   },
   "outputs": [],
   "source": [
    "# test_data = pd.read_csv('/kaggle/input/daigt-proper-train-dataset/train_drcat_04.csv')\n",
    "# #test_data.drop(columns = 'generated', inplace = True)"
   ]
  },
  {
   "cell_type": "code",
   "execution_count": 28,
   "id": "c14883e3",
   "metadata": {
    "execution": {
     "iopub.execute_input": "2024-01-12T13:50:54.676522Z",
     "iopub.status.busy": "2024-01-12T13:50:54.676136Z",
     "iopub.status.idle": "2024-01-12T13:50:54.680513Z",
     "shell.execute_reply": "2024-01-12T13:50:54.679474Z"
    },
    "papermill": {
     "duration": 0.315239,
     "end_time": "2024-01-12T13:50:54.682499",
     "exception": false,
     "start_time": "2024-01-12T13:50:54.367260",
     "status": "completed"
    },
    "tags": []
   },
   "outputs": [],
   "source": [
    "# test_data_label = test_data[['essay_id','text']].copy()\n",
    "# test_data.drop(columns = ['source', 'prompt','fold'], inplace = True)\n",
    "# test_data.rename(columns = {'essay_id':'id'}, inplace = True)\n",
    "# test_data['prompt_id'] = test_data['id']"
   ]
  },
  {
   "cell_type": "code",
   "execution_count": 29,
   "id": "147fc289",
   "metadata": {
    "execution": {
     "iopub.execute_input": "2024-01-12T13:50:55.263481Z",
     "iopub.status.busy": "2024-01-12T13:50:55.263094Z",
     "iopub.status.idle": "2024-01-12T13:50:55.267208Z",
     "shell.execute_reply": "2024-01-12T13:50:55.266323Z"
    },
    "papermill": {
     "duration": 0.296057,
     "end_time": "2024-01-12T13:50:55.269211",
     "exception": false,
     "start_time": "2024-01-12T13:50:54.973154",
     "status": "completed"
    },
    "tags": []
   },
   "outputs": [],
   "source": [
    "# len(test_data.iloc[6,1].split())\n",
    "# #test_data.iloc[6,1]"
   ]
  },
  {
   "cell_type": "code",
   "execution_count": 30,
   "id": "c80522bb",
   "metadata": {
    "execution": {
     "iopub.execute_input": "2024-01-12T13:50:55.861739Z",
     "iopub.status.busy": "2024-01-12T13:50:55.861359Z",
     "iopub.status.idle": "2024-01-12T13:50:55.865509Z",
     "shell.execute_reply": "2024-01-12T13:50:55.864675Z"
    },
    "papermill": {
     "duration": 0.307843,
     "end_time": "2024-01-12T13:50:55.867315",
     "exception": false,
     "start_time": "2024-01-12T13:50:55.559472",
     "status": "completed"
    },
    "tags": []
   },
   "outputs": [],
   "source": [
    "# test_data.info()\n",
    "# test_data = test_data.sample(frac = 0.25)"
   ]
  },
  {
   "cell_type": "code",
   "execution_count": 31,
   "id": "a8060e1b",
   "metadata": {
    "execution": {
     "iopub.execute_input": "2024-01-12T13:50:56.505439Z",
     "iopub.status.busy": "2024-01-12T13:50:56.505047Z",
     "iopub.status.idle": "2024-01-12T13:50:56.509281Z",
     "shell.execute_reply": "2024-01-12T13:50:56.508387Z"
    },
    "papermill": {
     "duration": 0.355725,
     "end_time": "2024-01-12T13:50:56.511361",
     "exception": false,
     "start_time": "2024-01-12T13:50:56.155636",
     "status": "completed"
    },
    "tags": []
   },
   "outputs": [],
   "source": [
    "# test_data.info()"
   ]
  },
  {
   "cell_type": "code",
   "execution_count": 32,
   "id": "8b441166",
   "metadata": {
    "execution": {
     "iopub.execute_input": "2024-01-12T13:50:57.093678Z",
     "iopub.status.busy": "2024-01-12T13:50:57.092689Z",
     "iopub.status.idle": "2024-01-12T13:50:57.097841Z",
     "shell.execute_reply": "2024-01-12T13:50:57.096980Z"
    },
    "papermill": {
     "duration": 0.298785,
     "end_time": "2024-01-12T13:50:57.099716",
     "exception": false,
     "start_time": "2024-01-12T13:50:56.800931",
     "status": "completed"
    },
    "tags": []
   },
   "outputs": [],
   "source": [
    "# from nltk.tokenize import word_tokenize\n",
    "# from nltk import sent_tokenize\n",
    "\n",
    "\n",
    "# # Function to split text into sequences of 128 words\n",
    "# def split_text_into_sequences(text):\n",
    "#     words = word_tokenize(text)\n",
    "#     sequences = [words[i:i + 128] for i in range(0, len(words), 128)]\n",
    "#     return [' '.join(seq) for seq in sequences]\n",
    "\n",
    "\n",
    "# # Apply the function to the 'text' column\n",
    "# test_data['text_sequences'] = test_data['text'].apply(split_text_into_sequences)\n",
    "\n",
    "# # Explode the sequences to create rows for each sequence\n",
    "# df_exploded = test_data.explode('text_sequences')\n",
    "\n",
    "# # Drop the original 'text' column\n",
    "# df_exploded = df_exploded.drop('text', axis=1)\n",
    "\n",
    "# #Resetting test_data\n",
    "# test_data = df_exploded.copy()\n",
    "# del df_exploded\n",
    "\n",
    "\n",
    "\n"
   ]
  },
  {
   "cell_type": "code",
   "execution_count": 33,
   "id": "fea42854",
   "metadata": {
    "execution": {
     "iopub.execute_input": "2024-01-12T13:50:57.677470Z",
     "iopub.status.busy": "2024-01-12T13:50:57.677087Z",
     "iopub.status.idle": "2024-01-12T13:50:57.681500Z",
     "shell.execute_reply": "2024-01-12T13:50:57.680451Z"
    },
    "papermill": {
     "duration": 0.297475,
     "end_time": "2024-01-12T13:50:57.683405",
     "exception": false,
     "start_time": "2024-01-12T13:50:57.385930",
     "status": "completed"
    },
    "tags": []
   },
   "outputs": [],
   "source": [
    "# test_data = test_data.sample(frac = 8, replace = True)"
   ]
  },
  {
   "cell_type": "code",
   "execution_count": 34,
   "id": "1802d901",
   "metadata": {
    "execution": {
     "iopub.execute_input": "2024-01-12T13:50:58.266339Z",
     "iopub.status.busy": "2024-01-12T13:50:58.265944Z",
     "iopub.status.idle": "2024-01-12T13:50:58.270614Z",
     "shell.execute_reply": "2024-01-12T13:50:58.269625Z"
    },
    "papermill": {
     "duration": 0.297324,
     "end_time": "2024-01-12T13:50:58.272621",
     "exception": false,
     "start_time": "2024-01-12T13:50:57.975297",
     "status": "completed"
    },
    "tags": []
   },
   "outputs": [],
   "source": [
    "# %%time\n",
    "# tqdm\n",
    "# # Apply the function to the 'text' column\n",
    "# test_data['text_sequences'] = test_data['text'].apply(split_text_into_sequences)\n",
    "\n",
    "# # Explode the sequences to create rows for each sequence\n",
    "# df_exploded = test_data.explode('text_sequences')\n",
    "\n",
    "# # Drop the original 'text' column\n",
    "# df_exploded = df_exploded.drop('text', axis=1)\n",
    "\n",
    "# # Display the resulting dataframe\n",
    "# print(df_exploded)"
   ]
  },
  {
   "cell_type": "code",
   "execution_count": 35,
   "id": "650171f8",
   "metadata": {
    "execution": {
     "iopub.execute_input": "2024-01-12T13:50:58.856118Z",
     "iopub.status.busy": "2024-01-12T13:50:58.855394Z",
     "iopub.status.idle": "2024-01-12T13:50:58.859836Z",
     "shell.execute_reply": "2024-01-12T13:50:58.858880Z"
    },
    "papermill": {
     "duration": 0.297698,
     "end_time": "2024-01-12T13:50:58.862071",
     "exception": false,
     "start_time": "2024-01-12T13:50:58.564373",
     "status": "completed"
    },
    "tags": []
   },
   "outputs": [],
   "source": [
    "# test_data = df_exploded"
   ]
  },
  {
   "cell_type": "code",
   "execution_count": 36,
   "id": "f233ccb1",
   "metadata": {
    "execution": {
     "iopub.execute_input": "2024-01-12T13:50:59.510005Z",
     "iopub.status.busy": "2024-01-12T13:50:59.509125Z",
     "iopub.status.idle": "2024-01-12T13:50:59.514165Z",
     "shell.execute_reply": "2024-01-12T13:50:59.513272Z"
    },
    "papermill": {
     "duration": 0.300494,
     "end_time": "2024-01-12T13:50:59.516201",
     "exception": false,
     "start_time": "2024-01-12T13:50:59.215707",
     "status": "completed"
    },
    "tags": []
   },
   "outputs": [],
   "source": [
    "# %%time\n",
    "# # encoded_test_data = encoder_model(train_essays_01_source.iloc[:10000, 0])\n",
    "# # test_set_predictions = model.predict(encoded_test_data)\n",
    "\n",
    "\n",
    "# if len(test_data)<100:\n",
    "#     encoded_test_data = encoder_model(test_data.iloc[:, 3])\n",
    "#     test_set_predictions = model.predict(encoded_test_data)\n",
    "\n",
    "# else:\n",
    "#     batch_size = 100\n",
    "#     num_batches = len(test_data)//batch_size\n",
    "\n",
    "#     test_data_batches = np.array_split(test_data, num_batches)\n",
    "#     test_set_predictions_batch_list = []\n",
    "\n",
    "#     for batch in test_data_batches:\n",
    "#         encoded_test_data_batch = encoder_model(batch.iloc[:, 3])\n",
    "#         test_set_predictions_batch = model.predict(encoded_test_data_batch)\n",
    "#         test_set_predictions_batch_list.append(test_set_predictions_batch)\n",
    "\n",
    "#     test_set_predictions = np.concatenate(test_set_predictions_batch_list, axis = 0)"
   ]
  },
  {
   "cell_type": "code",
   "execution_count": 37,
   "id": "4ec56494",
   "metadata": {
    "execution": {
     "iopub.execute_input": "2024-01-12T13:51:00.095711Z",
     "iopub.status.busy": "2024-01-12T13:51:00.095325Z",
     "iopub.status.idle": "2024-01-12T13:51:00.099558Z",
     "shell.execute_reply": "2024-01-12T13:51:00.098638Z"
    },
    "papermill": {
     "duration": 0.297736,
     "end_time": "2024-01-12T13:51:00.101534",
     "exception": false,
     "start_time": "2024-01-12T13:50:59.803798",
     "status": "completed"
    },
    "tags": []
   },
   "outputs": [],
   "source": [
    "# batch.iloc[:, 3]"
   ]
  },
  {
   "cell_type": "code",
   "execution_count": 38,
   "id": "7f35b54d",
   "metadata": {
    "execution": {
     "iopub.execute_input": "2024-01-12T13:51:00.677148Z",
     "iopub.status.busy": "2024-01-12T13:51:00.676766Z",
     "iopub.status.idle": "2024-01-12T13:51:00.680939Z",
     "shell.execute_reply": "2024-01-12T13:51:00.679981Z"
    },
    "papermill": {
     "duration": 0.294497,
     "end_time": "2024-01-12T13:51:00.682821",
     "exception": false,
     "start_time": "2024-01-12T13:51:00.388324",
     "status": "completed"
    },
    "tags": []
   },
   "outputs": [],
   "source": [
    "# test_set_predictions.flatten()"
   ]
  },
  {
   "cell_type": "code",
   "execution_count": 39,
   "id": "60b8dcef",
   "metadata": {
    "execution": {
     "iopub.execute_input": "2024-01-12T13:51:01.262194Z",
     "iopub.status.busy": "2024-01-12T13:51:01.261132Z",
     "iopub.status.idle": "2024-01-12T13:51:01.265787Z",
     "shell.execute_reply": "2024-01-12T13:51:01.265033Z"
    },
    "papermill": {
     "duration": 0.296905,
     "end_time": "2024-01-12T13:51:01.267791",
     "exception": false,
     "start_time": "2024-01-12T13:51:00.970886",
     "status": "completed"
    },
    "tags": []
   },
   "outputs": [],
   "source": [
    "# test_data['prediction'] = test_set_predictions.flatten()"
   ]
  },
  {
   "cell_type": "code",
   "execution_count": 40,
   "id": "89eb853f",
   "metadata": {
    "execution": {
     "iopub.execute_input": "2024-01-12T13:51:01.847645Z",
     "iopub.status.busy": "2024-01-12T13:51:01.846755Z",
     "iopub.status.idle": "2024-01-12T13:51:01.851091Z",
     "shell.execute_reply": "2024-01-12T13:51:01.850133Z"
    },
    "papermill": {
     "duration": 0.296537,
     "end_time": "2024-01-12T13:51:01.853083",
     "exception": false,
     "start_time": "2024-01-12T13:51:01.556546",
     "status": "completed"
    },
    "tags": []
   },
   "outputs": [],
   "source": [
    "# test_data.head()"
   ]
  },
  {
   "cell_type": "code",
   "execution_count": 41,
   "id": "41e54704",
   "metadata": {
    "execution": {
     "iopub.execute_input": "2024-01-12T13:51:02.485504Z",
     "iopub.status.busy": "2024-01-12T13:51:02.485129Z",
     "iopub.status.idle": "2024-01-12T13:51:02.489268Z",
     "shell.execute_reply": "2024-01-12T13:51:02.488366Z"
    },
    "papermill": {
     "duration": 0.297345,
     "end_time": "2024-01-12T13:51:02.491321",
     "exception": false,
     "start_time": "2024-01-12T13:51:02.193976",
     "status": "completed"
    },
    "tags": []
   },
   "outputs": [],
   "source": [
    "# test_data['prediction'] = test_set_predictions.flatten()\n",
    "\n",
    "# test_data_agg = test_data.groupby(['id','prompt_id','label']).aggregate({'prediction':['max', 'min', 'mean', 'first']})\n",
    "\n",
    "# test_data_agg.reset_index(inplace = True)"
   ]
  },
  {
   "cell_type": "code",
   "execution_count": 42,
   "id": "fa846eff",
   "metadata": {
    "execution": {
     "iopub.execute_input": "2024-01-12T13:51:03.078554Z",
     "iopub.status.busy": "2024-01-12T13:51:03.077705Z",
     "iopub.status.idle": "2024-01-12T13:51:03.081921Z",
     "shell.execute_reply": "2024-01-12T13:51:03.080956Z"
    },
    "papermill": {
     "duration": 0.300147,
     "end_time": "2024-01-12T13:51:03.083846",
     "exception": false,
     "start_time": "2024-01-12T13:51:02.783699",
     "status": "completed"
    },
    "tags": []
   },
   "outputs": [],
   "source": [
    "# test_data_agg.reset_index(inplace = True)"
   ]
  },
  {
   "cell_type": "code",
   "execution_count": 43,
   "id": "1478e3e9",
   "metadata": {
    "execution": {
     "iopub.execute_input": "2024-01-12T13:51:03.676542Z",
     "iopub.status.busy": "2024-01-12T13:51:03.675768Z",
     "iopub.status.idle": "2024-01-12T13:51:03.679867Z",
     "shell.execute_reply": "2024-01-12T13:51:03.678949Z"
    },
    "papermill": {
     "duration": 0.302973,
     "end_time": "2024-01-12T13:51:03.682069",
     "exception": false,
     "start_time": "2024-01-12T13:51:03.379096",
     "status": "completed"
    },
    "tags": []
   },
   "outputs": [],
   "source": [
    "# pred_custom = []\n",
    "# for index,row in test_data_agg.iterrows():\n",
    "    \n",
    "#     if row['prediction']['first'] >= 0.5:\n",
    "#         pred_custom.append(row['prediction']['max'])\n",
    "#     else:\n",
    "#         pred_custom.append(row['prediction']['min'])\n",
    "    "
   ]
  },
  {
   "cell_type": "code",
   "execution_count": 44,
   "id": "8577f9c9",
   "metadata": {
    "execution": {
     "iopub.execute_input": "2024-01-12T13:51:04.272051Z",
     "iopub.status.busy": "2024-01-12T13:51:04.271645Z",
     "iopub.status.idle": "2024-01-12T13:51:04.276673Z",
     "shell.execute_reply": "2024-01-12T13:51:04.275835Z"
    },
    "papermill": {
     "duration": 0.303304,
     "end_time": "2024-01-12T13:51:04.278942",
     "exception": false,
     "start_time": "2024-01-12T13:51:03.975638",
     "status": "completed"
    },
    "tags": []
   },
   "outputs": [],
   "source": [
    "# test_data_agg['custom'] = pred_custom"
   ]
  },
  {
   "cell_type": "code",
   "execution_count": 45,
   "id": "51fcb715",
   "metadata": {
    "execution": {
     "iopub.execute_input": "2024-01-12T13:51:04.935509Z",
     "iopub.status.busy": "2024-01-12T13:51:04.934619Z",
     "iopub.status.idle": "2024-01-12T13:51:04.939047Z",
     "shell.execute_reply": "2024-01-12T13:51:04.938039Z"
    },
    "papermill": {
     "duration": 0.303642,
     "end_time": "2024-01-12T13:51:04.941141",
     "exception": false,
     "start_time": "2024-01-12T13:51:04.637499",
     "status": "completed"
    },
    "tags": []
   },
   "outputs": [],
   "source": [
    "# test_data_agg.head()"
   ]
  },
  {
   "cell_type": "code",
   "execution_count": 46,
   "id": "19874604",
   "metadata": {
    "execution": {
     "iopub.execute_input": "2024-01-12T13:51:05.548099Z",
     "iopub.status.busy": "2024-01-12T13:51:05.547725Z",
     "iopub.status.idle": "2024-01-12T13:51:05.551834Z",
     "shell.execute_reply": "2024-01-12T13:51:05.550953Z"
    },
    "papermill": {
     "duration": 0.312311,
     "end_time": "2024-01-12T13:51:05.553741",
     "exception": false,
     "start_time": "2024-01-12T13:51:05.241430",
     "status": "completed"
    },
    "tags": []
   },
   "outputs": [],
   "source": [
    "#print('ROC AUC Score: ',roc_auc_score(label_test, test_set_predictions.flatten()))"
   ]
  },
  {
   "cell_type": "code",
   "execution_count": 47,
   "id": "ad567a8a",
   "metadata": {
    "execution": {
     "iopub.execute_input": "2024-01-12T13:51:06.163337Z",
     "iopub.status.busy": "2024-01-12T13:51:06.162943Z",
     "iopub.status.idle": "2024-01-12T13:51:06.167257Z",
     "shell.execute_reply": "2024-01-12T13:51:06.166433Z"
    },
    "papermill": {
     "duration": 0.303094,
     "end_time": "2024-01-12T13:51:06.169135",
     "exception": false,
     "start_time": "2024-01-12T13:51:05.866041",
     "status": "completed"
    },
    "tags": []
   },
   "outputs": [],
   "source": [
    "# for i in range(3,8):\n",
    "#     print('ROC with metric:',test_data_agg.columns[i])\n",
    "#     print('ROC AUC Score: ',roc_auc_score(test_data_agg.iloc[:,2], test_data_agg.iloc[:,i]))"
   ]
  },
  {
   "cell_type": "code",
   "execution_count": 48,
   "id": "1d5a8d28",
   "metadata": {
    "execution": {
     "iopub.execute_input": "2024-01-12T13:51:06.749446Z",
     "iopub.status.busy": "2024-01-12T13:51:06.749069Z",
     "iopub.status.idle": "2024-01-12T13:51:06.753337Z",
     "shell.execute_reply": "2024-01-12T13:51:06.752415Z"
    },
    "papermill": {
     "duration": 0.295057,
     "end_time": "2024-01-12T13:51:06.755221",
     "exception": false,
     "start_time": "2024-01-12T13:51:06.460164",
     "status": "completed"
    },
    "tags": []
   },
   "outputs": [],
   "source": [
    "# (0.9824285407738714 - 0.9667853753352559)*100"
   ]
  },
  {
   "cell_type": "code",
   "execution_count": null,
   "id": "e91d7dbd",
   "metadata": {
    "papermill": {
     "duration": 0.290148,
     "end_time": "2024-01-12T13:51:07.335398",
     "exception": false,
     "start_time": "2024-01-12T13:51:07.045250",
     "status": "completed"
    },
    "tags": []
   },
   "outputs": [],
   "source": []
  }
 ],
 "metadata": {
  "kaggle": {
   "accelerator": "gpu",
   "dataSources": [
    {
     "databundleVersionId": 6888007,
     "sourceId": 61542,
     "sourceType": "competition"
    },
    {
     "datasetId": 3942644,
     "sourceId": 6890527,
     "sourceType": "datasetVersion"
    },
    {
     "datasetId": 3961875,
     "sourceId": 6971638,
     "sourceType": "datasetVersion"
    },
    {
     "modelInstanceId": 1910,
     "sourceId": 2644,
     "sourceType": "modelInstanceVersion"
    },
    {
     "modelInstanceId": 2180,
     "sourceId": 2938,
     "sourceType": "modelInstanceVersion"
    }
   ],
   "dockerImageVersionId": 30627,
   "isGpuEnabled": true,
   "isInternetEnabled": false,
   "language": "python",
   "sourceType": "notebook"
  },
  "kernelspec": {
   "display_name": "Python 3",
   "language": "python",
   "name": "python3"
  },
  "language_info": {
   "codemirror_mode": {
    "name": "ipython",
    "version": 3
   },
   "file_extension": ".py",
   "mimetype": "text/x-python",
   "name": "python",
   "nbconvert_exporter": "python",
   "pygments_lexer": "ipython3",
   "version": "3.10.12"
  },
  "papermill": {
   "default_parameters": {},
   "duration": 1422.60733,
   "end_time": "2024-01-12T13:51:11.062555",
   "environment_variables": {},
   "exception": null,
   "input_path": "__notebook__.ipynb",
   "output_path": "__notebook__.ipynb",
   "parameters": {},
   "start_time": "2024-01-12T13:27:28.455225",
   "version": "2.4.0"
  }
 },
 "nbformat": 4,
 "nbformat_minor": 5
}
