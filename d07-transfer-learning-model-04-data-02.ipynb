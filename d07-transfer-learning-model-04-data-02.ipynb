{
 "cells": [
  {
   "cell_type": "code",
   "execution_count": 1,
   "id": "f5d025e6",
   "metadata": {
    "_cell_guid": "b1076dfc-b9ad-4769-8c92-a6c4dae69d19",
    "_uuid": "8f2839f25d086af736a60e9eeb907d3b93b6e0e5",
    "execution": {
     "iopub.execute_input": "2023-12-23T17:50:31.739998Z",
     "iopub.status.busy": "2023-12-23T17:50:31.739548Z",
     "iopub.status.idle": "2023-12-23T17:50:32.468790Z",
     "shell.execute_reply": "2023-12-23T17:50:32.467608Z"
    },
    "papermill": {
     "duration": 0.749757,
     "end_time": "2023-12-23T17:50:32.474741",
     "exception": false,
     "start_time": "2023-12-23T17:50:31.724984",
     "status": "completed"
    },
    "tags": []
   },
   "outputs": [
    {
     "name": "stdout",
     "output_type": "stream",
     "text": [
      "/kaggle/input/llm-7-prompt-training-dataset/train_essays_RDizzl3_seven_v2.csv\n",
      "/kaggle/input/llm-7-prompt-training-dataset/train_essays_7_prompts_v2.csv\n",
      "/kaggle/input/llm-7-prompt-training-dataset/train_essays_7_prompts.csv\n",
      "/kaggle/input/llm-7-prompt-training-dataset/train_essays_RDizzl3_seven_v1.csv\n",
      "/kaggle/input/daigt-proper-train-dataset/train_drcat_03.csv\n",
      "/kaggle/input/daigt-proper-train-dataset/train_drcat_02.csv\n",
      "/kaggle/input/daigt-proper-train-dataset/train_drcat_04.csv\n",
      "/kaggle/input/daigt-proper-train-dataset/train_drcat_01.csv\n",
      "/kaggle/input/bert/tensorflow2/en-uncased-preprocess/3/saved_model.pb\n",
      "/kaggle/input/bert/tensorflow2/en-uncased-preprocess/3/keras_metadata.pb\n",
      "/kaggle/input/bert/tensorflow2/en-uncased-preprocess/3/assets/vocab.txt\n",
      "/kaggle/input/bert/tensorflow2/en-uncased-preprocess/3/variables/variables.index\n",
      "/kaggle/input/bert/tensorflow2/en-uncased-preprocess/3/variables/variables.data-00000-of-00001\n",
      "/kaggle/input/bert/tensorflow2/bert-en-uncased-l-12-h-768-a-12/2/saved_model.pb\n",
      "/kaggle/input/bert/tensorflow2/bert-en-uncased-l-12-h-768-a-12/2/keras_metadata.pb\n",
      "/kaggle/input/bert/tensorflow2/bert-en-uncased-l-12-h-768-a-12/2/assets/vocab.txt\n",
      "/kaggle/input/bert/tensorflow2/bert-en-uncased-l-12-h-768-a-12/2/variables/variables.index\n",
      "/kaggle/input/bert/tensorflow2/bert-en-uncased-l-12-h-768-a-12/2/variables/variables.data-00000-of-00001\n",
      "/kaggle/input/llm-detect-ai-generated-text/sample_submission.csv\n",
      "/kaggle/input/llm-detect-ai-generated-text/train_prompts.csv\n",
      "/kaggle/input/llm-detect-ai-generated-text/test_essays.csv\n",
      "/kaggle/input/llm-detect-ai-generated-text/train_essays.csv\n"
     ]
    }
   ],
   "source": [
    "# This Python 3 environment comes with many helpful analytics libraries installed\n",
    "# It is defined by the kaggle/python Docker image: https://github.com/kaggle/docker-python\n",
    "# For example, here's several helpful packages to load\n",
    "\n",
    "import numpy as np # linear algebra\n",
    "import pandas as pd # data processing, CSV file I/O (e.g. pd.read_csv)\n",
    "\n",
    "# Input data files are available in the read-only \"../input/\" directory\n",
    "# For example, running this (by clicking run or pressing Shift+Enter) will list all files under the input directory\n",
    "\n",
    "import os\n",
    "for dirname, _, filenames in os.walk('/kaggle/input'):\n",
    "    for filename in filenames:\n",
    "        print(os.path.join(dirname, filename))\n",
    "\n",
    "# You can write up to 20GB to the current directory (/kaggle/working/) that gets preserved as output when you create a version using \"Save & Run All\" \n",
    "# You can also write temporary files to /kaggle/temp/, but they won't be saved outside of the current session"
   ]
  },
  {
   "cell_type": "code",
   "execution_count": 2,
   "id": "be55f2da",
   "metadata": {
    "execution": {
     "iopub.execute_input": "2023-12-23T17:50:32.503227Z",
     "iopub.status.busy": "2023-12-23T17:50:32.502347Z",
     "iopub.status.idle": "2023-12-23T17:50:44.629258Z",
     "shell.execute_reply": "2023-12-23T17:50:44.628476Z"
    },
    "papermill": {
     "duration": 12.143404,
     "end_time": "2023-12-23T17:50:44.631706",
     "exception": false,
     "start_time": "2023-12-23T17:50:32.488302",
     "status": "completed"
    },
    "tags": []
   },
   "outputs": [
    {
     "name": "stderr",
     "output_type": "stream",
     "text": [
      "/opt/conda/lib/python3.10/site-packages/scipy/__init__.py:146: UserWarning: A NumPy version >=1.16.5 and <1.23.0 is required for this version of SciPy (detected version 1.24.3\n",
      "  warnings.warn(f\"A NumPy version >={np_minversion} and <{np_maxversion}\"\n"
     ]
    }
   ],
   "source": [
    "import tensorflow_text as text\n",
    "import tensorflow_hub as hub\n",
    "import tensorflow as tf\n",
    "import random\n",
    "import tqdm\n",
    "from tqdm import tqdm\n",
    "import copy"
   ]
  },
  {
   "cell_type": "markdown",
   "id": "a1ccc504",
   "metadata": {
    "papermill": {
     "duration": 0.01219,
     "end_time": "2023-12-23T17:50:44.656702",
     "exception": false,
     "start_time": "2023-12-23T17:50:44.644512",
     "status": "completed"
    },
    "tags": []
   },
   "source": [
    "Prepara Data from source: llm-7-prompt-training-dataset"
   ]
  },
  {
   "cell_type": "code",
   "execution_count": 3,
   "id": "d4bc346a",
   "metadata": {
    "execution": {
     "iopub.execute_input": "2023-12-23T17:50:44.684686Z",
     "iopub.status.busy": "2023-12-23T17:50:44.684027Z",
     "iopub.status.idle": "2023-12-23T17:50:45.406532Z",
     "shell.execute_reply": "2023-12-23T17:50:45.405724Z"
    },
    "papermill": {
     "duration": 0.738585,
     "end_time": "2023-12-23T17:50:45.408829",
     "exception": false,
     "start_time": "2023-12-23T17:50:44.670244",
     "status": "completed"
    },
    "tags": []
   },
   "outputs": [],
   "source": [
    "train_essays_01_source = pd.read_csv('/kaggle/input/llm-7-prompt-training-dataset/train_essays_7_prompts_v2.csv')\n",
    "\n",
    "#Slicing the dataset with different labels\n",
    "train_essays_01_source_label_1 = train_essays_01_source[train_essays_01_source['label'] == 1].reset_index(drop = True)  \n",
    "train_essays_01_source_label_0 = train_essays_01_source[train_essays_01_source['label'] == 0].reset_index(drop = True)\n",
    "\n",
    "#Set number of data points required from each label\n",
    "#Creating new data set with data sampled from each labels\n",
    "label_1_count = 1638 #1638 data points available\n",
    "label_0_count = 13712 #13712 data points available\n",
    "\n",
    "essay_dataset_raw = pd.concat([train_essays_01_source_label_1.sample(n= label_1_count, random_state = 36, axis = 0), \n",
    "                         train_essays_01_source_label_0.sample(n= label_0_count, random_state = 36, axis = 0)], \n",
    "                        axis = 0, sort = True).sample(frac = 1)"
   ]
  },
  {
   "cell_type": "code",
   "execution_count": 4,
   "id": "e79aa688",
   "metadata": {
    "execution": {
     "iopub.execute_input": "2023-12-23T17:50:45.444144Z",
     "iopub.status.busy": "2023-12-23T17:50:45.443788Z",
     "iopub.status.idle": "2023-12-23T17:50:46.767160Z",
     "shell.execute_reply": "2023-12-23T17:50:46.766125Z"
    },
    "papermill": {
     "duration": 1.341111,
     "end_time": "2023-12-23T17:50:46.770083",
     "exception": false,
     "start_time": "2023-12-23T17:50:45.428972",
     "status": "completed"
    },
    "tags": []
   },
   "outputs": [],
   "source": [
    "from nltk.tokenize import word_tokenize\n",
    "from nltk import sent_tokenize\n",
    "\n",
    "\n",
    "# Function to split text into sequences of 128 words\n",
    "def split_text_into_sequences(text):\n",
    "    words = word_tokenize(text)\n",
    "    sequences = [words[i:i + 128] for i in range(0, len(words), 128)]\n",
    "    return [' '.join(seq) for seq in sequences]\n",
    "\n",
    "\n",
    "def get_df_with_128_length_sequences(essay_dataset_raw):\n",
    "\n",
    "    #essay_dataset_raw.head()\n",
    "    essay_dataset_raw['text_seq_list'] = essay_dataset_raw['text'].map(split_text_into_sequences)\n",
    "\n",
    "\n",
    "    essay_dataset_raw.drop(columns = ['text'], inplace = True)\n",
    "    essay_dataset_raw = essay_dataset_raw.explode('text_seq_list')\n",
    "\n",
    "    essay_dataset_raw.rename(columns = {'text_seq_list':'text'}, inplace = True)\n",
    "    \n",
    "    return essay_dataset_raw"
   ]
  },
  {
   "cell_type": "code",
   "execution_count": 5,
   "id": "76cfa6ba",
   "metadata": {
    "execution": {
     "iopub.execute_input": "2023-12-23T17:50:46.801871Z",
     "iopub.status.busy": "2023-12-23T17:50:46.801115Z",
     "iopub.status.idle": "2023-12-23T17:51:06.711283Z",
     "shell.execute_reply": "2023-12-23T17:51:06.708533Z"
    },
    "papermill": {
     "duration": 19.927585,
     "end_time": "2023-12-23T17:51:06.714664",
     "exception": false,
     "start_time": "2023-12-23T17:50:46.787079",
     "status": "completed"
    },
    "tags": []
   },
   "outputs": [],
   "source": [
    "#Bert encoder\n",
    "\n",
    "text_input = tf.keras.layers.Input(shape=(), dtype=tf.string)\n",
    "preprocessor = hub.KerasLayer(\n",
    "    \"https://kaggle.com/models/tensorflow/bert/frameworks/TensorFlow2/variations/en-uncased-preprocess/versions/3\")\n",
    "encoder_inputs = preprocessor(text_input)\n",
    "encoder = hub.KerasLayer(\n",
    "    \"https://www.kaggle.com/models/tensorflow/bert/frameworks/TensorFlow2/variations/bert-en-uncased-l-12-h-768-a-12/versions/2\",trainable=False)\n",
    "outputs = encoder(encoder_inputs)\n",
    "pooled_output = outputs[\"pooled_output\"]      # [batch_size, 768].\n",
    "sequence_output = outputs[\"sequence_output\"]  # [batch_size, seq_length, 768]."
   ]
  },
  {
   "cell_type": "code",
   "execution_count": 6,
   "id": "90d6d0a6",
   "metadata": {
    "execution": {
     "iopub.execute_input": "2023-12-23T17:51:06.749723Z",
     "iopub.status.busy": "2023-12-23T17:51:06.749198Z",
     "iopub.status.idle": "2023-12-23T17:51:06.760757Z",
     "shell.execute_reply": "2023-12-23T17:51:06.759928Z"
    },
    "papermill": {
     "duration": 0.031038,
     "end_time": "2023-12-23T17:51:06.762851",
     "exception": false,
     "start_time": "2023-12-23T17:51:06.731813",
     "status": "completed"
    },
    "tags": []
   },
   "outputs": [],
   "source": [
    "encoder_model = tf.keras.Model(inputs=text_input, outputs=sequence_output)"
   ]
  },
  {
   "cell_type": "code",
   "execution_count": 7,
   "id": "175368d4",
   "metadata": {
    "execution": {
     "iopub.execute_input": "2023-12-23T17:51:06.790487Z",
     "iopub.status.busy": "2023-12-23T17:51:06.790076Z",
     "iopub.status.idle": "2023-12-23T17:51:07.049328Z",
     "shell.execute_reply": "2023-12-23T17:51:07.048536Z"
    },
    "papermill": {
     "duration": 0.27557,
     "end_time": "2023-12-23T17:51:07.051497",
     "exception": false,
     "start_time": "2023-12-23T17:51:06.775927",
     "status": "completed"
    },
    "tags": []
   },
   "outputs": [],
   "source": [
    "import tensorflow as tf\n",
    "from tensorflow.keras import layers\n",
    "\n",
    "\n",
    "# Input text\n",
    "text_input = tf.keras.layers.Input(shape=(), dtype=tf.string)\n",
    "\n",
    "#Text Embeddings generation with Bert\n",
    "input_embeddings = encoder_model(text_input)\n",
    "\n",
    "# Apply pooling right after the input layer\n",
    "pooled_input = layers.GlobalMaxPooling1D()(input_embeddings)\n",
    "\n",
    "# Reshape pooled input to add singleton dimension\n",
    "query = tf.expand_dims(pooled_input, axis=1)\n",
    "\n",
    "# Multi-Head Attention layer with pooling layer output as key and input embedding vectors as values\n",
    "num_heads = 12\n",
    "key_dim = 64  # Adjust based on experimentation\n",
    "attention_output = layers.MultiHeadAttention(num_heads=num_heads, key_dim=key_dim)(query, input_embeddings)\n",
    "\n",
    "# Global average pooling\n",
    "global_pool = layers.GlobalAveragePooling1D()(attention_output)\n",
    "\n",
    "# Dropout to prevent overfitting\n",
    "dropout = layers.Dropout(0.2)(global_pool)\n",
    "\n",
    "# Dense output layer with 1 unit and sigmoid activation (for binary classification)\n",
    "output = layers.Dense(1, activation=\"sigmoid\")(dropout)\n",
    "\n",
    "# Create the model\n",
    "model = tf.keras.Model(inputs=text_input, outputs=output)"
   ]
  },
  {
   "cell_type": "code",
   "execution_count": 8,
   "id": "93ad65bc",
   "metadata": {
    "execution": {
     "iopub.execute_input": "2023-12-23T17:51:07.078519Z",
     "iopub.status.busy": "2023-12-23T17:51:07.077683Z",
     "iopub.status.idle": "2023-12-23T17:51:07.095906Z",
     "shell.execute_reply": "2023-12-23T17:51:07.094949Z"
    },
    "papermill": {
     "duration": 0.034145,
     "end_time": "2023-12-23T17:51:07.098195",
     "exception": false,
     "start_time": "2023-12-23T17:51:07.064050",
     "status": "completed"
    },
    "tags": []
   },
   "outputs": [],
   "source": [
    "model.compile(\n",
    "    loss = 'binary_crossentropy',\n",
    "    optimizer = 'adam',\n",
    "    metrics = ['accuracy', 'AUC']\n",
    ")"
   ]
  },
  {
   "cell_type": "code",
   "execution_count": 9,
   "id": "2e9fc80f",
   "metadata": {
    "execution": {
     "iopub.execute_input": "2023-12-23T17:51:07.125172Z",
     "iopub.status.busy": "2023-12-23T17:51:07.124485Z",
     "iopub.status.idle": "2023-12-23T17:51:07.167326Z",
     "shell.execute_reply": "2023-12-23T17:51:07.166316Z"
    },
    "papermill": {
     "duration": 0.058427,
     "end_time": "2023-12-23T17:51:07.169345",
     "exception": false,
     "start_time": "2023-12-23T17:51:07.110918",
     "status": "completed"
    },
    "tags": []
   },
   "outputs": [
    {
     "name": "stdout",
     "output_type": "stream",
     "text": [
      "Model: \"model_1\"\n",
      "__________________________________________________________________________________________________\n",
      " Layer (type)                Output Shape                 Param #   Connected to                  \n",
      "==================================================================================================\n",
      " input_2 (InputLayer)        [(None,)]                    0         []                            \n",
      "                                                                                                  \n",
      " model (Functional)          (None, 128, 768)             1094822   ['input_2[0][0]']             \n",
      "                                                          41                                      \n",
      "                                                                                                  \n",
      " global_max_pooling1d (Glob  (None, 768)                  0         ['model[0][0]']               \n",
      " alMaxPooling1D)                                                                                  \n",
      "                                                                                                  \n",
      " tf.expand_dims (TFOpLambda  (None, 1, 768)               0         ['global_max_pooling1d[0][0]']\n",
      " )                                                                                                \n",
      "                                                                                                  \n",
      " multi_head_attention (Mult  (None, 1, 768)               2362368   ['tf.expand_dims[0][0]',      \n",
      " iHeadAttention)                                                     'model[0][0]']               \n",
      "                                                                                                  \n",
      " global_average_pooling1d (  (None, 768)                  0         ['multi_head_attention[0][0]']\n",
      " GlobalAveragePooling1D)                                                                          \n",
      "                                                                                                  \n",
      " dropout (Dropout)           (None, 768)                  0         ['global_average_pooling1d[0][\n",
      "                                                                    0]']                          \n",
      "                                                                                                  \n",
      " dense (Dense)               (None, 1)                    769       ['dropout[0][0]']             \n",
      "                                                                                                  \n",
      "==================================================================================================\n",
      "Total params: 111845378 (426.66 MB)\n",
      "Trainable params: 2363137 (9.01 MB)\n",
      "Non-trainable params: 109482241 (417.64 MB)\n",
      "__________________________________________________________________________________________________\n"
     ]
    }
   ],
   "source": [
    "model.summary()"
   ]
  },
  {
   "cell_type": "code",
   "execution_count": 10,
   "id": "33e8d2f2",
   "metadata": {
    "execution": {
     "iopub.execute_input": "2023-12-23T17:51:07.200680Z",
     "iopub.status.busy": "2023-12-23T17:51:07.200303Z",
     "iopub.status.idle": "2023-12-23T17:51:07.204482Z",
     "shell.execute_reply": "2023-12-23T17:51:07.203574Z"
    },
    "papermill": {
     "duration": 0.022103,
     "end_time": "2023-12-23T17:51:07.206333",
     "exception": false,
     "start_time": "2023-12-23T17:51:07.184230",
     "status": "completed"
    },
    "tags": []
   },
   "outputs": [],
   "source": [
    "# #essay_dataset_raw = get_df_with_128_length_sequences(essay_dataset_raw)\n",
    "\n",
    "# essay_dataset_test = pd.read_csv('/kaggle/input/daigt-proper-train-dataset/train_drcat_04.csv')\n",
    "# essay_dataset_test = essay_dataset_test.sample(frac = 0.1)\n",
    "\n",
    "# essay_dataset_test = get_df_with_128_length_sequences(essay_dataset_test)"
   ]
  },
  {
   "cell_type": "code",
   "execution_count": 11,
   "id": "005890ac",
   "metadata": {
    "execution": {
     "iopub.execute_input": "2023-12-23T17:51:07.286679Z",
     "iopub.status.busy": "2023-12-23T17:51:07.286334Z",
     "iopub.status.idle": "2023-12-23T17:51:07.290455Z",
     "shell.execute_reply": "2023-12-23T17:51:07.289553Z"
    },
    "papermill": {
     "duration": 0.022079,
     "end_time": "2023-12-23T17:51:07.292398",
     "exception": false,
     "start_time": "2023-12-23T17:51:07.270319",
     "status": "completed"
    },
    "tags": []
   },
   "outputs": [],
   "source": [
    "# essay_test, label_test = essay_dataset_test.iloc[:,5], essay_dataset_test.iloc[:,1]"
   ]
  },
  {
   "cell_type": "code",
   "execution_count": 12,
   "id": "e92f0d12",
   "metadata": {
    "execution": {
     "iopub.execute_input": "2023-12-23T17:51:07.324071Z",
     "iopub.status.busy": "2023-12-23T17:51:07.323244Z",
     "iopub.status.idle": "2023-12-23T17:56:53.085087Z",
     "shell.execute_reply": "2023-12-23T17:56:53.084146Z"
    },
    "papermill": {
     "duration": 345.85868,
     "end_time": "2023-12-23T17:56:53.165962",
     "exception": false,
     "start_time": "2023-12-23T17:51:07.307282",
     "status": "completed"
    },
    "tags": []
   },
   "outputs": [
    {
     "name": "stderr",
     "output_type": "stream",
     "text": [
      "/opt/conda/lib/python3.10/site-packages/numpy/core/fromnumeric.py:57: FutureWarning: 'Series.swapaxes' is deprecated and will be removed in a future version. Please use 'Series.transpose' instead.\n",
      "  return bound(*args, **kwds)\n",
      "  0%|          | 0/1 [00:00<?, ?it/s]"
     ]
    },
    {
     "name": "stdout",
     "output_type": "stream",
     "text": [
      "Epoch 1/5\n",
      "274/274 [==============================] - 125s 409ms/step - loss: 0.1038 - accuracy: 0.9672 - auc: 0.9704 - val_loss: 0.0322 - val_accuracy: 0.9891 - val_auc: 0.9955\n",
      "Epoch 2/5\n",
      "274/274 [==============================] - 111s 405ms/step - loss: 0.0319 - accuracy: 0.9893 - auc: 0.9959 - val_loss: 0.0324 - val_accuracy: 0.9898 - val_auc: 0.9943\n",
      "Epoch 3/5\n",
      "274/274 [==============================] - 110s 402ms/step - loss: 0.0271 - accuracy: 0.9920 - auc: 0.9953 - val_loss: 0.0265 - val_accuracy: 0.9912 - val_auc: 0.9967\n"
     ]
    },
    {
     "name": "stderr",
     "output_type": "stream",
     "text": [
      "100%|██████████| 1/1 [05:45<00:00, 345.74s/it]"
     ]
    },
    {
     "name": "stdout",
     "output_type": "stream",
     "text": [
      "CPU times: user 4min 5s, sys: 31.1 s, total: 4min 37s\n",
      "Wall time: 5min 45s\n"
     ]
    },
    {
     "name": "stderr",
     "output_type": "stream",
     "text": [
      "\n"
     ]
    }
   ],
   "source": [
    "%%time\n",
    "batch_size = 15000\n",
    "num_batches = len(essay_dataset_raw)//batch_size\n",
    "\n",
    "essay_dataset_raw_batches = np.array_split(essay_dataset_raw.iloc[:,1], num_batches)\n",
    "essay_label_batches = np.array_split(essay_dataset_raw.iloc[:,0], num_batches)\n",
    "\n",
    "test_evaluation_results = []\n",
    "\n",
    "for batch_no in tqdm(range(num_batches)):\n",
    "    \n",
    "    #Train:CV:Test :: i:j:k \n",
    "    i, j = 40, 30\n",
    "    essay_batch = essay_dataset_raw_batches[batch_no]\n",
    "    label_batch = essay_label_batches[batch_no]\n",
    "\n",
    "    fraction_size = len(essay_batch)//(i+j)\n",
    "    essay_train, essay_CV = tf.split(essay_batch, [fraction_size*i, len(essay_batch)-fraction_size*i], 0)\n",
    "    label_train, label_CV = tf.split(label_batch, [fraction_size*i, len(label_batch)-fraction_size*i], 0)\n",
    "    \n",
    "    h = model.fit(essay_train, label_train,\n",
    "                    validation_data = (essay_CV, label_CV),\n",
    "                    epochs = 5,\n",
    "                    callbacks = [\n",
    "                                      tf.keras.callbacks.EarlyStopping(monitor = 'val_auc', patience = 0, mode = 'max', \n",
    "                                      restore_best_weights = True, min_delta = 0.01, start_from_epoch = 1)])\n",
    "    \n",
    "#     print('Evaluation of model after: ',batch_no)\n",
    "#     _ = model.evaluate(essay_test, label_test)\n",
    "#     test_evaluation_results.append(_)\n",
    "#     print('\\n\\n')\n",
    "    \n",
    "\n",
    "# h = model.fit(\n",
    "#    encoded_essay_train, label_train,\n",
    "#    validation_data = (encoded_essay_CV, label_CV),\n",
    "#    epochs = 20,\n",
    "#     callbacks = [\n",
    "#       tf.keras.callbacks.EarlyStopping(monitor = 'val_auc', patience = 1, mode = 'max', \n",
    "#                                       restore_best_weights = True, min_delta = 0.01, start_from_epoch = 2)\n",
    "#    ]\n",
    "# )"
   ]
  },
  {
   "cell_type": "code",
   "execution_count": 13,
   "id": "4d817e30",
   "metadata": {
    "execution": {
     "iopub.execute_input": "2023-12-23T17:56:53.341929Z",
     "iopub.status.busy": "2023-12-23T17:56:53.341532Z",
     "iopub.status.idle": "2023-12-23T17:56:53.356734Z",
     "shell.execute_reply": "2023-12-23T17:56:53.355722Z"
    },
    "papermill": {
     "duration": 0.111775,
     "end_time": "2023-12-23T17:56:53.358920",
     "exception": false,
     "start_time": "2023-12-23T17:56:53.247145",
     "status": "completed"
    },
    "tags": []
   },
   "outputs": [],
   "source": [
    "test_data = pd.read_csv('/kaggle/input/llm-detect-ai-generated-text/test_essays.csv')"
   ]
  },
  {
   "cell_type": "code",
   "execution_count": 14,
   "id": "178b230a",
   "metadata": {
    "execution": {
     "iopub.execute_input": "2023-12-23T17:56:53.529549Z",
     "iopub.status.busy": "2023-12-23T17:56:53.528883Z",
     "iopub.status.idle": "2023-12-23T17:56:53.553767Z",
     "shell.execute_reply": "2023-12-23T17:56:53.552840Z"
    },
    "papermill": {
     "duration": 0.113608,
     "end_time": "2023-12-23T17:56:53.556064",
     "exception": false,
     "start_time": "2023-12-23T17:56:53.442456",
     "status": "completed"
    },
    "tags": []
   },
   "outputs": [],
   "source": [
    "# Apply the function to the 'text' column\n",
    "test_data['text_sequences'] = test_data['text'].apply(split_text_into_sequences)\n",
    "\n",
    "# Explode the sequences to create rows for each sequence\n",
    "df_exploded = test_data.explode('text_sequences')\n",
    "\n",
    "# Drop the original 'text' column\n",
    "df_exploded = df_exploded.drop('text', axis=1)\n",
    "\n",
    "#Resetting test_data\n",
    "test_data = df_exploded.copy()\n",
    "del df_exploded\n",
    "\n"
   ]
  },
  {
   "cell_type": "code",
   "execution_count": 15,
   "id": "a76e2d9f",
   "metadata": {
    "execution": {
     "iopub.execute_input": "2023-12-23T17:56:53.718130Z",
     "iopub.status.busy": "2023-12-23T17:56:53.717254Z",
     "iopub.status.idle": "2023-12-23T17:56:54.619064Z",
     "shell.execute_reply": "2023-12-23T17:56:54.617917Z"
    },
    "papermill": {
     "duration": 0.984748,
     "end_time": "2023-12-23T17:56:54.620961",
     "exception": false,
     "start_time": "2023-12-23T17:56:53.636213",
     "status": "completed"
    },
    "tags": []
   },
   "outputs": [
    {
     "name": "stdout",
     "output_type": "stream",
     "text": [
      "1/1 [==============================] - 1s 836ms/step\n",
      "CPU times: user 920 ms, sys: 0 ns, total: 920 ms\n",
      "Wall time: 894 ms\n"
     ]
    }
   ],
   "source": [
    "%%time\n",
    "# encoded_test_data = encoder_model(train_essays_01_source.iloc[:10000, 0])\n",
    "# test_set_predictions = model.predict(encoded_test_data)\n",
    "\n",
    "\n",
    "if len(test_data)<100:\n",
    "    test_set_predictions = model.predict(test_data.iloc[:, 2])\n",
    "\n",
    "else:\n",
    "    batch_size = 100\n",
    "    num_batches = len(test_data)//batch_size\n",
    "\n",
    "    test_data_batches = np.array_split(test_data, num_batches)\n",
    "    test_set_predictions_batch_list = []\n",
    "\n",
    "    for batch in tqdm(test_data_batches):\n",
    "        test_set_predictions_batch = model.predict(batch.iloc[:, 2])\n",
    "        test_set_predictions_batch_list.append(test_set_predictions_batch)\n",
    "\n",
    "    test_set_predictions = np.concatenate(test_set_predictions_batch_list, axis = 0)"
   ]
  },
  {
   "cell_type": "code",
   "execution_count": 16,
   "id": "03503be0",
   "metadata": {
    "execution": {
     "iopub.execute_input": "2023-12-23T17:56:54.783751Z",
     "iopub.status.busy": "2023-12-23T17:56:54.782890Z",
     "iopub.status.idle": "2023-12-23T17:56:54.799137Z",
     "shell.execute_reply": "2023-12-23T17:56:54.798198Z"
    },
    "papermill": {
     "duration": 0.100378,
     "end_time": "2023-12-23T17:56:54.801252",
     "exception": false,
     "start_time": "2023-12-23T17:56:54.700874",
     "status": "completed"
    },
    "tags": []
   },
   "outputs": [],
   "source": [
    "test_data['prediction'] = test_set_predictions.flatten()\n",
    "\n",
    "test_data_agg = test_data.groupby(['id','prompt_id']).aggregate({'prediction':'mean'})\n",
    "\n",
    "test_data_agg.reset_index(inplace = True)\n",
    "\n",
    "test_data_agg.rename(columns = {'prediction':'genarated'}, inplace = True)"
   ]
  },
  {
   "cell_type": "code",
   "execution_count": 17,
   "id": "a4372cc4",
   "metadata": {
    "execution": {
     "iopub.execute_input": "2023-12-23T17:56:54.964484Z",
     "iopub.status.busy": "2023-12-23T17:56:54.964099Z",
     "iopub.status.idle": "2023-12-23T17:56:54.972895Z",
     "shell.execute_reply": "2023-12-23T17:56:54.972127Z"
    },
    "papermill": {
     "duration": 0.092526,
     "end_time": "2023-12-23T17:56:54.974842",
     "exception": false,
     "start_time": "2023-12-23T17:56:54.882316",
     "status": "completed"
    },
    "tags": []
   },
   "outputs": [],
   "source": [
    "test_data_agg['genarated'] = np.round(test_data_agg['genarated'], decimals = 4)\n",
    "submission = test_data_agg[['id', 'genarated']]\n",
    "submission.to_csv('/kaggle/working/submission.csv', index = False, header = submission.columns.tolist())"
   ]
  },
  {
   "cell_type": "markdown",
   "id": "d691e2e6",
   "metadata": {
    "papermill": {
     "duration": 0.08074,
     "end_time": "2023-12-23T17:56:55.138107",
     "exception": false,
     "start_time": "2023-12-23T17:56:55.057367",
     "status": "completed"
    },
    "tags": []
   },
   "source": [
    "# EDA"
   ]
  },
  {
   "cell_type": "code",
   "execution_count": 18,
   "id": "903d8bc8",
   "metadata": {
    "execution": {
     "iopub.execute_input": "2023-12-23T17:56:55.301650Z",
     "iopub.status.busy": "2023-12-23T17:56:55.301296Z",
     "iopub.status.idle": "2023-12-23T17:56:55.305917Z",
     "shell.execute_reply": "2023-12-23T17:56:55.305006Z"
    },
    "papermill": {
     "duration": 0.089085,
     "end_time": "2023-12-23T17:56:55.307932",
     "exception": false,
     "start_time": "2023-12-23T17:56:55.218847",
     "status": "completed"
    },
    "tags": []
   },
   "outputs": [],
   "source": [
    "# import matplotlib.pyplot as plt\n",
    "# import numpy\n",
    "# from sklearn import metrics\n",
    "\n",
    "# def plot_confusion_matrix(label_test, test_set_predictions, threashold = 0.5):\n",
    "    \n",
    "#     if not test_set_pred_labels:\n",
    "#         test_set_pred_labels = [prob >= threashold for prob in test_set_predictions.flatten()]\n",
    "\n",
    "#     confusion_matrix = metrics.confusion_matrix(label_test, test_set_pred_labels)\n",
    "\n",
    "#     cm_display = metrics.ConfusionMatrixDisplay(confusion_matrix = confusion_matrix, display_labels = [False, True])\n",
    "\n",
    "#     cm_display.plot()\n",
    "#     plt.show()"
   ]
  },
  {
   "cell_type": "code",
   "execution_count": 19,
   "id": "d43f51c8",
   "metadata": {
    "execution": {
     "iopub.execute_input": "2023-12-23T17:56:55.471090Z",
     "iopub.status.busy": "2023-12-23T17:56:55.470665Z",
     "iopub.status.idle": "2023-12-23T17:56:55.475093Z",
     "shell.execute_reply": "2023-12-23T17:56:55.474152Z"
    },
    "papermill": {
     "duration": 0.088517,
     "end_time": "2023-12-23T17:56:55.477050",
     "exception": false,
     "start_time": "2023-12-23T17:56:55.388533",
     "status": "completed"
    },
    "tags": []
   },
   "outputs": [],
   "source": [
    "# plot_confusion_matrix(label_test, test_set_predictions, 0.5)"
   ]
  },
  {
   "cell_type": "code",
   "execution_count": 20,
   "id": "24c75064",
   "metadata": {
    "execution": {
     "iopub.execute_input": "2023-12-23T17:56:55.641485Z",
     "iopub.status.busy": "2023-12-23T17:56:55.640572Z",
     "iopub.status.idle": "2023-12-23T17:56:55.645688Z",
     "shell.execute_reply": "2023-12-23T17:56:55.644905Z"
    },
    "papermill": {
     "duration": 0.089884,
     "end_time": "2023-12-23T17:56:55.647840",
     "exception": false,
     "start_time": "2023-12-23T17:56:55.557956",
     "status": "completed"
    },
    "tags": []
   },
   "outputs": [],
   "source": [
    "# import numpy as np\n",
    "# from sklearn.metrics import accuracy_score, confusion_matrix, roc_auc_score, roc_curve\n",
    "# import matplotlib.pyplot as plt\n",
    "# import plotly.graph_objects as go\n",
    "# from sklearn.metrics import roc_curve\n",
    "\n",
    "# def plot_roc_curve(true_y, y_prob):\n",
    "#     \"\"\"\n",
    "#     Plots an interactive ROC curve based on the probabilities and displays thresholds on hover.\n",
    "#     \"\"\"\n",
    "    \n",
    "#     fpr, tpr, thresholds = roc_curve(true_y, y_prob, drop_intermediate=False)\n",
    "\n",
    "#     fig = go.Figure()\n",
    "\n",
    "#     fig.add_trace(go.Scatter(x=fpr, y=tpr, mode='lines', name='ROC Curve', hovertext=[f'Threshold: {threshold:.2f}' for threshold in thresholds]))\n",
    "\n",
    "#     fig.update_layout(\n",
    "#         title='ROC Curve',\n",
    "#         xaxis=dict(title='False Positive Rate'),\n",
    "#         yaxis=dict(title='True Positive Rate'),\n",
    "#         hovermode='closest'\n",
    "#     )\n",
    "\n",
    "#     fig.show()"
   ]
  },
  {
   "cell_type": "code",
   "execution_count": 21,
   "id": "9fc727ca",
   "metadata": {
    "execution": {
     "iopub.execute_input": "2023-12-23T17:56:55.810670Z",
     "iopub.status.busy": "2023-12-23T17:56:55.810279Z",
     "iopub.status.idle": "2023-12-23T17:56:55.814503Z",
     "shell.execute_reply": "2023-12-23T17:56:55.813700Z"
    },
    "papermill": {
     "duration": 0.087558,
     "end_time": "2023-12-23T17:56:55.816440",
     "exception": false,
     "start_time": "2023-12-23T17:56:55.728882",
     "status": "completed"
    },
    "tags": []
   },
   "outputs": [],
   "source": [
    "# plot_roc_curve(label_test, test_set_predictions.flatten())\n",
    "#print('ROC AUC Score: ',roc_auc_score(label_test, test_set_predictions.flatten()))"
   ]
  },
  {
   "cell_type": "markdown",
   "id": "0f749dfb",
   "metadata": {
    "papermill": {
     "duration": 0.080528,
     "end_time": "2023-12-23T17:56:55.978398",
     "exception": false,
     "start_time": "2023-12-23T17:56:55.897870",
     "status": "completed"
    },
    "tags": []
   },
   "source": [
    "# TEST Data Predctions, a different approach!"
   ]
  },
  {
   "cell_type": "code",
   "execution_count": 22,
   "id": "0e6a484b",
   "metadata": {
    "execution": {
     "iopub.execute_input": "2023-12-23T17:56:56.143505Z",
     "iopub.status.busy": "2023-12-23T17:56:56.143109Z",
     "iopub.status.idle": "2023-12-23T17:56:56.147315Z",
     "shell.execute_reply": "2023-12-23T17:56:56.146458Z"
    },
    "papermill": {
     "duration": 0.088406,
     "end_time": "2023-12-23T17:56:56.149218",
     "exception": false,
     "start_time": "2023-12-23T17:56:56.060812",
     "status": "completed"
    },
    "tags": []
   },
   "outputs": [],
   "source": [
    "# test_data.info()"
   ]
  },
  {
   "cell_type": "code",
   "execution_count": 23,
   "id": "1ab3ee81",
   "metadata": {
    "execution": {
     "iopub.execute_input": "2023-12-23T17:56:56.313611Z",
     "iopub.status.busy": "2023-12-23T17:56:56.313232Z",
     "iopub.status.idle": "2023-12-23T17:56:56.317518Z",
     "shell.execute_reply": "2023-12-23T17:56:56.316592Z"
    },
    "papermill": {
     "duration": 0.089068,
     "end_time": "2023-12-23T17:56:56.319478",
     "exception": false,
     "start_time": "2023-12-23T17:56:56.230410",
     "status": "completed"
    },
    "tags": []
   },
   "outputs": [],
   "source": [
    "# test_data = pd.read_csv('/kaggle/input/daigt-proper-train-dataset/train_drcat_04.csv')\n",
    "# #test_data.drop(columns = 'generated', inplace = True)"
   ]
  },
  {
   "cell_type": "code",
   "execution_count": 24,
   "id": "051a7db4",
   "metadata": {
    "execution": {
     "iopub.execute_input": "2023-12-23T17:56:56.483747Z",
     "iopub.status.busy": "2023-12-23T17:56:56.483371Z",
     "iopub.status.idle": "2023-12-23T17:56:56.487639Z",
     "shell.execute_reply": "2023-12-23T17:56:56.486704Z"
    },
    "papermill": {
     "duration": 0.088779,
     "end_time": "2023-12-23T17:56:56.489563",
     "exception": false,
     "start_time": "2023-12-23T17:56:56.400784",
     "status": "completed"
    },
    "tags": []
   },
   "outputs": [],
   "source": [
    "# test_data_label = test_data[['essay_id','text']].copy()\n",
    "# test_data.drop(columns = ['source', 'prompt','fold'], inplace = True)\n",
    "# test_data.rename(columns = {'essay_id':'id'}, inplace = True)\n",
    "# test_data['prompt_id'] = test_data['id']"
   ]
  },
  {
   "cell_type": "code",
   "execution_count": 25,
   "id": "812fce1a",
   "metadata": {
    "execution": {
     "iopub.execute_input": "2023-12-23T17:56:56.658829Z",
     "iopub.status.busy": "2023-12-23T17:56:56.657843Z",
     "iopub.status.idle": "2023-12-23T17:56:56.662316Z",
     "shell.execute_reply": "2023-12-23T17:56:56.661400Z"
    },
    "papermill": {
     "duration": 0.094491,
     "end_time": "2023-12-23T17:56:56.664864",
     "exception": false,
     "start_time": "2023-12-23T17:56:56.570373",
     "status": "completed"
    },
    "tags": []
   },
   "outputs": [],
   "source": [
    "# len(test_data.iloc[6,1].split())\n",
    "# #test_data.iloc[6,1]"
   ]
  },
  {
   "cell_type": "code",
   "execution_count": 26,
   "id": "96abd1a6",
   "metadata": {
    "execution": {
     "iopub.execute_input": "2023-12-23T17:56:56.848927Z",
     "iopub.status.busy": "2023-12-23T17:56:56.848535Z",
     "iopub.status.idle": "2023-12-23T17:56:56.852694Z",
     "shell.execute_reply": "2023-12-23T17:56:56.851770Z"
    },
    "papermill": {
     "duration": 0.088536,
     "end_time": "2023-12-23T17:56:56.854716",
     "exception": false,
     "start_time": "2023-12-23T17:56:56.766180",
     "status": "completed"
    },
    "tags": []
   },
   "outputs": [],
   "source": [
    "# test_data.info()\n",
    "# test_data = test_data.sample(frac = 0.25)"
   ]
  },
  {
   "cell_type": "code",
   "execution_count": 27,
   "id": "429dc43a",
   "metadata": {
    "execution": {
     "iopub.execute_input": "2023-12-23T17:56:57.019057Z",
     "iopub.status.busy": "2023-12-23T17:56:57.018653Z",
     "iopub.status.idle": "2023-12-23T17:56:57.022808Z",
     "shell.execute_reply": "2023-12-23T17:56:57.021913Z"
    },
    "papermill": {
     "duration": 0.088805,
     "end_time": "2023-12-23T17:56:57.024728",
     "exception": false,
     "start_time": "2023-12-23T17:56:56.935923",
     "status": "completed"
    },
    "tags": []
   },
   "outputs": [],
   "source": [
    "# test_data.info()"
   ]
  },
  {
   "cell_type": "code",
   "execution_count": 28,
   "id": "a55274a0",
   "metadata": {
    "execution": {
     "iopub.execute_input": "2023-12-23T17:56:57.192595Z",
     "iopub.status.busy": "2023-12-23T17:56:57.191732Z",
     "iopub.status.idle": "2023-12-23T17:56:57.196771Z",
     "shell.execute_reply": "2023-12-23T17:56:57.195830Z"
    },
    "papermill": {
     "duration": 0.0909,
     "end_time": "2023-12-23T17:56:57.198810",
     "exception": false,
     "start_time": "2023-12-23T17:56:57.107910",
     "status": "completed"
    },
    "tags": []
   },
   "outputs": [],
   "source": [
    "# from nltk.tokenize import word_tokenize\n",
    "# from nltk import sent_tokenize\n",
    "\n",
    "\n",
    "# # Function to split text into sequences of 128 words\n",
    "# def split_text_into_sequences(text):\n",
    "#     words = word_tokenize(text)\n",
    "#     sequences = [words[i:i + 128] for i in range(0, len(words), 128)]\n",
    "#     return [' '.join(seq) for seq in sequences]\n",
    "\n",
    "\n",
    "# # Apply the function to the 'text' column\n",
    "# test_data['text_sequences'] = test_data['text'].apply(split_text_into_sequences)\n",
    "\n",
    "# # Explode the sequences to create rows for each sequence\n",
    "# df_exploded = test_data.explode('text_sequences')\n",
    "\n",
    "# # Drop the original 'text' column\n",
    "# df_exploded = df_exploded.drop('text', axis=1)\n",
    "\n",
    "# #Resetting test_data\n",
    "# test_data = df_exploded.copy()\n",
    "# del df_exploded\n",
    "\n",
    "\n",
    "\n"
   ]
  },
  {
   "cell_type": "code",
   "execution_count": 29,
   "id": "108892e3",
   "metadata": {
    "execution": {
     "iopub.execute_input": "2023-12-23T17:56:57.364106Z",
     "iopub.status.busy": "2023-12-23T17:56:57.363333Z",
     "iopub.status.idle": "2023-12-23T17:56:57.367599Z",
     "shell.execute_reply": "2023-12-23T17:56:57.366698Z"
    },
    "papermill": {
     "duration": 0.088603,
     "end_time": "2023-12-23T17:56:57.369482",
     "exception": false,
     "start_time": "2023-12-23T17:56:57.280879",
     "status": "completed"
    },
    "tags": []
   },
   "outputs": [],
   "source": [
    "# test_data = test_data.sample(frac = 8, replace = True)"
   ]
  },
  {
   "cell_type": "code",
   "execution_count": 30,
   "id": "0fe80165",
   "metadata": {
    "execution": {
     "iopub.execute_input": "2023-12-23T17:56:57.532888Z",
     "iopub.status.busy": "2023-12-23T17:56:57.532002Z",
     "iopub.status.idle": "2023-12-23T17:56:57.536518Z",
     "shell.execute_reply": "2023-12-23T17:56:57.535683Z"
    },
    "papermill": {
     "duration": 0.087864,
     "end_time": "2023-12-23T17:56:57.538399",
     "exception": false,
     "start_time": "2023-12-23T17:56:57.450535",
     "status": "completed"
    },
    "tags": []
   },
   "outputs": [],
   "source": [
    "# %%time\n",
    "# tqdm\n",
    "# # Apply the function to the 'text' column\n",
    "# test_data['text_sequences'] = test_data['text'].apply(split_text_into_sequences)\n",
    "\n",
    "# # Explode the sequences to create rows for each sequence\n",
    "# df_exploded = test_data.explode('text_sequences')\n",
    "\n",
    "# # Drop the original 'text' column\n",
    "# df_exploded = df_exploded.drop('text', axis=1)\n",
    "\n",
    "# # Display the resulting dataframe\n",
    "# print(df_exploded)"
   ]
  },
  {
   "cell_type": "code",
   "execution_count": 31,
   "id": "6558cae3",
   "metadata": {
    "execution": {
     "iopub.execute_input": "2023-12-23T17:56:57.701567Z",
     "iopub.status.busy": "2023-12-23T17:56:57.700770Z",
     "iopub.status.idle": "2023-12-23T17:56:57.705040Z",
     "shell.execute_reply": "2023-12-23T17:56:57.704145Z"
    },
    "papermill": {
     "duration": 0.088381,
     "end_time": "2023-12-23T17:56:57.706863",
     "exception": false,
     "start_time": "2023-12-23T17:56:57.618482",
     "status": "completed"
    },
    "tags": []
   },
   "outputs": [],
   "source": [
    "# test_data = df_exploded"
   ]
  },
  {
   "cell_type": "code",
   "execution_count": 32,
   "id": "14be876a",
   "metadata": {
    "execution": {
     "iopub.execute_input": "2023-12-23T17:56:57.871391Z",
     "iopub.status.busy": "2023-12-23T17:56:57.870627Z",
     "iopub.status.idle": "2023-12-23T17:56:57.875468Z",
     "shell.execute_reply": "2023-12-23T17:56:57.874551Z"
    },
    "papermill": {
     "duration": 0.089617,
     "end_time": "2023-12-23T17:56:57.877574",
     "exception": false,
     "start_time": "2023-12-23T17:56:57.787957",
     "status": "completed"
    },
    "tags": []
   },
   "outputs": [],
   "source": [
    "# %%time\n",
    "# # encoded_test_data = encoder_model(train_essays_01_source.iloc[:10000, 0])\n",
    "# # test_set_predictions = model.predict(encoded_test_data)\n",
    "\n",
    "\n",
    "# if len(test_data)<100:\n",
    "#     encoded_test_data = encoder_model(test_data.iloc[:, 3])\n",
    "#     test_set_predictions = model.predict(encoded_test_data)\n",
    "\n",
    "# else:\n",
    "#     batch_size = 100\n",
    "#     num_batches = len(test_data)//batch_size\n",
    "\n",
    "#     test_data_batches = np.array_split(test_data, num_batches)\n",
    "#     test_set_predictions_batch_list = []\n",
    "\n",
    "#     for batch in test_data_batches:\n",
    "#         encoded_test_data_batch = encoder_model(batch.iloc[:, 3])\n",
    "#         test_set_predictions_batch = model.predict(encoded_test_data_batch)\n",
    "#         test_set_predictions_batch_list.append(test_set_predictions_batch)\n",
    "\n",
    "#     test_set_predictions = np.concatenate(test_set_predictions_batch_list, axis = 0)"
   ]
  },
  {
   "cell_type": "code",
   "execution_count": 33,
   "id": "672d97af",
   "metadata": {
    "execution": {
     "iopub.execute_input": "2023-12-23T17:56:58.043197Z",
     "iopub.status.busy": "2023-12-23T17:56:58.042122Z",
     "iopub.status.idle": "2023-12-23T17:56:58.047975Z",
     "shell.execute_reply": "2023-12-23T17:56:58.047023Z"
    },
    "papermill": {
     "duration": 0.090326,
     "end_time": "2023-12-23T17:56:58.050048",
     "exception": false,
     "start_time": "2023-12-23T17:56:57.959722",
     "status": "completed"
    },
    "tags": []
   },
   "outputs": [],
   "source": [
    "# batch.iloc[:, 3]"
   ]
  },
  {
   "cell_type": "code",
   "execution_count": 34,
   "id": "e63d7e74",
   "metadata": {
    "execution": {
     "iopub.execute_input": "2023-12-23T17:56:58.221361Z",
     "iopub.status.busy": "2023-12-23T17:56:58.220965Z",
     "iopub.status.idle": "2023-12-23T17:56:58.225626Z",
     "shell.execute_reply": "2023-12-23T17:56:58.224587Z"
    },
    "papermill": {
     "duration": 0.09206,
     "end_time": "2023-12-23T17:56:58.227767",
     "exception": false,
     "start_time": "2023-12-23T17:56:58.135707",
     "status": "completed"
    },
    "tags": []
   },
   "outputs": [],
   "source": [
    "# test_set_predictions.flatten()"
   ]
  },
  {
   "cell_type": "code",
   "execution_count": 35,
   "id": "d819473c",
   "metadata": {
    "execution": {
     "iopub.execute_input": "2023-12-23T17:56:58.396407Z",
     "iopub.status.busy": "2023-12-23T17:56:58.396031Z",
     "iopub.status.idle": "2023-12-23T17:56:58.400349Z",
     "shell.execute_reply": "2023-12-23T17:56:58.399437Z"
    },
    "papermill": {
     "duration": 0.089283,
     "end_time": "2023-12-23T17:56:58.402439",
     "exception": false,
     "start_time": "2023-12-23T17:56:58.313156",
     "status": "completed"
    },
    "tags": []
   },
   "outputs": [],
   "source": [
    "# test_data['prediction'] = test_set_predictions.flatten()"
   ]
  },
  {
   "cell_type": "code",
   "execution_count": 36,
   "id": "5c72d0d2",
   "metadata": {
    "execution": {
     "iopub.execute_input": "2023-12-23T17:56:58.567690Z",
     "iopub.status.busy": "2023-12-23T17:56:58.566870Z",
     "iopub.status.idle": "2023-12-23T17:56:58.571169Z",
     "shell.execute_reply": "2023-12-23T17:56:58.570201Z"
    },
    "papermill": {
     "duration": 0.089293,
     "end_time": "2023-12-23T17:56:58.573180",
     "exception": false,
     "start_time": "2023-12-23T17:56:58.483887",
     "status": "completed"
    },
    "tags": []
   },
   "outputs": [],
   "source": [
    "# test_data.head()"
   ]
  },
  {
   "cell_type": "code",
   "execution_count": 37,
   "id": "02bbe8d2",
   "metadata": {
    "execution": {
     "iopub.execute_input": "2023-12-23T17:56:58.738872Z",
     "iopub.status.busy": "2023-12-23T17:56:58.737909Z",
     "iopub.status.idle": "2023-12-23T17:56:58.742465Z",
     "shell.execute_reply": "2023-12-23T17:56:58.741480Z"
    },
    "papermill": {
     "duration": 0.08959,
     "end_time": "2023-12-23T17:56:58.744565",
     "exception": false,
     "start_time": "2023-12-23T17:56:58.654975",
     "status": "completed"
    },
    "tags": []
   },
   "outputs": [],
   "source": [
    "# test_data['prediction'] = test_set_predictions.flatten()\n",
    "\n",
    "# test_data_agg = test_data.groupby(['id','prompt_id','label']).aggregate({'prediction':['max', 'min', 'mean', 'first']})\n",
    "\n",
    "# test_data_agg.reset_index(inplace = True)"
   ]
  },
  {
   "cell_type": "code",
   "execution_count": 38,
   "id": "83e4d019",
   "metadata": {
    "execution": {
     "iopub.execute_input": "2023-12-23T17:56:58.911096Z",
     "iopub.status.busy": "2023-12-23T17:56:58.910091Z",
     "iopub.status.idle": "2023-12-23T17:56:58.914690Z",
     "shell.execute_reply": "2023-12-23T17:56:58.913765Z"
    },
    "papermill": {
     "duration": 0.089566,
     "end_time": "2023-12-23T17:56:58.916711",
     "exception": false,
     "start_time": "2023-12-23T17:56:58.827145",
     "status": "completed"
    },
    "tags": []
   },
   "outputs": [],
   "source": [
    "# test_data_agg.reset_index(inplace = True)"
   ]
  },
  {
   "cell_type": "code",
   "execution_count": 39,
   "id": "b26edd5d",
   "metadata": {
    "execution": {
     "iopub.execute_input": "2023-12-23T17:56:59.085163Z",
     "iopub.status.busy": "2023-12-23T17:56:59.084399Z",
     "iopub.status.idle": "2023-12-23T17:56:59.088911Z",
     "shell.execute_reply": "2023-12-23T17:56:59.087917Z"
    },
    "papermill": {
     "duration": 0.091623,
     "end_time": "2023-12-23T17:56:59.090993",
     "exception": false,
     "start_time": "2023-12-23T17:56:58.999370",
     "status": "completed"
    },
    "tags": []
   },
   "outputs": [],
   "source": [
    "# pred_custom = []\n",
    "# for index,row in test_data_agg.iterrows():\n",
    "    \n",
    "#     if row['prediction']['first'] >= 0.5:\n",
    "#         pred_custom.append(row['prediction']['max'])\n",
    "#     else:\n",
    "#         pred_custom.append(row['prediction']['min'])\n",
    "    "
   ]
  },
  {
   "cell_type": "code",
   "execution_count": 40,
   "id": "2203fe79",
   "metadata": {
    "execution": {
     "iopub.execute_input": "2023-12-23T17:56:59.256202Z",
     "iopub.status.busy": "2023-12-23T17:56:59.255692Z",
     "iopub.status.idle": "2023-12-23T17:56:59.260027Z",
     "shell.execute_reply": "2023-12-23T17:56:59.259097Z"
    },
    "papermill": {
     "duration": 0.088891,
     "end_time": "2023-12-23T17:56:59.262011",
     "exception": false,
     "start_time": "2023-12-23T17:56:59.173120",
     "status": "completed"
    },
    "tags": []
   },
   "outputs": [],
   "source": [
    "# test_data_agg['custom'] = pred_custom"
   ]
  },
  {
   "cell_type": "code",
   "execution_count": 41,
   "id": "68810e71",
   "metadata": {
    "execution": {
     "iopub.execute_input": "2023-12-23T17:56:59.426736Z",
     "iopub.status.busy": "2023-12-23T17:56:59.426351Z",
     "iopub.status.idle": "2023-12-23T17:56:59.430595Z",
     "shell.execute_reply": "2023-12-23T17:56:59.429623Z"
    },
    "papermill": {
     "duration": 0.089174,
     "end_time": "2023-12-23T17:56:59.432624",
     "exception": false,
     "start_time": "2023-12-23T17:56:59.343450",
     "status": "completed"
    },
    "tags": []
   },
   "outputs": [],
   "source": [
    "# test_data_agg.head()"
   ]
  },
  {
   "cell_type": "code",
   "execution_count": 42,
   "id": "8077033b",
   "metadata": {
    "execution": {
     "iopub.execute_input": "2023-12-23T17:56:59.597110Z",
     "iopub.status.busy": "2023-12-23T17:56:59.596711Z",
     "iopub.status.idle": "2023-12-23T17:56:59.601050Z",
     "shell.execute_reply": "2023-12-23T17:56:59.600094Z"
    },
    "papermill": {
     "duration": 0.088965,
     "end_time": "2023-12-23T17:56:59.603105",
     "exception": false,
     "start_time": "2023-12-23T17:56:59.514140",
     "status": "completed"
    },
    "tags": []
   },
   "outputs": [],
   "source": [
    "#print('ROC AUC Score: ',roc_auc_score(label_test, test_set_predictions.flatten()))"
   ]
  },
  {
   "cell_type": "code",
   "execution_count": 43,
   "id": "56933a6b",
   "metadata": {
    "execution": {
     "iopub.execute_input": "2023-12-23T17:56:59.768513Z",
     "iopub.status.busy": "2023-12-23T17:56:59.767595Z",
     "iopub.status.idle": "2023-12-23T17:56:59.772539Z",
     "shell.execute_reply": "2023-12-23T17:56:59.771707Z"
    },
    "papermill": {
     "duration": 0.089483,
     "end_time": "2023-12-23T17:56:59.774496",
     "exception": false,
     "start_time": "2023-12-23T17:56:59.685013",
     "status": "completed"
    },
    "tags": []
   },
   "outputs": [],
   "source": [
    "# for i in range(3,8):\n",
    "#     print('ROC with metric:',test_data_agg.columns[i])\n",
    "#     print('ROC AUC Score: ',roc_auc_score(test_data_agg.iloc[:,2], test_data_agg.iloc[:,i]))"
   ]
  },
  {
   "cell_type": "code",
   "execution_count": 44,
   "id": "85f26207",
   "metadata": {
    "execution": {
     "iopub.execute_input": "2023-12-23T17:56:59.939419Z",
     "iopub.status.busy": "2023-12-23T17:56:59.939062Z",
     "iopub.status.idle": "2023-12-23T17:56:59.943070Z",
     "shell.execute_reply": "2023-12-23T17:56:59.942189Z"
    },
    "papermill": {
     "duration": 0.089283,
     "end_time": "2023-12-23T17:56:59.945149",
     "exception": false,
     "start_time": "2023-12-23T17:56:59.855866",
     "status": "completed"
    },
    "tags": []
   },
   "outputs": [],
   "source": [
    "# (0.9824285407738714 - 0.9667853753352559)*100"
   ]
  },
  {
   "cell_type": "code",
   "execution_count": null,
   "id": "10d5db0f",
   "metadata": {
    "papermill": {
     "duration": 0.083147,
     "end_time": "2023-12-23T17:57:00.110402",
     "exception": false,
     "start_time": "2023-12-23T17:57:00.027255",
     "status": "completed"
    },
    "tags": []
   },
   "outputs": [],
   "source": []
  }
 ],
 "metadata": {
  "kaggle": {
   "accelerator": "gpu",
   "dataSources": [
    {
     "databundleVersionId": 6888007,
     "sourceId": 61542,
     "sourceType": "competition"
    },
    {
     "datasetId": 3942644,
     "sourceId": 6890527,
     "sourceType": "datasetVersion"
    },
    {
     "datasetId": 3961875,
     "sourceId": 6971638,
     "sourceType": "datasetVersion"
    },
    {
     "modelInstanceId": 1910,
     "sourceId": 2644,
     "sourceType": "modelInstanceVersion"
    },
    {
     "modelInstanceId": 2180,
     "sourceId": 2938,
     "sourceType": "modelInstanceVersion"
    }
   ],
   "dockerImageVersionId": 30627,
   "isGpuEnabled": true,
   "isInternetEnabled": false,
   "language": "python",
   "sourceType": "notebook"
  },
  "kernelspec": {
   "display_name": "Python 3",
   "language": "python",
   "name": "python3"
  },
  "language_info": {
   "codemirror_mode": {
    "name": "ipython",
    "version": 3
   },
   "file_extension": ".py",
   "mimetype": "text/x-python",
   "name": "python",
   "nbconvert_exporter": "python",
   "pygments_lexer": "ipython3",
   "version": "3.10.12"
  },
  "papermill": {
   "default_parameters": {},
   "duration": 394.821504,
   "end_time": "2023-12-23T17:57:03.088430",
   "environment_variables": {},
   "exception": null,
   "input_path": "__notebook__.ipynb",
   "output_path": "__notebook__.ipynb",
   "parameters": {},
   "start_time": "2023-12-23T17:50:28.266926",
   "version": "2.4.0"
  }
 },
 "nbformat": 4,
 "nbformat_minor": 5
}
