{
 "cells": [
  {
   "cell_type": "code",
   "execution_count": 1,
   "id": "bdbbcb10",
   "metadata": {
    "_cell_guid": "b1076dfc-b9ad-4769-8c92-a6c4dae69d19",
    "_uuid": "8f2839f25d086af736a60e9eeb907d3b93b6e0e5",
    "execution": {
     "iopub.execute_input": "2024-01-12T14:30:27.088763Z",
     "iopub.status.busy": "2024-01-12T14:30:27.088142Z",
     "iopub.status.idle": "2024-01-12T14:30:27.808015Z",
     "shell.execute_reply": "2024-01-12T14:30:27.807123Z"
    },
    "papermill": {
     "duration": 0.74259,
     "end_time": "2024-01-12T14:30:27.810191",
     "exception": false,
     "start_time": "2024-01-12T14:30:27.067601",
     "status": "completed"
    },
    "tags": []
   },
   "outputs": [
    {
     "name": "stdout",
     "output_type": "stream",
     "text": [
      "/kaggle/input/daigt-proper-train-dataset/train_drcat_03.csv\n",
      "/kaggle/input/daigt-proper-train-dataset/train_drcat_02.csv\n",
      "/kaggle/input/daigt-proper-train-dataset/train_drcat_04.csv\n",
      "/kaggle/input/daigt-proper-train-dataset/train_drcat_01.csv\n",
      "/kaggle/input/bert/tensorflow2/en-uncased-preprocess/3/saved_model.pb\n",
      "/kaggle/input/bert/tensorflow2/en-uncased-preprocess/3/keras_metadata.pb\n",
      "/kaggle/input/bert/tensorflow2/en-uncased-preprocess/3/assets/vocab.txt\n",
      "/kaggle/input/bert/tensorflow2/en-uncased-preprocess/3/variables/variables.index\n",
      "/kaggle/input/bert/tensorflow2/en-uncased-preprocess/3/variables/variables.data-00000-of-00001\n",
      "/kaggle/input/bert/tensorflow2/bert-en-uncased-l-12-h-768-a-12/2/saved_model.pb\n",
      "/kaggle/input/bert/tensorflow2/bert-en-uncased-l-12-h-768-a-12/2/keras_metadata.pb\n",
      "/kaggle/input/bert/tensorflow2/bert-en-uncased-l-12-h-768-a-12/2/assets/vocab.txt\n",
      "/kaggle/input/bert/tensorflow2/bert-en-uncased-l-12-h-768-a-12/2/variables/variables.index\n",
      "/kaggle/input/bert/tensorflow2/bert-en-uncased-l-12-h-768-a-12/2/variables/variables.data-00000-of-00001\n",
      "/kaggle/input/llm-detect-ai-generated-text/sample_submission.csv\n",
      "/kaggle/input/llm-detect-ai-generated-text/train_prompts.csv\n",
      "/kaggle/input/llm-detect-ai-generated-text/test_essays.csv\n",
      "/kaggle/input/llm-detect-ai-generated-text/train_essays.csv\n",
      "/kaggle/input/llm-7-prompt-training-dataset/train_essays_RDizzl3_seven_v2.csv\n",
      "/kaggle/input/llm-7-prompt-training-dataset/train_essays_7_prompts_v2.csv\n",
      "/kaggle/input/llm-7-prompt-training-dataset/train_essays_7_prompts.csv\n",
      "/kaggle/input/llm-7-prompt-training-dataset/train_essays_RDizzl3_seven_v1.csv\n"
     ]
    }
   ],
   "source": [
    "# This Python 3 environment comes with many helpful analytics libraries installed\n",
    "# It is defined by the kaggle/python Docker image: https://github.com/kaggle/docker-python\n",
    "# For example, here's several helpful packages to load\n",
    "\n",
    "import numpy as np # linear algebra\n",
    "import pandas as pd # data processing, CSV file I/O (e.g. pd.read_csv)\n",
    "\n",
    "# Input data files are available in the read-only \"../input/\" directory\n",
    "# For example, running this (by clicking run or pressing Shift+Enter) will list all files under the input directory\n",
    "\n",
    "import os\n",
    "for dirname, _, filenames in os.walk('/kaggle/input'):\n",
    "    for filename in filenames:\n",
    "        print(os.path.join(dirname, filename))\n",
    "\n",
    "# You can write up to 20GB to the current directory (/kaggle/working/) that gets preserved as output when you create a version using \"Save & Run All\" \n",
    "# You can also write temporary files to /kaggle/temp/, but they won't be saved outside of the current session"
   ]
  },
  {
   "cell_type": "code",
   "execution_count": 2,
   "id": "1ffad626",
   "metadata": {
    "execution": {
     "iopub.execute_input": "2024-01-12T14:30:27.838503Z",
     "iopub.status.busy": "2024-01-12T14:30:27.838051Z",
     "iopub.status.idle": "2024-01-12T14:30:39.096550Z",
     "shell.execute_reply": "2024-01-12T14:30:39.095655Z"
    },
    "papermill": {
     "duration": 11.275115,
     "end_time": "2024-01-12T14:30:39.098998",
     "exception": false,
     "start_time": "2024-01-12T14:30:27.823883",
     "status": "completed"
    },
    "tags": []
   },
   "outputs": [
    {
     "name": "stderr",
     "output_type": "stream",
     "text": [
      "/opt/conda/lib/python3.10/site-packages/scipy/__init__.py:146: UserWarning: A NumPy version >=1.16.5 and <1.23.0 is required for this version of SciPy (detected version 1.24.3\n",
      "  warnings.warn(f\"A NumPy version >={np_minversion} and <{np_maxversion}\"\n"
     ]
    }
   ],
   "source": [
    "import tensorflow_text as text\n",
    "import tensorflow_hub as hub\n",
    "import tensorflow as tf\n",
    "import random\n",
    "import tqdm\n",
    "from tqdm import tqdm\n",
    "import copy"
   ]
  },
  {
   "cell_type": "markdown",
   "id": "3e09971d",
   "metadata": {
    "papermill": {
     "duration": 0.012939,
     "end_time": "2024-01-12T14:30:39.125606",
     "exception": false,
     "start_time": "2024-01-12T14:30:39.112667",
     "status": "completed"
    },
    "tags": []
   },
   "source": [
    "Prepara Data from source: llm-7-prompt-training-dataset"
   ]
  },
  {
   "cell_type": "code",
   "execution_count": 3,
   "id": "f8519968",
   "metadata": {
    "execution": {
     "iopub.execute_input": "2024-01-12T14:30:39.153585Z",
     "iopub.status.busy": "2024-01-12T14:30:39.152710Z",
     "iopub.status.idle": "2024-01-12T14:30:39.969473Z",
     "shell.execute_reply": "2024-01-12T14:30:39.968622Z"
    },
    "papermill": {
     "duration": 0.833141,
     "end_time": "2024-01-12T14:30:39.971748",
     "exception": false,
     "start_time": "2024-01-12T14:30:39.138607",
     "status": "completed"
    },
    "tags": []
   },
   "outputs": [],
   "source": [
    "train_essays_01_source = pd.read_csv('/kaggle/input/llm-7-prompt-training-dataset/train_essays_7_prompts_v2.csv')\n",
    "\n",
    "#Slicing the dataset with different labels\n",
    "train_essays_01_source_label_1 = train_essays_01_source[train_essays_01_source['label'] == 1].reset_index(drop = True)  \n",
    "train_essays_01_source_label_0 = train_essays_01_source[train_essays_01_source['label'] == 0].reset_index(drop = True)\n",
    "\n",
    "#Set number of data points required from each label\n",
    "#Creating new data set with data sampled from each labels\n",
    "label_1_count = 1638 #1638 data points available\n",
    "label_0_count = 13712 #13712 data points available\n",
    "\n",
    "essay_dataset_raw = pd.concat([train_essays_01_source_label_1.sample(n= label_1_count, random_state = 36, axis = 0), \n",
    "                         train_essays_01_source_label_0.sample(n= label_0_count, random_state = 36, axis = 0)], \n",
    "                        axis = 0, sort = True).sample(frac = 1)"
   ]
  },
  {
   "cell_type": "code",
   "execution_count": 4,
   "id": "debb506e",
   "metadata": {
    "execution": {
     "iopub.execute_input": "2024-01-12T14:30:40.000153Z",
     "iopub.status.busy": "2024-01-12T14:30:39.999859Z",
     "iopub.status.idle": "2024-01-12T14:30:41.261193Z",
     "shell.execute_reply": "2024-01-12T14:30:41.260401Z"
    },
    "papermill": {
     "duration": 1.278083,
     "end_time": "2024-01-12T14:30:41.263387",
     "exception": false,
     "start_time": "2024-01-12T14:30:39.985304",
     "status": "completed"
    },
    "tags": []
   },
   "outputs": [],
   "source": [
    "from nltk.tokenize import word_tokenize\n",
    "from nltk import sent_tokenize\n",
    "import re\n",
    "\n",
    "\n",
    "# Function to split text into sequences of 128 words\n",
    "def split_text_into_sequences(text):\n",
    "    words = word_tokenize(text)\n",
    "    sequences = [words[i:i + 128] for i in range(0, len(words), 128)]\n",
    "    return [' '.join(seq) for seq in sequences]\n",
    "\n",
    "\n",
    "def get_df_with_128_length_sequences(essay_dataset_raw):\n",
    "    #essay_dataset_raw.head()\n",
    "    essay_dataset_raw['text_seq_list'] = essay_dataset_raw['text'].map(split_text_into_sequences)\n",
    "\n",
    "    essay_dataset_raw.drop(columns = ['text'], inplace = True)\n",
    "    essay_dataset_raw = essay_dataset_raw.explode('text_seq_list')\n",
    "\n",
    "    essay_dataset_raw.rename(columns = {'text_seq_list':'text'}, inplace = True)\n",
    "    \n",
    "    return essay_dataset_raw\n",
    "\n",
    "def remove_multiple_whitespace(text):\n",
    "    # Replace multiple whitespaces and tabs with a single whitespace\n",
    "    cleaned_text = re.sub(r'\\s+', ' ', text)\n",
    "    return cleaned_text"
   ]
  },
  {
   "cell_type": "code",
   "execution_count": 5,
   "id": "65ee8951",
   "metadata": {
    "execution": {
     "iopub.execute_input": "2024-01-12T14:30:41.297303Z",
     "iopub.status.busy": "2024-01-12T14:30:41.296929Z",
     "iopub.status.idle": "2024-01-12T14:30:57.856913Z",
     "shell.execute_reply": "2024-01-12T14:30:57.856149Z"
    },
    "papermill": {
     "duration": 16.578327,
     "end_time": "2024-01-12T14:30:57.859298",
     "exception": false,
     "start_time": "2024-01-12T14:30:41.280971",
     "status": "completed"
    },
    "tags": []
   },
   "outputs": [],
   "source": [
    "#Bert encoder\n",
    "\n",
    "text_input = tf.keras.layers.Input(shape=(), dtype=tf.string)\n",
    "preprocessor = hub.KerasLayer(\n",
    "    \"https://kaggle.com/models/tensorflow/bert/frameworks/TensorFlow2/variations/en-uncased-preprocess/versions/3\")\n",
    "encoder_inputs = preprocessor(text_input)\n",
    "encoder = hub.KerasLayer(\n",
    "    \"https://www.kaggle.com/models/tensorflow/bert/frameworks/TensorFlow2/variations/bert-en-uncased-l-12-h-768-a-12/versions/2\",trainable=False)\n",
    "outputs = encoder(encoder_inputs)\n",
    "pooled_output = outputs[\"pooled_output\"]      # [batch_size, 768].\n",
    "sequence_output = outputs[\"sequence_output\"]  # [batch_size, seq_length, 768]."
   ]
  },
  {
   "cell_type": "code",
   "execution_count": 6,
   "id": "a04d8eca",
   "metadata": {
    "execution": {
     "iopub.execute_input": "2024-01-12T14:30:57.889011Z",
     "iopub.status.busy": "2024-01-12T14:30:57.888472Z",
     "iopub.status.idle": "2024-01-12T14:30:57.896780Z",
     "shell.execute_reply": "2024-01-12T14:30:57.895915Z"
    },
    "papermill": {
     "duration": 0.025891,
     "end_time": "2024-01-12T14:30:57.898702",
     "exception": false,
     "start_time": "2024-01-12T14:30:57.872811",
     "status": "completed"
    },
    "tags": []
   },
   "outputs": [],
   "source": [
    "encoder_model = tf.keras.Model(inputs=text_input, outputs=sequence_output)"
   ]
  },
  {
   "cell_type": "code",
   "execution_count": 7,
   "id": "f003588d",
   "metadata": {
    "execution": {
     "iopub.execute_input": "2024-01-12T14:30:57.925998Z",
     "iopub.status.busy": "2024-01-12T14:30:57.925715Z",
     "iopub.status.idle": "2024-01-12T14:30:57.929435Z",
     "shell.execute_reply": "2024-01-12T14:30:57.928589Z"
    },
    "papermill": {
     "duration": 0.019541,
     "end_time": "2024-01-12T14:30:57.931338",
     "exception": false,
     "start_time": "2024-01-12T14:30:57.911797",
     "status": "completed"
    },
    "tags": []
   },
   "outputs": [],
   "source": [
    "#del model"
   ]
  },
  {
   "cell_type": "code",
   "execution_count": 8,
   "id": "dcc0ca60",
   "metadata": {
    "execution": {
     "iopub.execute_input": "2024-01-12T14:30:57.958861Z",
     "iopub.status.busy": "2024-01-12T14:30:57.958616Z",
     "iopub.status.idle": "2024-01-12T14:30:58.195555Z",
     "shell.execute_reply": "2024-01-12T14:30:58.194738Z"
    },
    "papermill": {
     "duration": 0.253361,
     "end_time": "2024-01-12T14:30:58.197885",
     "exception": false,
     "start_time": "2024-01-12T14:30:57.944524",
     "status": "completed"
    },
    "tags": []
   },
   "outputs": [],
   "source": [
    "import tensorflow as tf\n",
    "from tensorflow.keras import layers\n",
    "\n",
    "\n",
    "# Input text\n",
    "text_input = tf.keras.layers.Input(shape=(), dtype=tf.string)\n",
    "\n",
    "#Text Embeddings generation with Bert\n",
    "input_embeddings = encoder_model(text_input)\n",
    "\n",
    "# Apply pooling right after the input layer\n",
    "pooled_input = layers.GlobalMaxPooling1D()(input_embeddings)\n",
    "\n",
    "# Reshape pooled input to add singleton dimension\n",
    "query = tf.expand_dims(pooled_input, axis=1)\n",
    "\n",
    "# Multi-Head Attention layer with pooling layer output as key and input embedding vectors as values\n",
    "num_heads = 12\n",
    "key_dim = 64  # Adjust based on experimentation\n",
    "attention_output = layers.MultiHeadAttention(num_heads=num_heads, key_dim=key_dim)(query, input_embeddings)\n",
    "\n",
    "# Global average pooling\n",
    "global_pool = layers.GlobalAveragePooling1D()(attention_output)\n",
    "\n",
    "# Dropout to prevent overfitting\n",
    "dropout = layers.Dropout(0.2)(global_pool)\n",
    "\n",
    "# Dense output layer with 1 unit and sigmoid activation (for binary classification)\n",
    "output = layers.Dense(1, activation=\"sigmoid\")(dropout)\n",
    "\n",
    "# Create the model\n",
    "model = tf.keras.Model(inputs=text_input, outputs=output)"
   ]
  },
  {
   "cell_type": "code",
   "execution_count": 9,
   "id": "062198c2",
   "metadata": {
    "execution": {
     "iopub.execute_input": "2024-01-12T14:30:58.226325Z",
     "iopub.status.busy": "2024-01-12T14:30:58.226015Z",
     "iopub.status.idle": "2024-01-12T14:30:58.266927Z",
     "shell.execute_reply": "2024-01-12T14:30:58.266085Z"
    },
    "papermill": {
     "duration": 0.05803,
     "end_time": "2024-01-12T14:30:58.269628",
     "exception": false,
     "start_time": "2024-01-12T14:30:58.211598",
     "status": "completed"
    },
    "tags": []
   },
   "outputs": [
    {
     "name": "stdout",
     "output_type": "stream",
     "text": [
      "Model: \"model_1\"\n",
      "__________________________________________________________________________________________________\n",
      " Layer (type)                Output Shape                 Param #   Connected to                  \n",
      "==================================================================================================\n",
      " input_2 (InputLayer)        [(None,)]                    0         []                            \n",
      "                                                                                                  \n",
      " model (Functional)          (None, 128, 768)             1094822   ['input_2[0][0]']             \n",
      "                                                          41                                      \n",
      "                                                                                                  \n",
      " global_max_pooling1d (Glob  (None, 768)                  0         ['model[0][0]']               \n",
      " alMaxPooling1D)                                                                                  \n",
      "                                                                                                  \n",
      " tf.expand_dims (TFOpLambda  (None, 1, 768)               0         ['global_max_pooling1d[0][0]']\n",
      " )                                                                                                \n",
      "                                                                                                  \n",
      " multi_head_attention (Mult  (None, 1, 768)               2362368   ['tf.expand_dims[0][0]',      \n",
      " iHeadAttention)                                                     'model[0][0]']               \n",
      "                                                                                                  \n",
      " global_average_pooling1d (  (None, 768)                  0         ['multi_head_attention[0][0]']\n",
      " GlobalAveragePooling1D)                                                                          \n",
      "                                                                                                  \n",
      " dropout (Dropout)           (None, 768)                  0         ['global_average_pooling1d[0][\n",
      "                                                                    0]']                          \n",
      "                                                                                                  \n",
      " dense (Dense)               (None, 1)                    769       ['dropout[0][0]']             \n",
      "                                                                                                  \n",
      "==================================================================================================\n",
      "Total params: 111845378 (426.66 MB)\n",
      "Trainable params: 2363137 (9.01 MB)\n",
      "Non-trainable params: 109482241 (417.64 MB)\n",
      "__________________________________________________________________________________________________\n"
     ]
    }
   ],
   "source": [
    "model.summary()"
   ]
  },
  {
   "cell_type": "code",
   "execution_count": 10,
   "id": "2351a964",
   "metadata": {
    "execution": {
     "iopub.execute_input": "2024-01-12T14:30:58.301791Z",
     "iopub.status.busy": "2024-01-12T14:30:58.301498Z",
     "iopub.status.idle": "2024-01-12T14:32:16.732793Z",
     "shell.execute_reply": "2024-01-12T14:32:16.732022Z"
    },
    "papermill": {
     "duration": 78.450066,
     "end_time": "2024-01-12T14:32:16.735201",
     "exception": false,
     "start_time": "2024-01-12T14:30:58.285135",
     "status": "completed"
    },
    "tags": []
   },
   "outputs": [],
   "source": [
    "#essay_dataset_raw['text'] = essay_dataset_raw['text'].apply(remove_multiple_whitespace)\n",
    "essay_dataset_raw = get_df_with_128_length_sequences(essay_dataset_raw)\n",
    "essay_dataset_raw = essay_dataset_raw.sample(frac = 1)\n",
    "\n",
    "# essay_dataset_test = pd.read_csv('/kaggle/input/daigt-proper-train-dataset/train_drcat_04.csv')\n",
    "# essay_dataset_test = essay_dataset_test.sample(frac = 0.1)\n",
    "\n",
    "# essay_dataset_test = get_df_with_128_length_sequences(essay_dataset_test)"
   ]
  },
  {
   "cell_type": "code",
   "execution_count": 11,
   "id": "500c7edc",
   "metadata": {
    "execution": {
     "iopub.execute_input": "2024-01-12T14:32:16.812701Z",
     "iopub.status.busy": "2024-01-12T14:32:16.811889Z",
     "iopub.status.idle": "2024-01-12T14:32:16.819094Z",
     "shell.execute_reply": "2024-01-12T14:32:16.818425Z"
    },
    "papermill": {
     "duration": 0.026131,
     "end_time": "2024-01-12T14:32:16.821055",
     "exception": false,
     "start_time": "2024-01-12T14:32:16.794924",
     "status": "completed"
    },
    "tags": []
   },
   "outputs": [],
   "source": [
    "# essay_test, label_test = essay_dataset_test.iloc[:,5], essay_dataset_test.iloc[:,1]\n",
    "\n",
    "from tensorflow.keras.optimizers.schedules import PolynomialDecay\n",
    "from tensorflow.keras.optimizers import Adam\n",
    "\n",
    "def get_optimizer(batch_no, lr_rate):\n",
    "    # The number of training steps is the number of samples in the dataset, divided by the batch size then multiplied\n",
    "    # by the total number of epochs. Note that the tf_train_dataset here is a batched tf.data.Dataset,\n",
    "    # not the original Hugging Face Dataset, so its len() is already num_samples // batch_size.\n",
    "    num_train_steps = len(essay_batch)//batch_batch_size * num_epochs\n",
    "    lr_scheduler = PolynomialDecay(\n",
    "        initial_learning_rate=lr_rate*pow(2,-batch_no-1), end_learning_rate=lr_rate*pow(2,-batch_no-2), decay_steps=num_train_steps\n",
    "    )\n",
    "    \n",
    "    opt = Adam(learning_rate=lr_scheduler)\n",
    "    return opt"
   ]
  },
  {
   "cell_type": "code",
   "execution_count": 12,
   "id": "a7fc6c69",
   "metadata": {
    "execution": {
     "iopub.execute_input": "2024-01-12T14:32:16.853655Z",
     "iopub.status.busy": "2024-01-12T14:32:16.853345Z",
     "iopub.status.idle": "2024-01-12T14:53:10.132543Z",
     "shell.execute_reply": "2024-01-12T14:53:10.131652Z"
    },
    "papermill": {
     "duration": 1253.566998,
     "end_time": "2024-01-12T14:53:10.403774",
     "exception": false,
     "start_time": "2024-01-12T14:32:16.836776",
     "status": "completed"
    },
    "tags": []
   },
   "outputs": [
    {
     "name": "stderr",
     "output_type": "stream",
     "text": [
      "/opt/conda/lib/python3.10/site-packages/numpy/core/fromnumeric.py:57: FutureWarning: 'Series.swapaxes' is deprecated and will be removed in a future version. Please use 'Series.transpose' instead.\n",
      "  return bound(*args, **kwds)\n",
      "  0%|          | 0/4 [00:00<?, ?it/s]"
     ]
    },
    {
     "name": "stdout",
     "output_type": "stream",
     "text": [
      "Epoch 1/5\n",
      "282/282 [==============================] - 114s 365ms/step - loss: 0.1996 - accuracy: 0.9313 - auc: 0.9106 - val_loss: 0.0741 - val_accuracy: 0.9773 - val_auc: 0.9827\n",
      "Epoch 2/5\n",
      "282/282 [==============================] - 103s 365ms/step - loss: 0.0590 - accuracy: 0.9814 - auc: 0.9895 - val_loss: 0.0519 - val_accuracy: 0.9837 - val_auc: 0.9894\n",
      "Epoch 3/5\n",
      "282/282 [==============================] - 102s 363ms/step - loss: 0.0388 - accuracy: 0.9871 - auc: 0.9957 - val_loss: 0.0525 - val_accuracy: 0.9828 - val_auc: 0.9922\n"
     ]
    },
    {
     "name": "stderr",
     "output_type": "stream",
     "text": [
      " 25%|██▌       | 1/4 [05:18<15:55, 318.65s/it]"
     ]
    },
    {
     "name": "stdout",
     "output_type": "stream",
     "text": [
      "Epoch 1/5\n",
      "282/282 [==============================] - 107s 364ms/step - loss: 0.0553 - accuracy: 0.9828 - auc: 0.9885 - val_loss: 0.0500 - val_accuracy: 0.9822 - val_auc: 0.9915\n",
      "Epoch 2/5\n",
      "282/282 [==============================] - 103s 364ms/step - loss: 0.0479 - accuracy: 0.9847 - auc: 0.9923 - val_loss: 0.0478 - val_accuracy: 0.9831 - val_auc: 0.9925\n",
      "Epoch 3/5\n",
      "282/282 [==============================] - 102s 363ms/step - loss: 0.0418 - accuracy: 0.9873 - auc: 0.9938 - val_loss: 0.0444 - val_accuracy: 0.9852 - val_auc: 0.9931\n"
     ]
    },
    {
     "name": "stderr",
     "output_type": "stream",
     "text": [
      " 50%|█████     | 2/4 [10:30<10:29, 314.60s/it]"
     ]
    },
    {
     "name": "stdout",
     "output_type": "stream",
     "text": [
      "Epoch 1/5\n",
      "282/282 [==============================] - 106s 365ms/step - loss: 0.0436 - accuracy: 0.9870 - auc: 0.9926 - val_loss: 0.0426 - val_accuracy: 0.9853 - val_auc: 0.9923\n",
      "Epoch 2/5\n",
      "282/282 [==============================] - 102s 363ms/step - loss: 0.0415 - accuracy: 0.9868 - auc: 0.9934 - val_loss: 0.0413 - val_accuracy: 0.9858 - val_auc: 0.9930\n",
      "Epoch 3/5\n",
      "282/282 [==============================] - 102s 363ms/step - loss: 0.0390 - accuracy: 0.9889 - auc: 0.9938 - val_loss: 0.0409 - val_accuracy: 0.9861 - val_auc: 0.9938\n"
     ]
    },
    {
     "name": "stderr",
     "output_type": "stream",
     "text": [
      " 75%|███████▌  | 3/4 [15:41<05:12, 312.95s/it]"
     ]
    },
    {
     "name": "stdout",
     "output_type": "stream",
     "text": [
      "Epoch 1/5\n",
      "282/282 [==============================] - 107s 366ms/step - loss: 0.0367 - accuracy: 0.9883 - auc: 0.9955 - val_loss: 0.0379 - val_accuracy: 0.9879 - val_auc: 0.9936\n",
      "Epoch 2/5\n",
      "282/282 [==============================] - 103s 365ms/step - loss: 0.0355 - accuracy: 0.9882 - auc: 0.9957 - val_loss: 0.0368 - val_accuracy: 0.9880 - val_auc: 0.9936\n",
      "Epoch 3/5\n",
      "282/282 [==============================] - 102s 363ms/step - loss: 0.0344 - accuracy: 0.9887 - auc: 0.9964 - val_loss: 0.0364 - val_accuracy: 0.9880 - val_auc: 0.9942\n"
     ]
    },
    {
     "name": "stderr",
     "output_type": "stream",
     "text": [
      "100%|██████████| 4/4 [20:53<00:00, 313.31s/it]"
     ]
    },
    {
     "name": "stdout",
     "output_type": "stream",
     "text": [
      "CPU times: user 19min 22s, sys: 1min 41s, total: 21min 3s\n",
      "Wall time: 20min 53s\n"
     ]
    },
    {
     "name": "stderr",
     "output_type": "stream",
     "text": [
      "\n"
     ]
    }
   ],
   "source": [
    "%%time\n",
    "batch_size = 15000\n",
    "num_batches = len(essay_dataset_raw)//batch_size\n",
    "\n",
    "batch_batch_size = 32\n",
    "num_epochs = 5\n",
    "learning_rate = 5e-5\n",
    "\n",
    "essay_dataset_raw_batches = np.array_split(essay_dataset_raw.iloc[:,1], num_batches)\n",
    "essay_label_batches = np.array_split(essay_dataset_raw.iloc[:,0], num_batches)\n",
    "\n",
    "test_evaluation_results = []\n",
    "\n",
    "for batch_no in tqdm(range(num_batches)):\n",
    "    \n",
    "    #Train:CV:Test :: i:j:k \n",
    "    i, j = 40, 30\n",
    "    essay_batch = essay_dataset_raw_batches[batch_no]\n",
    "    label_batch = essay_label_batches[batch_no]\n",
    "\n",
    "    fraction_size = len(essay_batch)//(i+j)\n",
    "    essay_train, essay_CV = tf.split(essay_batch, [fraction_size*i, len(essay_batch)-fraction_size*i], 0)\n",
    "    label_train, label_CV = tf.split(label_batch, [fraction_size*i, len(label_batch)-fraction_size*i], 0)\n",
    "    \n",
    "    model.compile(\n",
    "    loss = 'binary_crossentropy',\n",
    "    optimizer = get_optimizer(batch_no, learning_rate),\n",
    "    metrics = ['accuracy', 'AUC'])\n",
    "    \n",
    "    h = model.fit(essay_train, label_train,\n",
    "                    validation_data = (essay_CV, label_CV),\n",
    "                    batch_size = batch_batch_size,\n",
    "                    epochs = num_epochs,\n",
    "                    callbacks = [tf.keras.callbacks.EarlyStopping(monitor = 'val_auc', patience = 0, mode = 'max', \n",
    "                                 restore_best_weights = True, min_delta = 0.005, start_from_epoch = 1)])\n",
    "    \n",
    "    learning_rate = learning_rate*0.95\n",
    "    \n",
    "#     print('Evaluation of model after: ',batch_no)\n",
    "#     _ = model.evaluate(essay_test, label_test)\n",
    "#     test_evaluation_results.append(_)\n",
    "#     print('\\n\\n')\n",
    "    \n",
    "\n",
    "# h = model.fit(\n",
    "#    encoded_essay_train, label_train,\n",
    "#    validation_data = (encoded_essay_CV, label_CV),\n",
    "#    epochs = 20,\n",
    "#     callbacks = [\n",
    "#       tf.keras.callbacks.EarlyStopping(monitor = 'val_auc', patience = 1, mode = 'max', \n",
    "#                                       restore_best_weights = True, min_delta = 0.0, start_from_epoch = 2)\n",
    "#    ]\n",
    "# )"
   ]
  },
  {
   "cell_type": "code",
   "execution_count": 13,
   "id": "bbd8fc7b",
   "metadata": {
    "execution": {
     "iopub.execute_input": "2024-01-12T14:53:10.977198Z",
     "iopub.status.busy": "2024-01-12T14:53:10.976292Z",
     "iopub.status.idle": "2024-01-12T14:53:10.980587Z",
     "shell.execute_reply": "2024-01-12T14:53:10.979718Z"
    },
    "papermill": {
     "duration": 0.291652,
     "end_time": "2024-01-12T14:53:10.982474",
     "exception": false,
     "start_time": "2024-01-12T14:53:10.690822",
     "status": "completed"
    },
    "tags": []
   },
   "outputs": [],
   "source": [
    "# test_data = pd.read_csv('/kaggle/input/daigt-proper-train-dataset/train_drcat_04.csv')\n",
    "# #test_data.drop(columns = 'generated', inplace = True)"
   ]
  },
  {
   "cell_type": "code",
   "execution_count": 14,
   "id": "eb1009b7",
   "metadata": {
    "execution": {
     "iopub.execute_input": "2024-01-12T14:53:11.602594Z",
     "iopub.status.busy": "2024-01-12T14:53:11.601885Z",
     "iopub.status.idle": "2024-01-12T14:53:11.606144Z",
     "shell.execute_reply": "2024-01-12T14:53:11.605283Z"
    },
    "papermill": {
     "duration": 0.341286,
     "end_time": "2024-01-12T14:53:11.608131",
     "exception": false,
     "start_time": "2024-01-12T14:53:11.266845",
     "status": "completed"
    },
    "tags": []
   },
   "outputs": [],
   "source": [
    "# test_data.head()\n",
    "# print(test_data.shape)\n",
    "\n",
    "# test_data_subset = test_data.sample(frac = 0.02)\n",
    "# print(test_data_subset.shape)\n",
    "# test_data_subset.head()\n",
    "\n",
    "# test_data_subset['text'] = test_data_subset['text'].apply(remove_multiple_whitespace)"
   ]
  },
  {
   "cell_type": "code",
   "execution_count": 15,
   "id": "eede1242",
   "metadata": {
    "execution": {
     "iopub.execute_input": "2024-01-12T14:53:12.180547Z",
     "iopub.status.busy": "2024-01-12T14:53:12.180142Z",
     "iopub.status.idle": "2024-01-12T14:53:12.184347Z",
     "shell.execute_reply": "2024-01-12T14:53:12.183439Z"
    },
    "papermill": {
     "duration": 0.290838,
     "end_time": "2024-01-12T14:53:12.186404",
     "exception": false,
     "start_time": "2024-01-12T14:53:11.895566",
     "status": "completed"
    },
    "tags": []
   },
   "outputs": [],
   "source": [
    "# model.evaluate(test_data_subset['text'],test_data_subset['label'])\n",
    "\n",
    "# #[0.2413991540670395, 0.9253393411636353, 0.9713884592056274] with lr schedule 01\n",
    "# #[0.14819669723510742, 0.935520350933075, 0.9877243041992188] with lr schedule 02\n",
    "# #[0.21204924583435059, 0.9151583909988403, 0.9826033115386963] with lr schedule 03 0.95*lr_rate wala change\n",
    "# #[0.15001502633094788, 0.9377828240394592, 0.9906003475189209] with data sampled after splitting essays\n",
    "# #[0.20597843825817108, 0.9208144545555115, 0.9838585257530212] after removing multiple whitesapce and tab charaters"
   ]
  },
  {
   "cell_type": "code",
   "execution_count": 16,
   "id": "c2922981",
   "metadata": {
    "execution": {
     "iopub.execute_input": "2024-01-12T14:53:12.764112Z",
     "iopub.status.busy": "2024-01-12T14:53:12.763071Z",
     "iopub.status.idle": "2024-01-12T14:53:12.767478Z",
     "shell.execute_reply": "2024-01-12T14:53:12.766746Z"
    },
    "papermill": {
     "duration": 0.297881,
     "end_time": "2024-01-12T14:53:12.769382",
     "exception": false,
     "start_time": "2024-01-12T14:53:12.471501",
     "status": "completed"
    },
    "tags": []
   },
   "outputs": [],
   "source": [
    "#model.export('ai_text_det_kaggle.pkl')\n",
    "#tf.saved_model.save(model, 'ai_text_det_kaggle_saved_model_02.pkl')\n",
    "#model.save('ai_text_det_kaggle_saved_model_03.keras')"
   ]
  },
  {
   "cell_type": "code",
   "execution_count": 17,
   "id": "65d55d71",
   "metadata": {
    "execution": {
     "iopub.execute_input": "2024-01-12T14:53:13.356136Z",
     "iopub.status.busy": "2024-01-12T14:53:13.355797Z",
     "iopub.status.idle": "2024-01-12T14:53:13.375505Z",
     "shell.execute_reply": "2024-01-12T14:53:13.374736Z"
    },
    "papermill": {
     "duration": 0.306714,
     "end_time": "2024-01-12T14:53:13.377395",
     "exception": false,
     "start_time": "2024-01-12T14:53:13.070681",
     "status": "completed"
    },
    "tags": []
   },
   "outputs": [],
   "source": [
    "test_data = pd.read_csv('/kaggle/input/llm-detect-ai-generated-text/test_essays.csv')"
   ]
  },
  {
   "cell_type": "code",
   "execution_count": 18,
   "id": "ff884ae5",
   "metadata": {
    "execution": {
     "iopub.execute_input": "2024-01-12T14:53:13.953742Z",
     "iopub.status.busy": "2024-01-12T14:53:13.953101Z",
     "iopub.status.idle": "2024-01-12T14:53:13.963136Z",
     "shell.execute_reply": "2024-01-12T14:53:13.962297Z"
    },
    "papermill": {
     "duration": 0.302703,
     "end_time": "2024-01-12T14:53:13.965335",
     "exception": false,
     "start_time": "2024-01-12T14:53:13.662632",
     "status": "completed"
    },
    "tags": []
   },
   "outputs": [],
   "source": [
    "# Apply the function to the 'text' column\n",
    "#test_data['text_sequences'] = test_data['text_sequences'].apply(remove_multiple_whitespace)\n",
    "test_data['text_sequences'] = test_data['text'].apply(split_text_into_sequences)\n",
    "\n",
    "# Explode the sequences to create rows for each sequence\n",
    "df_exploded = test_data.explode('text_sequences')\n",
    "\n",
    "# Drop the original 'text' column\n",
    "df_exploded = df_exploded.drop('text', axis=1)\n",
    "\n",
    "#Resetting test_data\n",
    "test_data = df_exploded.copy()\n",
    "del df_exploded\n",
    "\n"
   ]
  },
  {
   "cell_type": "code",
   "execution_count": 19,
   "id": "eddab2de",
   "metadata": {
    "execution": {
     "iopub.execute_input": "2024-01-12T14:53:14.543029Z",
     "iopub.status.busy": "2024-01-12T14:53:14.542672Z",
     "iopub.status.idle": "2024-01-12T14:53:15.396758Z",
     "shell.execute_reply": "2024-01-12T14:53:15.395784Z"
    },
    "papermill": {
     "duration": 1.139562,
     "end_time": "2024-01-12T14:53:15.398619",
     "exception": false,
     "start_time": "2024-01-12T14:53:14.259057",
     "status": "completed"
    },
    "tags": []
   },
   "outputs": [
    {
     "name": "stdout",
     "output_type": "stream",
     "text": [
      "1/1 [==============================] - 1s 800ms/step\n",
      "CPU times: user 860 ms, sys: 4.01 ms, total: 864 ms\n",
      "Wall time: 847 ms\n"
     ]
    }
   ],
   "source": [
    "%%time\n",
    "# encoded_test_data = encoder_model(train_essays_01_source.iloc[:10000, 0])\n",
    "# test_set_predictions = model.predict(encoded_test_data)\n",
    "\n",
    "\n",
    "if len(test_data)<100:\n",
    "    test_set_predictions = model.predict(test_data.iloc[:, 2])\n",
    "\n",
    "else:\n",
    "    batch_size = 100\n",
    "    num_batches = len(test_data)//batch_size\n",
    "\n",
    "    test_data_batches = np.array_split(test_data, num_batches)\n",
    "    test_set_predictions_batch_list = []\n",
    "\n",
    "    for batch in tqdm(test_data_batches):\n",
    "        test_set_predictions_batch = model.predict(batch.iloc[:, 2])\n",
    "        test_set_predictions_batch_list.append(test_set_predictions_batch)\n",
    "\n",
    "    test_set_predictions = np.concatenate(test_set_predictions_batch_list, axis = 0)"
   ]
  },
  {
   "cell_type": "code",
   "execution_count": 20,
   "id": "f9182043",
   "metadata": {
    "execution": {
     "iopub.execute_input": "2024-01-12T14:53:16.020239Z",
     "iopub.status.busy": "2024-01-12T14:53:16.019879Z",
     "iopub.status.idle": "2024-01-12T14:53:16.035759Z",
     "shell.execute_reply": "2024-01-12T14:53:16.035047Z"
    },
    "papermill": {
     "duration": 0.306358,
     "end_time": "2024-01-12T14:53:16.037789",
     "exception": false,
     "start_time": "2024-01-12T14:53:15.731431",
     "status": "completed"
    },
    "tags": []
   },
   "outputs": [],
   "source": [
    "test_data['prediction'] = test_set_predictions.flatten()\n",
    "\n",
    "test_data_agg = test_data.groupby(['id','prompt_id']).aggregate({'prediction':'mean'})\n",
    "\n",
    "test_data_agg.reset_index(inplace = True)\n",
    "\n",
    "test_data_agg.rename(columns = {'prediction':'genarated'}, inplace = True)"
   ]
  },
  {
   "cell_type": "code",
   "execution_count": 21,
   "id": "cf238078",
   "metadata": {
    "execution": {
     "iopub.execute_input": "2024-01-12T14:53:16.607663Z",
     "iopub.status.busy": "2024-01-12T14:53:16.607296Z",
     "iopub.status.idle": "2024-01-12T14:53:16.615956Z",
     "shell.execute_reply": "2024-01-12T14:53:16.615230Z"
    },
    "papermill": {
     "duration": 0.296544,
     "end_time": "2024-01-12T14:53:16.618012",
     "exception": false,
     "start_time": "2024-01-12T14:53:16.321468",
     "status": "completed"
    },
    "tags": []
   },
   "outputs": [],
   "source": [
    "test_data_agg['genarated'] = np.round(test_data_agg['genarated'], decimals = 4)\n",
    "submission = test_data_agg[['id', 'genarated']]\n",
    "submission.to_csv('/kaggle/working/submission.csv', index = False, header = submission.columns.tolist())"
   ]
  },
  {
   "cell_type": "markdown",
   "id": "e0a243ff",
   "metadata": {
    "papermill": {
     "duration": 0.284509,
     "end_time": "2024-01-12T14:53:17.193434",
     "exception": false,
     "start_time": "2024-01-12T14:53:16.908925",
     "status": "completed"
    },
    "tags": []
   },
   "source": [
    "# EDA"
   ]
  },
  {
   "cell_type": "code",
   "execution_count": 22,
   "id": "8b9b13ac",
   "metadata": {
    "execution": {
     "iopub.execute_input": "2024-01-12T14:53:17.819895Z",
     "iopub.status.busy": "2024-01-12T14:53:17.819081Z",
     "iopub.status.idle": "2024-01-12T14:53:17.823673Z",
     "shell.execute_reply": "2024-01-12T14:53:17.822794Z"
    },
    "papermill": {
     "duration": 0.319976,
     "end_time": "2024-01-12T14:53:17.825854",
     "exception": false,
     "start_time": "2024-01-12T14:53:17.505878",
     "status": "completed"
    },
    "tags": []
   },
   "outputs": [],
   "source": [
    "# import matplotlib.pyplot as plt\n",
    "# import numpy\n",
    "# from sklearn import metrics\n",
    "\n",
    "# def plot_confusion_matrix(label_test, test_set_predictions, threashold = 0.5):\n",
    "    \n",
    "#     if not test_set_pred_labels:\n",
    "#         test_set_pred_labels = [prob >= threashold for prob in test_set_predictions.flatten()]\n",
    "\n",
    "#     confusion_matrix = metrics.confusion_matrix(label_test, test_set_pred_labels)\n",
    "\n",
    "#     cm_display = metrics.ConfusionMatrixDisplay(confusion_matrix = confusion_matrix, display_labels = [False, True])\n",
    "\n",
    "#     cm_display.plot()\n",
    "#     plt.show()"
   ]
  },
  {
   "cell_type": "code",
   "execution_count": 23,
   "id": "dda4eaf9",
   "metadata": {
    "execution": {
     "iopub.execute_input": "2024-01-12T14:53:18.473948Z",
     "iopub.status.busy": "2024-01-12T14:53:18.473074Z",
     "iopub.status.idle": "2024-01-12T14:53:18.477167Z",
     "shell.execute_reply": "2024-01-12T14:53:18.476314Z"
    },
    "papermill": {
     "duration": 0.292317,
     "end_time": "2024-01-12T14:53:18.479176",
     "exception": false,
     "start_time": "2024-01-12T14:53:18.186859",
     "status": "completed"
    },
    "tags": []
   },
   "outputs": [],
   "source": [
    "# plot_confusion_matrix(label_test, test_set_predictions, 0.5)"
   ]
  },
  {
   "cell_type": "code",
   "execution_count": 24,
   "id": "7441336a",
   "metadata": {
    "execution": {
     "iopub.execute_input": "2024-01-12T14:53:19.052858Z",
     "iopub.status.busy": "2024-01-12T14:53:19.052509Z",
     "iopub.status.idle": "2024-01-12T14:53:19.057216Z",
     "shell.execute_reply": "2024-01-12T14:53:19.056359Z"
    },
    "papermill": {
     "duration": 0.292409,
     "end_time": "2024-01-12T14:53:19.059016",
     "exception": false,
     "start_time": "2024-01-12T14:53:18.766607",
     "status": "completed"
    },
    "tags": []
   },
   "outputs": [],
   "source": [
    "# import numpy as np\n",
    "# from sklearn.metrics import accuracy_score, confusion_matrix, roc_auc_score, roc_curve\n",
    "# import matplotlib.pyplot as plt\n",
    "# import plotly.graph_objects as go\n",
    "# from sklearn.metrics import roc_curve\n",
    "\n",
    "# def plot_roc_curve(true_y, y_prob):\n",
    "#     \"\"\"\n",
    "#     Plots an interactive ROC curve based on the probabilities and displays thresholds on hover.\n",
    "#     \"\"\"\n",
    "    \n",
    "#     fpr, tpr, thresholds = roc_curve(true_y, y_prob, drop_intermediate=False)\n",
    "\n",
    "#     fig = go.Figure()\n",
    "\n",
    "#     fig.add_trace(go.Scatter(x=fpr, y=tpr, mode='lines', name='ROC Curve', hovertext=[f'Threshold: {threshold:.2f}' for threshold in thresholds]))\n",
    "\n",
    "#     fig.update_layout(\n",
    "#         title='ROC Curve',\n",
    "#         xaxis=dict(title='False Positive Rate'),\n",
    "#         yaxis=dict(title='True Positive Rate'),\n",
    "#         hovermode='closest'\n",
    "#     )\n",
    "\n",
    "#     fig.show()"
   ]
  },
  {
   "cell_type": "code",
   "execution_count": 25,
   "id": "b22f8023",
   "metadata": {
    "execution": {
     "iopub.execute_input": "2024-01-12T14:53:19.631342Z",
     "iopub.status.busy": "2024-01-12T14:53:19.630956Z",
     "iopub.status.idle": "2024-01-12T14:53:19.634939Z",
     "shell.execute_reply": "2024-01-12T14:53:19.634053Z"
    },
    "papermill": {
     "duration": 0.292403,
     "end_time": "2024-01-12T14:53:19.636816",
     "exception": false,
     "start_time": "2024-01-12T14:53:19.344413",
     "status": "completed"
    },
    "tags": []
   },
   "outputs": [],
   "source": [
    "# plot_roc_curve(label_test, test_set_predictions.flatten())\n",
    "#print('ROC AUC Score: ',roc_auc_score(label_test, test_set_predictions.flatten()))"
   ]
  },
  {
   "cell_type": "markdown",
   "id": "8b9b91bb",
   "metadata": {
    "papermill": {
     "duration": 0.285251,
     "end_time": "2024-01-12T14:53:20.207407",
     "exception": false,
     "start_time": "2024-01-12T14:53:19.922156",
     "status": "completed"
    },
    "tags": []
   },
   "source": [
    "# TEST Data Predctions, a different approach!"
   ]
  },
  {
   "cell_type": "code",
   "execution_count": 26,
   "id": "815e58cc",
   "metadata": {
    "execution": {
     "iopub.execute_input": "2024-01-12T14:53:20.828297Z",
     "iopub.status.busy": "2024-01-12T14:53:20.827845Z",
     "iopub.status.idle": "2024-01-12T14:53:20.832612Z",
     "shell.execute_reply": "2024-01-12T14:53:20.831583Z"
    },
    "papermill": {
     "duration": 0.344184,
     "end_time": "2024-01-12T14:53:20.834994",
     "exception": false,
     "start_time": "2024-01-12T14:53:20.490810",
     "status": "completed"
    },
    "tags": []
   },
   "outputs": [],
   "source": [
    "# test_data.info()"
   ]
  },
  {
   "cell_type": "code",
   "execution_count": 27,
   "id": "45418084",
   "metadata": {
    "execution": {
     "iopub.execute_input": "2024-01-12T14:53:21.407490Z",
     "iopub.status.busy": "2024-01-12T14:53:21.406719Z",
     "iopub.status.idle": "2024-01-12T14:53:21.410991Z",
     "shell.execute_reply": "2024-01-12T14:53:21.410018Z"
    },
    "papermill": {
     "duration": 0.293028,
     "end_time": "2024-01-12T14:53:21.412971",
     "exception": false,
     "start_time": "2024-01-12T14:53:21.119943",
     "status": "completed"
    },
    "tags": []
   },
   "outputs": [],
   "source": [
    "# test_data = pd.read_csv('/kaggle/input/daigt-proper-train-dataset/train_drcat_04.csv')\n",
    "# #test_data.drop(columns = 'generated', inplace = True)"
   ]
  },
  {
   "cell_type": "code",
   "execution_count": 28,
   "id": "5025aef6",
   "metadata": {
    "execution": {
     "iopub.execute_input": "2024-01-12T14:53:21.982226Z",
     "iopub.status.busy": "2024-01-12T14:53:21.981471Z",
     "iopub.status.idle": "2024-01-12T14:53:21.985650Z",
     "shell.execute_reply": "2024-01-12T14:53:21.984812Z"
    },
    "papermill": {
     "duration": 0.290773,
     "end_time": "2024-01-12T14:53:21.987477",
     "exception": false,
     "start_time": "2024-01-12T14:53:21.696704",
     "status": "completed"
    },
    "tags": []
   },
   "outputs": [],
   "source": [
    "# test_data_label = test_data[['essay_id','text']].copy()\n",
    "# test_data.drop(columns = ['source', 'prompt','fold'], inplace = True)\n",
    "# test_data.rename(columns = {'essay_id':'id'}, inplace = True)\n",
    "# test_data['prompt_id'] = test_data['id']"
   ]
  },
  {
   "cell_type": "code",
   "execution_count": 29,
   "id": "dced5c64",
   "metadata": {
    "execution": {
     "iopub.execute_input": "2024-01-12T14:53:22.560280Z",
     "iopub.status.busy": "2024-01-12T14:53:22.559294Z",
     "iopub.status.idle": "2024-01-12T14:53:22.563374Z",
     "shell.execute_reply": "2024-01-12T14:53:22.562636Z"
    },
    "papermill": {
     "duration": 0.292747,
     "end_time": "2024-01-12T14:53:22.565173",
     "exception": false,
     "start_time": "2024-01-12T14:53:22.272426",
     "status": "completed"
    },
    "tags": []
   },
   "outputs": [],
   "source": [
    "# len(test_data.iloc[6,1].split())\n",
    "# #test_data.iloc[6,1]"
   ]
  },
  {
   "cell_type": "code",
   "execution_count": 30,
   "id": "209ce0cc",
   "metadata": {
    "execution": {
     "iopub.execute_input": "2024-01-12T14:53:23.168589Z",
     "iopub.status.busy": "2024-01-12T14:53:23.168215Z",
     "iopub.status.idle": "2024-01-12T14:53:23.172212Z",
     "shell.execute_reply": "2024-01-12T14:53:23.171413Z"
    },
    "papermill": {
     "duration": 0.292085,
     "end_time": "2024-01-12T14:53:23.174070",
     "exception": false,
     "start_time": "2024-01-12T14:53:22.881985",
     "status": "completed"
    },
    "tags": []
   },
   "outputs": [],
   "source": [
    "# test_data.info()\n",
    "# test_data = test_data.sample(frac = 0.25)"
   ]
  },
  {
   "cell_type": "code",
   "execution_count": 31,
   "id": "b21f5ee6",
   "metadata": {
    "execution": {
     "iopub.execute_input": "2024-01-12T14:53:23.797881Z",
     "iopub.status.busy": "2024-01-12T14:53:23.797535Z",
     "iopub.status.idle": "2024-01-12T14:53:23.801476Z",
     "shell.execute_reply": "2024-01-12T14:53:23.800633Z"
    },
    "papermill": {
     "duration": 0.34417,
     "end_time": "2024-01-12T14:53:23.803339",
     "exception": false,
     "start_time": "2024-01-12T14:53:23.459169",
     "status": "completed"
    },
    "tags": []
   },
   "outputs": [],
   "source": [
    "# test_data.info()"
   ]
  },
  {
   "cell_type": "code",
   "execution_count": 32,
   "id": "f003f641",
   "metadata": {
    "execution": {
     "iopub.execute_input": "2024-01-12T14:53:24.375064Z",
     "iopub.status.busy": "2024-01-12T14:53:24.374155Z",
     "iopub.status.idle": "2024-01-12T14:53:24.379000Z",
     "shell.execute_reply": "2024-01-12T14:53:24.378135Z"
    },
    "papermill": {
     "duration": 0.29337,
     "end_time": "2024-01-12T14:53:24.380873",
     "exception": false,
     "start_time": "2024-01-12T14:53:24.087503",
     "status": "completed"
    },
    "tags": []
   },
   "outputs": [],
   "source": [
    "# from nltk.tokenize import word_tokenize\n",
    "# from nltk import sent_tokenize\n",
    "\n",
    "\n",
    "# # Function to split text into sequences of 128 words\n",
    "# def split_text_into_sequences(text):\n",
    "#     words = word_tokenize(text)\n",
    "#     sequences = [words[i:i + 128] for i in range(0, len(words), 128)]\n",
    "#     return [' '.join(seq) for seq in sequences]\n",
    "\n",
    "\n",
    "# # Apply the function to the 'text' column\n",
    "# test_data['text_sequences'] = test_data['text'].apply(split_text_into_sequences)\n",
    "\n",
    "# # Explode the sequences to create rows for each sequence\n",
    "# df_exploded = test_data.explode('text_sequences')\n",
    "\n",
    "# # Drop the original 'text' column\n",
    "# df_exploded = df_exploded.drop('text', axis=1)\n",
    "\n",
    "# #Resetting test_data\n",
    "# test_data = df_exploded.copy()\n",
    "# del df_exploded\n",
    "\n",
    "\n",
    "\n"
   ]
  },
  {
   "cell_type": "code",
   "execution_count": 33,
   "id": "4ca80bb4",
   "metadata": {
    "execution": {
     "iopub.execute_input": "2024-01-12T14:53:24.951010Z",
     "iopub.status.busy": "2024-01-12T14:53:24.950315Z",
     "iopub.status.idle": "2024-01-12T14:53:24.954332Z",
     "shell.execute_reply": "2024-01-12T14:53:24.953490Z"
    },
    "papermill": {
     "duration": 0.291782,
     "end_time": "2024-01-12T14:53:24.956337",
     "exception": false,
     "start_time": "2024-01-12T14:53:24.664555",
     "status": "completed"
    },
    "tags": []
   },
   "outputs": [],
   "source": [
    "# test_data = test_data.sample(frac = 8, replace = True)"
   ]
  },
  {
   "cell_type": "code",
   "execution_count": 34,
   "id": "403a49fb",
   "metadata": {
    "execution": {
     "iopub.execute_input": "2024-01-12T14:53:25.527792Z",
     "iopub.status.busy": "2024-01-12T14:53:25.527096Z",
     "iopub.status.idle": "2024-01-12T14:53:25.531444Z",
     "shell.execute_reply": "2024-01-12T14:53:25.530586Z"
    },
    "papermill": {
     "duration": 0.292296,
     "end_time": "2024-01-12T14:53:25.533228",
     "exception": false,
     "start_time": "2024-01-12T14:53:25.240932",
     "status": "completed"
    },
    "tags": []
   },
   "outputs": [],
   "source": [
    "# %%time\n",
    "# tqdm\n",
    "# # Apply the function to the 'text' column\n",
    "# test_data['text_sequences'] = test_data['text'].apply(split_text_into_sequences)\n",
    "\n",
    "# # Explode the sequences to create rows for each sequence\n",
    "# df_exploded = test_data.explode('text_sequences')\n",
    "\n",
    "# # Drop the original 'text' column\n",
    "# df_exploded = df_exploded.drop('text', axis=1)\n",
    "\n",
    "# # Display the resulting dataframe\n",
    "# print(df_exploded)"
   ]
  },
  {
   "cell_type": "code",
   "execution_count": 35,
   "id": "493334e1",
   "metadata": {
    "execution": {
     "iopub.execute_input": "2024-01-12T14:53:26.103714Z",
     "iopub.status.busy": "2024-01-12T14:53:26.102890Z",
     "iopub.status.idle": "2024-01-12T14:53:26.107542Z",
     "shell.execute_reply": "2024-01-12T14:53:26.106621Z"
    },
    "papermill": {
     "duration": 0.292717,
     "end_time": "2024-01-12T14:53:26.109467",
     "exception": false,
     "start_time": "2024-01-12T14:53:25.816750",
     "status": "completed"
    },
    "tags": []
   },
   "outputs": [],
   "source": [
    "# test_data = df_exploded"
   ]
  },
  {
   "cell_type": "code",
   "execution_count": 36,
   "id": "3dc78799",
   "metadata": {
    "execution": {
     "iopub.execute_input": "2024-01-12T14:53:26.730047Z",
     "iopub.status.busy": "2024-01-12T14:53:26.729185Z",
     "iopub.status.idle": "2024-01-12T14:53:26.734061Z",
     "shell.execute_reply": "2024-01-12T14:53:26.733155Z"
    },
    "papermill": {
     "duration": 0.292661,
     "end_time": "2024-01-12T14:53:26.736047",
     "exception": false,
     "start_time": "2024-01-12T14:53:26.443386",
     "status": "completed"
    },
    "tags": []
   },
   "outputs": [],
   "source": [
    "# %%time\n",
    "# # encoded_test_data = encoder_model(train_essays_01_source.iloc[:10000, 0])\n",
    "# # test_set_predictions = model.predict(encoded_test_data)\n",
    "\n",
    "\n",
    "# if len(test_data)<100:\n",
    "#     encoded_test_data = encoder_model(test_data.iloc[:, 3])\n",
    "#     test_set_predictions = model.predict(encoded_test_data)\n",
    "\n",
    "# else:\n",
    "#     batch_size = 100\n",
    "#     num_batches = len(test_data)//batch_size\n",
    "\n",
    "#     test_data_batches = np.array_split(test_data, num_batches)\n",
    "#     test_set_predictions_batch_list = []\n",
    "\n",
    "#     for batch in test_data_batches:\n",
    "#         encoded_test_data_batch = encoder_model(batch.iloc[:, 3])\n",
    "#         test_set_predictions_batch = model.predict(encoded_test_data_batch)\n",
    "#         test_set_predictions_batch_list.append(test_set_predictions_batch)\n",
    "\n",
    "#     test_set_predictions = np.concatenate(test_set_predictions_batch_list, axis = 0)"
   ]
  },
  {
   "cell_type": "code",
   "execution_count": 37,
   "id": "f8f0a4aa",
   "metadata": {
    "execution": {
     "iopub.execute_input": "2024-01-12T14:53:27.303298Z",
     "iopub.status.busy": "2024-01-12T14:53:27.302468Z",
     "iopub.status.idle": "2024-01-12T14:53:27.306602Z",
     "shell.execute_reply": "2024-01-12T14:53:27.305814Z"
    },
    "papermill": {
     "duration": 0.2894,
     "end_time": "2024-01-12T14:53:27.308376",
     "exception": false,
     "start_time": "2024-01-12T14:53:27.018976",
     "status": "completed"
    },
    "tags": []
   },
   "outputs": [],
   "source": [
    "# batch.iloc[:, 3]"
   ]
  },
  {
   "cell_type": "code",
   "execution_count": 38,
   "id": "3f0da883",
   "metadata": {
    "execution": {
     "iopub.execute_input": "2024-01-12T14:53:27.882460Z",
     "iopub.status.busy": "2024-01-12T14:53:27.881623Z",
     "iopub.status.idle": "2024-01-12T14:53:27.885706Z",
     "shell.execute_reply": "2024-01-12T14:53:27.884859Z"
    },
    "papermill": {
     "duration": 0.294148,
     "end_time": "2024-01-12T14:53:27.887698",
     "exception": false,
     "start_time": "2024-01-12T14:53:27.593550",
     "status": "completed"
    },
    "tags": []
   },
   "outputs": [],
   "source": [
    "# test_set_predictions.flatten()"
   ]
  },
  {
   "cell_type": "code",
   "execution_count": 39,
   "id": "0947c27d",
   "metadata": {
    "execution": {
     "iopub.execute_input": "2024-01-12T14:53:28.459325Z",
     "iopub.status.busy": "2024-01-12T14:53:28.458511Z",
     "iopub.status.idle": "2024-01-12T14:53:28.462600Z",
     "shell.execute_reply": "2024-01-12T14:53:28.461778Z"
    },
    "papermill": {
     "duration": 0.291995,
     "end_time": "2024-01-12T14:53:28.464583",
     "exception": false,
     "start_time": "2024-01-12T14:53:28.172588",
     "status": "completed"
    },
    "tags": []
   },
   "outputs": [],
   "source": [
    "# test_data['prediction'] = test_set_predictions.flatten()"
   ]
  },
  {
   "cell_type": "code",
   "execution_count": 40,
   "id": "2b815e15",
   "metadata": {
    "execution": {
     "iopub.execute_input": "2024-01-12T14:53:29.032758Z",
     "iopub.status.busy": "2024-01-12T14:53:29.032405Z",
     "iopub.status.idle": "2024-01-12T14:53:29.036364Z",
     "shell.execute_reply": "2024-01-12T14:53:29.035520Z"
    },
    "papermill": {
     "duration": 0.289215,
     "end_time": "2024-01-12T14:53:29.038358",
     "exception": false,
     "start_time": "2024-01-12T14:53:28.749143",
     "status": "completed"
    },
    "tags": []
   },
   "outputs": [],
   "source": [
    "# test_data.head()"
   ]
  },
  {
   "cell_type": "code",
   "execution_count": 41,
   "id": "7eefb832",
   "metadata": {
    "execution": {
     "iopub.execute_input": "2024-01-12T14:53:29.654800Z",
     "iopub.status.busy": "2024-01-12T14:53:29.653963Z",
     "iopub.status.idle": "2024-01-12T14:53:29.658186Z",
     "shell.execute_reply": "2024-01-12T14:53:29.657365Z"
    },
    "papermill": {
     "duration": 0.28945,
     "end_time": "2024-01-12T14:53:29.660344",
     "exception": false,
     "start_time": "2024-01-12T14:53:29.370894",
     "status": "completed"
    },
    "tags": []
   },
   "outputs": [],
   "source": [
    "# test_data['prediction'] = test_set_predictions.flatten()\n",
    "\n",
    "# test_data_agg = test_data.groupby(['id','prompt_id','label']).aggregate({'prediction':['max', 'min', 'mean', 'first']})\n",
    "\n",
    "# test_data_agg.reset_index(inplace = True)"
   ]
  },
  {
   "cell_type": "code",
   "execution_count": 42,
   "id": "3f354366",
   "metadata": {
    "execution": {
     "iopub.execute_input": "2024-01-12T14:53:30.229487Z",
     "iopub.status.busy": "2024-01-12T14:53:30.228647Z",
     "iopub.status.idle": "2024-01-12T14:53:30.232847Z",
     "shell.execute_reply": "2024-01-12T14:53:30.231992Z"
    },
    "papermill": {
     "duration": 0.289921,
     "end_time": "2024-01-12T14:53:30.234776",
     "exception": false,
     "start_time": "2024-01-12T14:53:29.944855",
     "status": "completed"
    },
    "tags": []
   },
   "outputs": [],
   "source": [
    "# test_data_agg.reset_index(inplace = True)"
   ]
  },
  {
   "cell_type": "code",
   "execution_count": 43,
   "id": "fecee18d",
   "metadata": {
    "execution": {
     "iopub.execute_input": "2024-01-12T14:53:30.804757Z",
     "iopub.status.busy": "2024-01-12T14:53:30.804421Z",
     "iopub.status.idle": "2024-01-12T14:53:30.808564Z",
     "shell.execute_reply": "2024-01-12T14:53:30.807636Z"
    },
    "papermill": {
     "duration": 0.291247,
     "end_time": "2024-01-12T14:53:30.810375",
     "exception": false,
     "start_time": "2024-01-12T14:53:30.519128",
     "status": "completed"
    },
    "tags": []
   },
   "outputs": [],
   "source": [
    "# pred_custom = []\n",
    "# for index,row in test_data_agg.iterrows():\n",
    "    \n",
    "#     if row['prediction']['first'] >= 0.5:\n",
    "#         pred_custom.append(row['prediction']['max'])\n",
    "#     else:\n",
    "#         pred_custom.append(row['prediction']['min'])\n",
    "    "
   ]
  },
  {
   "cell_type": "code",
   "execution_count": 44,
   "id": "08eca37b",
   "metadata": {
    "execution": {
     "iopub.execute_input": "2024-01-12T14:53:31.381210Z",
     "iopub.status.busy": "2024-01-12T14:53:31.380504Z",
     "iopub.status.idle": "2024-01-12T14:53:31.385383Z",
     "shell.execute_reply": "2024-01-12T14:53:31.384142Z"
    },
    "papermill": {
     "duration": 0.293204,
     "end_time": "2024-01-12T14:53:31.387445",
     "exception": false,
     "start_time": "2024-01-12T14:53:31.094241",
     "status": "completed"
    },
    "tags": []
   },
   "outputs": [],
   "source": [
    "# test_data_agg['custom'] = pred_custom"
   ]
  },
  {
   "cell_type": "code",
   "execution_count": 45,
   "id": "40501d27",
   "metadata": {
    "execution": {
     "iopub.execute_input": "2024-01-12T14:53:32.015766Z",
     "iopub.status.busy": "2024-01-12T14:53:32.015054Z",
     "iopub.status.idle": "2024-01-12T14:53:32.019177Z",
     "shell.execute_reply": "2024-01-12T14:53:32.018350Z"
    },
    "papermill": {
     "duration": 0.294252,
     "end_time": "2024-01-12T14:53:32.021162",
     "exception": false,
     "start_time": "2024-01-12T14:53:31.726910",
     "status": "completed"
    },
    "tags": []
   },
   "outputs": [],
   "source": [
    "# test_data_agg.head()"
   ]
  },
  {
   "cell_type": "code",
   "execution_count": 46,
   "id": "b2da0a44",
   "metadata": {
    "execution": {
     "iopub.execute_input": "2024-01-12T14:53:32.615053Z",
     "iopub.status.busy": "2024-01-12T14:53:32.614385Z",
     "iopub.status.idle": "2024-01-12T14:53:32.618604Z",
     "shell.execute_reply": "2024-01-12T14:53:32.617739Z"
    },
    "papermill": {
     "duration": 0.306718,
     "end_time": "2024-01-12T14:53:32.620534",
     "exception": false,
     "start_time": "2024-01-12T14:53:32.313816",
     "status": "completed"
    },
    "tags": []
   },
   "outputs": [],
   "source": [
    "#print('ROC AUC Score: ',roc_auc_score(label_test, test_set_predictions.flatten()))"
   ]
  },
  {
   "cell_type": "code",
   "execution_count": 47,
   "id": "64be1ac9",
   "metadata": {
    "execution": {
     "iopub.execute_input": "2024-01-12T14:53:33.208991Z",
     "iopub.status.busy": "2024-01-12T14:53:33.208634Z",
     "iopub.status.idle": "2024-01-12T14:53:33.212585Z",
     "shell.execute_reply": "2024-01-12T14:53:33.211706Z"
    },
    "papermill": {
     "duration": 0.291971,
     "end_time": "2024-01-12T14:53:33.214416",
     "exception": false,
     "start_time": "2024-01-12T14:53:32.922445",
     "status": "completed"
    },
    "tags": []
   },
   "outputs": [],
   "source": [
    "# for i in range(3,8):\n",
    "#     print('ROC with metric:',test_data_agg.columns[i])\n",
    "#     print('ROC AUC Score: ',roc_auc_score(test_data_agg.iloc[:,2], test_data_agg.iloc[:,i]))"
   ]
  },
  {
   "cell_type": "code",
   "execution_count": 48,
   "id": "8af6ab32",
   "metadata": {
    "execution": {
     "iopub.execute_input": "2024-01-12T14:53:33.782792Z",
     "iopub.status.busy": "2024-01-12T14:53:33.782436Z",
     "iopub.status.idle": "2024-01-12T14:53:33.786620Z",
     "shell.execute_reply": "2024-01-12T14:53:33.785549Z"
    },
    "papermill": {
     "duration": 0.292056,
     "end_time": "2024-01-12T14:53:33.788537",
     "exception": false,
     "start_time": "2024-01-12T14:53:33.496481",
     "status": "completed"
    },
    "tags": []
   },
   "outputs": [],
   "source": [
    "# (0.9824285407738714 - 0.9667853753352559)*100"
   ]
  },
  {
   "cell_type": "code",
   "execution_count": null,
   "id": "ab49e2ec",
   "metadata": {
    "papermill": {
     "duration": 0.284597,
     "end_time": "2024-01-12T14:53:34.359066",
     "exception": false,
     "start_time": "2024-01-12T14:53:34.074469",
     "status": "completed"
    },
    "tags": []
   },
   "outputs": [],
   "source": []
  }
 ],
 "metadata": {
  "kaggle": {
   "accelerator": "gpu",
   "dataSources": [
    {
     "databundleVersionId": 6888007,
     "sourceId": 61542,
     "sourceType": "competition"
    },
    {
     "datasetId": 3942644,
     "sourceId": 6890527,
     "sourceType": "datasetVersion"
    },
    {
     "datasetId": 3961875,
     "sourceId": 6971638,
     "sourceType": "datasetVersion"
    },
    {
     "modelInstanceId": 1910,
     "sourceId": 2644,
     "sourceType": "modelInstanceVersion"
    },
    {
     "modelInstanceId": 2180,
     "sourceId": 2938,
     "sourceType": "modelInstanceVersion"
    }
   ],
   "dockerImageVersionId": 30627,
   "isGpuEnabled": true,
   "isInternetEnabled": false,
   "language": "python",
   "sourceType": "notebook"
  },
  "kernelspec": {
   "display_name": "Python 3",
   "language": "python",
   "name": "python3"
  },
  "language_info": {
   "codemirror_mode": {
    "name": "ipython",
    "version": 3
   },
   "file_extension": ".py",
   "mimetype": "text/x-python",
   "name": "python",
   "nbconvert_exporter": "python",
   "pygments_lexer": "ipython3",
   "version": "3.10.12"
  },
  "papermill": {
   "default_parameters": {},
   "duration": 1394.466444,
   "end_time": "2024-01-12T14:53:38.213928",
   "environment_variables": {},
   "exception": null,
   "input_path": "__notebook__.ipynb",
   "output_path": "__notebook__.ipynb",
   "parameters": {},
   "start_time": "2024-01-12T14:30:23.747484",
   "version": "2.4.0"
  }
 },
 "nbformat": 4,
 "nbformat_minor": 5
}
